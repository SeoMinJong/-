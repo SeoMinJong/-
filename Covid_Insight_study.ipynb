{
 "cells": [
  {
   "cell_type": "markdown",
   "source": [
    "## 코로나 : 시각화를 통한 인사이트 도출"
   ],
   "metadata": {}
  },
  {
   "cell_type": "markdown",
   "source": [
    "**참고 팀**: https://visualisingkorea.com/"
   ],
   "metadata": {}
  },
  {
   "cell_type": "markdown",
   "source": [
    "### 1. 준비."
   ],
   "metadata": {}
  },
  {
   "cell_type": "code",
   "execution_count": 2,
   "source": [
    "# 필요한 라이브러리를 가져온다.\r\n",
    "import pandas as pd\r\n",
    "import numpy as np\r\n",
    "import seaborn as sns\r\n",
    "import scipy.stats as st\r\n",
    "import matplotlib.pyplot as plt\r\n",
    "\r\n",
    "from sklearn.preprocessing import StandardScaler    # 표준화\r\n",
    "from sklearn.cluster import KMeans                  # 군집화\r\n",
    "from sklearn.decomposition import PCA               # 주성분"
   ],
   "outputs": [],
   "metadata": {}
  },
  {
   "cell_type": "code",
   "execution_count": 80,
   "source": [
    "# Pandas 데이터 프레임에서 float을 소수점 4자리 까지 출력해 준다.\r\n",
    "pd.set_option(\"precision\",4)"
   ],
   "outputs": [],
   "metadata": {}
  },
  {
   "cell_type": "code",
   "execution_count": 4,
   "source": [
    "# 성가신 경고를 꺼준다.\r\n",
    "import warnings  \r\n",
    "warnings.filterwarnings('ignore')"
   ],
   "outputs": [],
   "metadata": {}
  },
  {
   "cell_type": "code",
   "execution_count": 6,
   "source": [
    "# 환자정보 데이터를 불러온다.\r\n",
    "df1 = pd.read_csv('C:/study_data/bigdata/별첨 2_DACON_코로나 데이터 분석_업데이트 3/data/PatientInfo.csv')"
   ],
   "outputs": [],
   "metadata": {}
  },
  {
   "cell_type": "code",
   "execution_count": 7,
   "source": [
    "df1.head()"
   ],
   "outputs": [
    {
     "output_type": "execute_result",
     "data": {
      "text/plain": [
       "   patient_id  global_num     sex birth_year  age country province  \\\n",
       "0  1000000001         2.0    male       1964  50s   Korea    Seoul   \n",
       "1  1000000002         5.0    male       1987  30s   Korea    Seoul   \n",
       "2  1000000003         6.0    male       1964  50s   Korea    Seoul   \n",
       "3  1000000004         7.0    male       1991  20s   Korea    Seoul   \n",
       "4  1000000005         9.0  female       1992  20s   Korea    Seoul   \n",
       "\n",
       "          city disease        infection_case  infection_order infected_by  \\\n",
       "0   Gangseo-gu     NaN       overseas inflow              1.0         NaN   \n",
       "1  Jungnang-gu     NaN       overseas inflow              1.0         NaN   \n",
       "2    Jongno-gu     NaN  contact with patient              2.0  2002000001   \n",
       "3      Mapo-gu     NaN       overseas inflow              1.0         NaN   \n",
       "4  Seongbuk-gu     NaN  contact with patient              2.0  1000000002   \n",
       "\n",
       "  contact_number symptom_onset_date confirmed_date released_date  \\\n",
       "0             75         2020-01-22     2020-01-23    2020-02-05   \n",
       "1             31                NaN     2020-01-30    2020-03-02   \n",
       "2             17                NaN     2020-01-30    2020-02-19   \n",
       "3              9         2020-01-26     2020-01-30    2020-02-15   \n",
       "4              2                NaN     2020-01-31    2020-02-24   \n",
       "\n",
       "  deceased_date     state  \n",
       "0           NaN  released  \n",
       "1           NaN  released  \n",
       "2           NaN  released  \n",
       "3           NaN  released  \n",
       "4           NaN  released  "
      ],
      "text/html": [
       "<div>\n",
       "<style scoped>\n",
       "    .dataframe tbody tr th:only-of-type {\n",
       "        vertical-align: middle;\n",
       "    }\n",
       "\n",
       "    .dataframe tbody tr th {\n",
       "        vertical-align: top;\n",
       "    }\n",
       "\n",
       "    .dataframe thead th {\n",
       "        text-align: right;\n",
       "    }\n",
       "</style>\n",
       "<table border=\"1\" class=\"dataframe\">\n",
       "  <thead>\n",
       "    <tr style=\"text-align: right;\">\n",
       "      <th></th>\n",
       "      <th>patient_id</th>\n",
       "      <th>global_num</th>\n",
       "      <th>sex</th>\n",
       "      <th>birth_year</th>\n",
       "      <th>age</th>\n",
       "      <th>country</th>\n",
       "      <th>province</th>\n",
       "      <th>city</th>\n",
       "      <th>disease</th>\n",
       "      <th>infection_case</th>\n",
       "      <th>infection_order</th>\n",
       "      <th>infected_by</th>\n",
       "      <th>contact_number</th>\n",
       "      <th>symptom_onset_date</th>\n",
       "      <th>confirmed_date</th>\n",
       "      <th>released_date</th>\n",
       "      <th>deceased_date</th>\n",
       "      <th>state</th>\n",
       "    </tr>\n",
       "  </thead>\n",
       "  <tbody>\n",
       "    <tr>\n",
       "      <th>0</th>\n",
       "      <td>1000000001</td>\n",
       "      <td>2.0</td>\n",
       "      <td>male</td>\n",
       "      <td>1964</td>\n",
       "      <td>50s</td>\n",
       "      <td>Korea</td>\n",
       "      <td>Seoul</td>\n",
       "      <td>Gangseo-gu</td>\n",
       "      <td>NaN</td>\n",
       "      <td>overseas inflow</td>\n",
       "      <td>1.0</td>\n",
       "      <td>NaN</td>\n",
       "      <td>75</td>\n",
       "      <td>2020-01-22</td>\n",
       "      <td>2020-01-23</td>\n",
       "      <td>2020-02-05</td>\n",
       "      <td>NaN</td>\n",
       "      <td>released</td>\n",
       "    </tr>\n",
       "    <tr>\n",
       "      <th>1</th>\n",
       "      <td>1000000002</td>\n",
       "      <td>5.0</td>\n",
       "      <td>male</td>\n",
       "      <td>1987</td>\n",
       "      <td>30s</td>\n",
       "      <td>Korea</td>\n",
       "      <td>Seoul</td>\n",
       "      <td>Jungnang-gu</td>\n",
       "      <td>NaN</td>\n",
       "      <td>overseas inflow</td>\n",
       "      <td>1.0</td>\n",
       "      <td>NaN</td>\n",
       "      <td>31</td>\n",
       "      <td>NaN</td>\n",
       "      <td>2020-01-30</td>\n",
       "      <td>2020-03-02</td>\n",
       "      <td>NaN</td>\n",
       "      <td>released</td>\n",
       "    </tr>\n",
       "    <tr>\n",
       "      <th>2</th>\n",
       "      <td>1000000003</td>\n",
       "      <td>6.0</td>\n",
       "      <td>male</td>\n",
       "      <td>1964</td>\n",
       "      <td>50s</td>\n",
       "      <td>Korea</td>\n",
       "      <td>Seoul</td>\n",
       "      <td>Jongno-gu</td>\n",
       "      <td>NaN</td>\n",
       "      <td>contact with patient</td>\n",
       "      <td>2.0</td>\n",
       "      <td>2002000001</td>\n",
       "      <td>17</td>\n",
       "      <td>NaN</td>\n",
       "      <td>2020-01-30</td>\n",
       "      <td>2020-02-19</td>\n",
       "      <td>NaN</td>\n",
       "      <td>released</td>\n",
       "    </tr>\n",
       "    <tr>\n",
       "      <th>3</th>\n",
       "      <td>1000000004</td>\n",
       "      <td>7.0</td>\n",
       "      <td>male</td>\n",
       "      <td>1991</td>\n",
       "      <td>20s</td>\n",
       "      <td>Korea</td>\n",
       "      <td>Seoul</td>\n",
       "      <td>Mapo-gu</td>\n",
       "      <td>NaN</td>\n",
       "      <td>overseas inflow</td>\n",
       "      <td>1.0</td>\n",
       "      <td>NaN</td>\n",
       "      <td>9</td>\n",
       "      <td>2020-01-26</td>\n",
       "      <td>2020-01-30</td>\n",
       "      <td>2020-02-15</td>\n",
       "      <td>NaN</td>\n",
       "      <td>released</td>\n",
       "    </tr>\n",
       "    <tr>\n",
       "      <th>4</th>\n",
       "      <td>1000000005</td>\n",
       "      <td>9.0</td>\n",
       "      <td>female</td>\n",
       "      <td>1992</td>\n",
       "      <td>20s</td>\n",
       "      <td>Korea</td>\n",
       "      <td>Seoul</td>\n",
       "      <td>Seongbuk-gu</td>\n",
       "      <td>NaN</td>\n",
       "      <td>contact with patient</td>\n",
       "      <td>2.0</td>\n",
       "      <td>1000000002</td>\n",
       "      <td>2</td>\n",
       "      <td>NaN</td>\n",
       "      <td>2020-01-31</td>\n",
       "      <td>2020-02-24</td>\n",
       "      <td>NaN</td>\n",
       "      <td>released</td>\n",
       "    </tr>\n",
       "  </tbody>\n",
       "</table>\n",
       "</div>"
      ]
     },
     "metadata": {},
     "execution_count": 7
    }
   ],
   "metadata": {}
  },
  {
   "cell_type": "code",
   "execution_count": 8,
   "source": [
    "# 컬럼의 자료형을 살펴본다.\r\n",
    "df1.info()\r\n",
    "# 명목형 컬럼이 많다."
   ],
   "outputs": [
    {
     "output_type": "stream",
     "name": "stdout",
     "text": [
      "<class 'pandas.core.frame.DataFrame'>\n",
      "RangeIndex: 4004 entries, 0 to 4003\n",
      "Data columns (total 18 columns):\n",
      " #   Column              Non-Null Count  Dtype  \n",
      "---  ------              --------------  -----  \n",
      " 0   patient_id          4004 non-null   int64  \n",
      " 1   global_num          2806 non-null   float64\n",
      " 2   sex                 3674 non-null   object \n",
      " 3   birth_year          3267 non-null   object \n",
      " 4   age                 3525 non-null   object \n",
      " 5   country             4004 non-null   object \n",
      " 6   province            4004 non-null   object \n",
      " 7   city                3926 non-null   object \n",
      " 8   disease             18 non-null     object \n",
      " 9   infection_case      3211 non-null   object \n",
      " 10  infection_order     31 non-null     float64\n",
      " 11  infected_by         899 non-null    object \n",
      " 12  contact_number      680 non-null    object \n",
      " 13  symptom_onset_date  535 non-null    object \n",
      " 14  confirmed_date      4001 non-null   object \n",
      " 15  released_date       1508 non-null   object \n",
      " 16  deceased_date       65 non-null     object \n",
      " 17  state               4004 non-null   object \n",
      "dtypes: float64(2), int64(1), object(15)\n",
      "memory usage: 563.2+ KB\n"
     ]
    }
   ],
   "metadata": {}
  },
  {
   "cell_type": "markdown",
   "source": [
    "### 2. 기초적인 탐색."
   ],
   "metadata": {}
  },
  {
   "cell_type": "code",
   "execution_count": 9,
   "source": [
    "# 결측치의 총 카운트.\r\n",
    "# df1.isnull().sum() # 컬럼별로 결측치를 집결할 수 있다.\r\n",
    "df1.isnull().sum().sum()"
   ],
   "outputs": [
    {
     "output_type": "execute_result",
     "data": {
      "text/plain": [
       "27910"
      ]
     },
     "metadata": {},
     "execution_count": 9
    }
   ],
   "metadata": {}
  },
  {
   "cell_type": "code",
   "execution_count": 10,
   "source": [
    "# 결측치를 시각화 해본다.\r\n",
    "plt.figure(figsize = (15,10))                                       # figsize=(가로, 세로) 크기.\r\n",
    "sns.heatmap(df1.isnull(), cmap='Blues', cbar=False)\r\n",
    "# hitmap = 데이터의 값에 따라서 값의 분포를 나타내줘서 표현할 수 있다. cmap = 그래프의 표현 방법 , cbar = 값의 농도에 따라 달라지는 색을 표시해주는 바\r\n",
    "plt.show()"
   ],
   "outputs": [
    {
     "output_type": "display_data",
     "data": {
      "text/plain": [
       "<Figure size 1080x720 with 1 Axes>"
      ],
      "image/png": "[encoded data removed]"
     },
     "metadata": {
      "needs_background": "light"
     }
    }
   ],
   "metadata": {}
  },
  {
   "cell_type": "code",
   "execution_count": 11,
   "source": [
    "# 중복된 환자 ID는 없어 보인다.\r\n",
    "print(\"데이터 행의 수 = {}\".format(df1.shape[0]))                  # 데이터 행의 수 = 4004\r\n",
    "print(\"고유한 환자 ID 수 = {}\".format(df1.patient_id.nunique()))   # 고유한 환자 ID 수 = 4004"
   ],
   "outputs": [
    {
     "output_type": "stream",
     "name": "stdout",
     "text": [
      "데이터 행의 수 = 4004\n",
      "고유한 환자 ID 수 = 4004\n"
     ]
    }
   ],
   "metadata": {}
  },
  {
   "cell_type": "code",
   "execution_count": 12,
   "source": [
    "# 명목형 변수인 Sex를 시각화 해본다.\r\n",
    "sex_counts = df1.sex.value_counts()              \r\n",
    "sex_counts = sex_counts.sort_values(ascending=False)\r\n",
    "sex_counts.plot.bar(color='turquoise', alpha=0.7)\r\n",
    "plt.show()"
   ],
   "outputs": [
    {
     "output_type": "display_data",
     "data": {
      "text/plain": [
       "<Figure size 432x288 with 1 Axes>"
      ],
      "image/png": "[encoded data removed]"
     },
     "metadata": {
      "needs_background": "light"
     }
    }
   ],
   "metadata": {}
  },
  {
   "cell_type": "code",
   "execution_count": 13,
   "source": [
    "# Age 변수의 유형 출력.\r\n",
    "df1.age.unique()"
   ],
   "outputs": [
    {
     "output_type": "execute_result",
     "data": {
      "text/plain": [
       "array(['50s', '30s', '20s', '60s', '80s', '70s', '40s', '10s', '90s',\n",
       "       '0s', nan, '30', '100s'], dtype=object)"
      ]
     },
     "metadata": {},
     "execution_count": 13
    }
   ],
   "metadata": {}
  },
  {
   "cell_type": "code",
   "execution_count": 14,
   "source": [
    "# 명목형 변수인 Age를 시각화 해본다.\r\n",
    "df1.age = df1.age.str.replace('s','',regex=True)                      # 's' 제거.\r\n",
    "age_counts = df1.age.value_counts()                                   # 도수표.\r\n",
    "age_counts = age_counts.sort_values(ascending=False)\r\n",
    "age_counts.plot.bar(color='green', alpha=0.5)\r\n",
    "plt.show()"
   ],
   "outputs": [
    {
     "output_type": "display_data",
     "data": {
      "text/plain": [
       "<Figure size 432x288 with 1 Axes>"
      ],
      "image/png": "[encoded data removed]"
     },
     "metadata": {
      "needs_background": "light"
     }
    }
   ],
   "metadata": {}
  },
  {
   "cell_type": "code",
   "execution_count": 15,
   "source": [
    "# 명목형 변수인 Country를 가지고 국적별로 시각화 해본다.\r\n",
    "country_counts = df1.country.value_counts()                 \r\n",
    "country_counts = country_counts.sort_values(ascending=False)\r\n",
    "country_counts.plot.bar(color='pink', alpha = 0.7)\r\n",
    "plt.show()"
   ],
   "outputs": [
    {
     "output_type": "display_data",
     "data": {
      "text/plain": [
       "<Figure size 432x288 with 1 Axes>"
      ],
      "image/png": "[encoded data removed]"
     },
     "metadata": {
      "needs_background": "light"
     }
    }
   ],
   "metadata": {}
  },
  {
   "cell_type": "code",
   "execution_count": 16,
   "source": [
    "# 명목형 변수인 Country를 가지고 내국인 여부를 시각화 해본다.\r\n",
    "country_counts = (df1.country == \"Korea\").value_counts()\r\n",
    "country_counts = country_counts.sort_values(ascending=False)\r\n",
    "country_counts.index = [\"Korean\", \"Foreigner\"]\r\n",
    "# country로 새로운 시리즈를 만들었기 때문에 index가 True False(value_counts)로 만들어졌기 때문에 rename해준다.\r\n",
    "country_counts.plot.bar(color= \"pink\",alpha=0.7)\r\n",
    "plt.show()"
   ],
   "outputs": [
    {
     "output_type": "display_data",
     "data": {
      "text/plain": [
       "<Figure size 432x288 with 1 Axes>"
      ],
      "image/png": "[encoded data removed]"
     },
     "metadata": {
      "needs_background": "light"
     }
    }
   ],
   "metadata": {}
  },
  {
   "cell_type": "code",
   "execution_count": 17,
   "source": [
    "# 기저질환 (disease)는 결측치 아닌 정상값의 수가 절대적으로 부족해서 분석하기 어려움.\r\n",
    "df1.disease.count()"
   ],
   "outputs": [
    {
     "output_type": "execute_result",
     "data": {
      "text/plain": [
       "18"
      ]
     },
     "metadata": {},
     "execution_count": 17
    }
   ],
   "metadata": {}
  },
  {
   "cell_type": "code",
   "execution_count": 18,
   "source": [
    "# 명목형 변수인 State를 시각화 해본다.\r\n",
    "state_counts = df1.state.value_counts()              \r\n",
    "state_counts = state_counts.sort_values(ascending=False)\r\n",
    "state_counts.plot.bar(color='blue', alpha=0.5)\r\n",
    "plt.show()"
   ],
   "outputs": [
    {
     "output_type": "display_data",
     "data": {
      "text/plain": [
       "<Figure size 432x288 with 1 Axes>"
      ],
      "image/png": "[encoded data removed]"
     },
     "metadata": {
      "needs_background": "light"
     }
    }
   ],
   "metadata": {}
  },
  {
   "cell_type": "code",
   "execution_count": 19,
   "source": [
    "# 명목형 변수인 Age와 Sex를 조합하여 시각화 해본다.\r\n",
    "ct = pd.crosstab(df1.age, df1.sex)\r\n",
    "ct['total'] = ct.male + ct.female                      # total 컬럼.\r\n",
    "ct.sort_values(by=['total'], ascending=False)[['male','female']].plot.bar()   # total로 소팅. total은 시각화에서는 제외!\r\n",
    "plt.show()"
   ],
   "outputs": [
    {
     "output_type": "display_data",
     "data": {
      "text/plain": [
       "<Figure size 432x288 with 1 Axes>"
      ],
      "image/png": "[encoded data removed]"
     },
     "metadata": {
      "needs_background": "light"
     }
    }
   ],
   "metadata": {}
  },
  {
   "cell_type": "code",
   "execution_count": 20,
   "source": [
    "# Age별 사망비율.\r\n",
    "ct = pd.crosstab(df1.age, df1.state=='deceased')\r\n",
    "ct.columns = ['alive','deceased']\r\n",
    "ct['mortality'] = ct.deceased/(ct.alive + ct.deceased)  # 사망의 비율을 알기 위해 \r\n",
    "ct.sort_values(by=['mortality'], ascending=False)[['mortality']].plot.bar(color='red', alpha=0.5)   # mortality로 소팅 및 시각화.\r\n",
    "plt.show()"
   ],
   "outputs": [
    {
     "output_type": "display_data",
     "data": {
      "text/plain": [
       "<Figure size 432x288 with 1 Axes>"
      ],
      "image/png": "[encoded data removed]"
     },
     "metadata": {
      "needs_background": "light"
     }
    }
   ],
   "metadata": {}
  },
  {
   "cell_type": "code",
   "execution_count": 21,
   "source": [
    "# Age와 사망여부 독립성 검정. (아직 다루지 않음)\r\n",
    "stat, p_val, degFree, expected = st.chi2_contingency(ct[['alive','deceased']])    # 통계량, p-값, 자유도, 기대도수.\r\n",
    "print(\"p_value : {}\".format(np.round(p_val,3)))                                   # 독립이 아님!"
   ],
   "outputs": [
    {
     "output_type": "stream",
     "name": "stdout",
     "text": [
      "p_value : 0.0\n"
     ]
    }
   ],
   "metadata": {}
  },
  {
   "cell_type": "code",
   "execution_count": 22,
   "source": [
    "# Sex별 사망비율.\r\n",
    "ct = pd.crosstab(df1.sex, df1.state=='deceased')\r\n",
    "ct.columns = ['alive','deceased']\r\n",
    "ct['mortality'] = ct.deceased/(ct.alive + ct.deceased)\r\n",
    "ct.sort_values(by=['mortality'], ascending=False)[['mortality']].plot.bar(color='green', alpha=0.5)   # mortality로 소팅 및 시각화.\r\n",
    "plt.show()"
   ],
   "outputs": [
    {
     "output_type": "display_data",
     "data": {
      "text/plain": [
       "<Figure size 432x288 with 1 Axes>"
      ],
      "image/png": "[encoded data removed]"
     },
     "metadata": {
      "needs_background": "light"
     }
    }
   ],
   "metadata": {}
  },
  {
   "cell_type": "code",
   "execution_count": 23,
   "source": [
    "# city별 사망비율 top10\r\n",
    "ct = pd.crosstab(df1.city, df1.state=='deceased')\r\n",
    "ct.columns = ['alive','deceased']\r\n",
    "ct['mortality'] = ct.deceased/(ct.alive + ct.deceased)\r\n",
    "ct.sort_values(by=['mortality'], ascending=False)[['mortality']][:10].plot.bar(color='green', alpha=0.5)   # mortality로 소팅 및 시각화.\r\n",
    "plt.show()"
   ],
   "outputs": [
    {
     "output_type": "display_data",
     "data": {
      "text/plain": [
       "<Figure size 432x288 with 1 Axes>"
      ],
      "image/png": "[encoded data removed]"
     },
     "metadata": {
      "needs_background": "light"
     }
    }
   ],
   "metadata": {}
  },
  {
   "cell_type": "code",
   "execution_count": 24,
   "source": [
    "# Sex와 사망여부 독립성 검정. ( 아직 다루지 않음 )\r\n",
    "stat, p_val, degFree, expected = st.chi2_contingency(ct[['alive','deceased']])    # 통계량, p-값, 자유도, 기대도수.\r\n",
    "print(\"p_value : {}\".format(np.round(p_val,3)))                                   # 독립이 아님!"
   ],
   "outputs": [
    {
     "output_type": "stream",
     "name": "stdout",
     "text": [
      "p_value : 0.0\n"
     ]
    }
   ],
   "metadata": {}
  },
  {
   "cell_type": "markdown",
   "source": [
    "### 3. 감염 경로 유형 (Infection Case)"
   ],
   "metadata": {}
  },
  {
   "cell_type": "code",
   "execution_count": 25,
   "source": [
    "# 감염 경로의 유형 출력.\r\n",
    "print(df1.infection_case.unique())"
   ],
   "outputs": [
    {
     "output_type": "stream",
     "name": "stdout",
     "text": [
      "['overseas inflow' 'contact with patient' 'Seongdong-gu APT' 'etc'\n",
      " \"Eunpyeong St. Mary's Hospital\" 'Shincheonji Church' 'Dongan Church'\n",
      " 'Guro-gu Call Center' nan 'Itaewon Clubs' 'Samsung Medical Center'\n",
      " 'Coupang Logistics Center' 'Guri Collective Infection'\n",
      " 'KB Life Insurance' 'Yeongdeungpo Learning Institute' 'Onchun Church'\n",
      " 'Cheongdo Daenam Hospital' 'Suyeong-gu Kindergarten'\n",
      " 'Ministry of Oceans and Fisheries' 'gym facility in Cheonan'\n",
      " 'gym facility in Sejong' 'River of Grace Community Church'\n",
      " 'Gyeongsan Seorin Nursing Home' 'Gyeongsan Cham Joeun Community Center'\n",
      " 'Gyeongsan Jeil Silver Town' 'Bonghwa Pureun Nursing Home'\n",
      " 'Pilgrimage to Israel' 'Milal Shelter' 'Geochang Church'\n",
      " 'Changnyeong Coin Karaoke']\n"
     ]
    }
   ],
   "metadata": {}
  },
  {
   "cell_type": "code",
   "execution_count": 26,
   "source": [
    "# 감염 경로의 가지수 출력.\r\n",
    "print(df1.infection_case.nunique())"
   ],
   "outputs": [
    {
     "output_type": "stream",
     "name": "stdout",
     "text": [
      "29\n"
     ]
    }
   ],
   "metadata": {}
  },
  {
   "cell_type": "code",
   "execution_count": 27,
   "source": [
    "# 감염 경로별 환자수 집계하여 시각화 한다.\r\n",
    "res = df1.groupby(['infection_case'])['patient_id'].count()        # 결측치가 아닌 patient_id의 수 = 환자의 수.\r\n",
    "res = res.reset_index()                                           # Series => DataFrame. 이전의 Index가 이제는 새로운 컬럼!\r\n",
    "res.rename(columns = {'infection_case':'infection case', 'patient_id': 'count'}, inplace = True)     # 'patient_id' 컬럼명을 'count'로 변경.\r\n",
    "res = res.sort_values(by = 'count', ascending = False)            # 데이터 프레임 내림 차순으로 소팅.\r\n",
    "display(res)"
   ],
   "outputs": [
    {
     "output_type": "display_data",
     "data": {
      "text/plain": [
       "                           infection case  count\n",
       "24                   contact with patient   1182\n",
       "28                        overseas inflow    703\n",
       "25                                    etc    601\n",
       "12                          Itaewon Clubs    156\n",
       "8                     Guro-gu Call Center    112\n",
       "21                     Shincheonji Church    107\n",
       "3                Coupang Logistics Center     70\n",
       "16                          Onchun Church     33\n",
       "0             Bonghwa Pureun Nursing Home     31\n",
       "26                gym facility in Cheonan     30\n",
       "15       Ministry of Oceans and Fisheries     28\n",
       "2                Cheongdo Daenam Hospital     21\n",
       "4                           Dongan Church     17\n",
       "5           Eunpyeong St. Mary's Hospital     16\n",
       "11          Gyeongsan Seorin Nursing Home     15\n",
       "20                       Seongdong-gu APT     13\n",
       "10             Gyeongsan Jeil Silver Town     12\n",
       "14                          Milal Shelter     11\n",
       "9   Gyeongsan Cham Joeun Community Center     10\n",
       "13                      KB Life Insurance      8\n",
       "19                 Samsung Medical Center      7\n",
       "6                         Geochang Church      6\n",
       "7               Guri Collective Infection      6\n",
       "1                Changnyeong Coin Karaoke      4\n",
       "27                 gym facility in Sejong      4\n",
       "22                Suyeong-gu Kindergarten      3\n",
       "17                   Pilgrimage to Israel      2\n",
       "23        Yeongdeungpo Learning Institute      2\n",
       "18        River of Grace Community Church      1"
      ],
      "text/html": [
       "<div>\n",
       "<style scoped>\n",
       "    .dataframe tbody tr th:only-of-type {\n",
       "        vertical-align: middle;\n",
       "    }\n",
       "\n",
       "    .dataframe tbody tr th {\n",
       "        vertical-align: top;\n",
       "    }\n",
       "\n",
       "    .dataframe thead th {\n",
       "        text-align: right;\n",
       "    }\n",
       "</style>\n",
       "<table border=\"1\" class=\"dataframe\">\n",
       "  <thead>\n",
       "    <tr style=\"text-align: right;\">\n",
       "      <th></th>\n",
       "      <th>infection case</th>\n",
       "      <th>count</th>\n",
       "    </tr>\n",
       "  </thead>\n",
       "  <tbody>\n",
       "    <tr>\n",
       "      <th>24</th>\n",
       "      <td>contact with patient</td>\n",
       "      <td>1182</td>\n",
       "    </tr>\n",
       "    <tr>\n",
       "      <th>28</th>\n",
       "      <td>overseas inflow</td>\n",
       "      <td>703</td>\n",
       "    </tr>\n",
       "    <tr>\n",
       "      <th>25</th>\n",
       "      <td>etc</td>\n",
       "      <td>601</td>\n",
       "    </tr>\n",
       "    <tr>\n",
       "      <th>12</th>\n",
       "      <td>Itaewon Clubs</td>\n",
       "      <td>156</td>\n",
       "    </tr>\n",
       "    <tr>\n",
       "      <th>8</th>\n",
       "      <td>Guro-gu Call Center</td>\n",
       "      <td>112</td>\n",
       "    </tr>\n",
       "    <tr>\n",
       "      <th>21</th>\n",
       "      <td>Shincheonji Church</td>\n",
       "      <td>107</td>\n",
       "    </tr>\n",
       "    <tr>\n",
       "      <th>3</th>\n",
       "      <td>Coupang Logistics Center</td>\n",
       "      <td>70</td>\n",
       "    </tr>\n",
       "    <tr>\n",
       "      <th>16</th>\n",
       "      <td>Onchun Church</td>\n",
       "      <td>33</td>\n",
       "    </tr>\n",
       "    <tr>\n",
       "      <th>0</th>\n",
       "      <td>Bonghwa Pureun Nursing Home</td>\n",
       "      <td>31</td>\n",
       "    </tr>\n",
       "    <tr>\n",
       "      <th>26</th>\n",
       "      <td>gym facility in Cheonan</td>\n",
       "      <td>30</td>\n",
       "    </tr>\n",
       "    <tr>\n",
       "      <th>15</th>\n",
       "      <td>Ministry of Oceans and Fisheries</td>\n",
       "      <td>28</td>\n",
       "    </tr>\n",
       "    <tr>\n",
       "      <th>2</th>\n",
       "      <td>Cheongdo Daenam Hospital</td>\n",
       "      <td>21</td>\n",
       "    </tr>\n",
       "    <tr>\n",
       "      <th>4</th>\n",
       "      <td>Dongan Church</td>\n",
       "      <td>17</td>\n",
       "    </tr>\n",
       "    <tr>\n",
       "      <th>5</th>\n",
       "      <td>Eunpyeong St. Mary's Hospital</td>\n",
       "      <td>16</td>\n",
       "    </tr>\n",
       "    <tr>\n",
       "      <th>11</th>\n",
       "      <td>Gyeongsan Seorin Nursing Home</td>\n",
       "      <td>15</td>\n",
       "    </tr>\n",
       "    <tr>\n",
       "      <th>20</th>\n",
       "      <td>Seongdong-gu APT</td>\n",
       "      <td>13</td>\n",
       "    </tr>\n",
       "    <tr>\n",
       "      <th>10</th>\n",
       "      <td>Gyeongsan Jeil Silver Town</td>\n",
       "      <td>12</td>\n",
       "    </tr>\n",
       "    <tr>\n",
       "      <th>14</th>\n",
       "      <td>Milal Shelter</td>\n",
       "      <td>11</td>\n",
       "    </tr>\n",
       "    <tr>\n",
       "      <th>9</th>\n",
       "      <td>Gyeongsan Cham Joeun Community Center</td>\n",
       "      <td>10</td>\n",
       "    </tr>\n",
       "    <tr>\n",
       "      <th>13</th>\n",
       "      <td>KB Life Insurance</td>\n",
       "      <td>8</td>\n",
       "    </tr>\n",
       "    <tr>\n",
       "      <th>19</th>\n",
       "      <td>Samsung Medical Center</td>\n",
       "      <td>7</td>\n",
       "    </tr>\n",
       "    <tr>\n",
       "      <th>6</th>\n",
       "      <td>Geochang Church</td>\n",
       "      <td>6</td>\n",
       "    </tr>\n",
       "    <tr>\n",
       "      <th>7</th>\n",
       "      <td>Guri Collective Infection</td>\n",
       "      <td>6</td>\n",
       "    </tr>\n",
       "    <tr>\n",
       "      <th>1</th>\n",
       "      <td>Changnyeong Coin Karaoke</td>\n",
       "      <td>4</td>\n",
       "    </tr>\n",
       "    <tr>\n",
       "      <th>27</th>\n",
       "      <td>gym facility in Sejong</td>\n",
       "      <td>4</td>\n",
       "    </tr>\n",
       "    <tr>\n",
       "      <th>22</th>\n",
       "      <td>Suyeong-gu Kindergarten</td>\n",
       "      <td>3</td>\n",
       "    </tr>\n",
       "    <tr>\n",
       "      <th>17</th>\n",
       "      <td>Pilgrimage to Israel</td>\n",
       "      <td>2</td>\n",
       "    </tr>\n",
       "    <tr>\n",
       "      <th>23</th>\n",
       "      <td>Yeongdeungpo Learning Institute</td>\n",
       "      <td>2</td>\n",
       "    </tr>\n",
       "    <tr>\n",
       "      <th>18</th>\n",
       "      <td>River of Grace Community Church</td>\n",
       "      <td>1</td>\n",
       "    </tr>\n",
       "  </tbody>\n",
       "</table>\n",
       "</div>"
      ]
     },
     "metadata": {}
    }
   ],
   "metadata": {}
  },
  {
   "cell_type": "code",
   "execution_count": 28,
   "source": [
    "# 감염 경로별 환자수 집계하여 시각화 한다.\r\n",
    "res = df1.groupby(['infection_case'])['patient_id'].count()        # 결측치가 아닌 patient_id의 수 = 환자의 수.\r\n",
    "res = res.reset_index()                                           # Series => DataFrame. 이전의 Index가 이제는 새로운 컬럼!\r\n",
    "res.rename(columns = {'infection_case':'infection case', 'patient_id': 'count'}, inplace = True)     # 'patient_id' 컬럼명을 'count'로 변경.\r\n",
    "res = res.sort_values(by = 'count', ascending = False)            # 데이터 프레임 내림 차순으로 소팅.\r\n",
    "\r\n",
    "plt.figure(figsize = (12,6))                                       # figsize=(가로, 세로) 크기.\r\n",
    "sns.barplot(y = 'infection case', x= 'count', data = res)\r\n",
    "plt.title('Number of Patients per Infection Case')\r\n",
    "plt.show()\r\n",
    "# 정보의 세분화가 너무 난잡하기 때문에 이를 하나의 카테고리로 묶어 단순화 해서 보는 시각을 바꿀 필요가 있다."
   ],
   "outputs": [
    {
     "output_type": "display_data",
     "data": {
      "text/plain": [
       "<Figure size 864x432 with 1 Axes>"
      ],
      "image/png": "[encoded data removed]"
     },
     "metadata": {
      "needs_background": "light"
     }
    }
   ],
   "metadata": {}
  },
  {
   "cell_type": "code",
   "execution_count": 29,
   "source": [
    "res1 = res.copy()\r\n",
    "res1['group'] = res.iloc[3:].sum()\r\n",
    "display(res)"
   ],
   "outputs": [
    {
     "output_type": "display_data",
     "data": {
      "text/plain": [
       "                           infection case  count\n",
       "24                   contact with patient   1182\n",
       "28                        overseas inflow    703\n",
       "25                                    etc    601\n",
       "12                          Itaewon Clubs    156\n",
       "8                     Guro-gu Call Center    112\n",
       "21                     Shincheonji Church    107\n",
       "3                Coupang Logistics Center     70\n",
       "16                          Onchun Church     33\n",
       "0             Bonghwa Pureun Nursing Home     31\n",
       "26                gym facility in Cheonan     30\n",
       "15       Ministry of Oceans and Fisheries     28\n",
       "2                Cheongdo Daenam Hospital     21\n",
       "4                           Dongan Church     17\n",
       "5           Eunpyeong St. Mary's Hospital     16\n",
       "11          Gyeongsan Seorin Nursing Home     15\n",
       "20                       Seongdong-gu APT     13\n",
       "10             Gyeongsan Jeil Silver Town     12\n",
       "14                          Milal Shelter     11\n",
       "9   Gyeongsan Cham Joeun Community Center     10\n",
       "13                      KB Life Insurance      8\n",
       "19                 Samsung Medical Center      7\n",
       "6                         Geochang Church      6\n",
       "7               Guri Collective Infection      6\n",
       "1                Changnyeong Coin Karaoke      4\n",
       "27                 gym facility in Sejong      4\n",
       "22                Suyeong-gu Kindergarten      3\n",
       "17                   Pilgrimage to Israel      2\n",
       "23        Yeongdeungpo Learning Institute      2\n",
       "18        River of Grace Community Church      1"
      ],
      "text/html": [
       "<div>\n",
       "<style scoped>\n",
       "    .dataframe tbody tr th:only-of-type {\n",
       "        vertical-align: middle;\n",
       "    }\n",
       "\n",
       "    .dataframe tbody tr th {\n",
       "        vertical-align: top;\n",
       "    }\n",
       "\n",
       "    .dataframe thead th {\n",
       "        text-align: right;\n",
       "    }\n",
       "</style>\n",
       "<table border=\"1\" class=\"dataframe\">\n",
       "  <thead>\n",
       "    <tr style=\"text-align: right;\">\n",
       "      <th></th>\n",
       "      <th>infection case</th>\n",
       "      <th>count</th>\n",
       "    </tr>\n",
       "  </thead>\n",
       "  <tbody>\n",
       "    <tr>\n",
       "      <th>24</th>\n",
       "      <td>contact with patient</td>\n",
       "      <td>1182</td>\n",
       "    </tr>\n",
       "    <tr>\n",
       "      <th>28</th>\n",
       "      <td>overseas inflow</td>\n",
       "      <td>703</td>\n",
       "    </tr>\n",
       "    <tr>\n",
       "      <th>25</th>\n",
       "      <td>etc</td>\n",
       "      <td>601</td>\n",
       "    </tr>\n",
       "    <tr>\n",
       "      <th>12</th>\n",
       "      <td>Itaewon Clubs</td>\n",
       "      <td>156</td>\n",
       "    </tr>\n",
       "    <tr>\n",
       "      <th>8</th>\n",
       "      <td>Guro-gu Call Center</td>\n",
       "      <td>112</td>\n",
       "    </tr>\n",
       "    <tr>\n",
       "      <th>21</th>\n",
       "      <td>Shincheonji Church</td>\n",
       "      <td>107</td>\n",
       "    </tr>\n",
       "    <tr>\n",
       "      <th>3</th>\n",
       "      <td>Coupang Logistics Center</td>\n",
       "      <td>70</td>\n",
       "    </tr>\n",
       "    <tr>\n",
       "      <th>16</th>\n",
       "      <td>Onchun Church</td>\n",
       "      <td>33</td>\n",
       "    </tr>\n",
       "    <tr>\n",
       "      <th>0</th>\n",
       "      <td>Bonghwa Pureun Nursing Home</td>\n",
       "      <td>31</td>\n",
       "    </tr>\n",
       "    <tr>\n",
       "      <th>26</th>\n",
       "      <td>gym facility in Cheonan</td>\n",
       "      <td>30</td>\n",
       "    </tr>\n",
       "    <tr>\n",
       "      <th>15</th>\n",
       "      <td>Ministry of Oceans and Fisheries</td>\n",
       "      <td>28</td>\n",
       "    </tr>\n",
       "    <tr>\n",
       "      <th>2</th>\n",
       "      <td>Cheongdo Daenam Hospital</td>\n",
       "      <td>21</td>\n",
       "    </tr>\n",
       "    <tr>\n",
       "      <th>4</th>\n",
       "      <td>Dongan Church</td>\n",
       "      <td>17</td>\n",
       "    </tr>\n",
       "    <tr>\n",
       "      <th>5</th>\n",
       "      <td>Eunpyeong St. Mary's Hospital</td>\n",
       "      <td>16</td>\n",
       "    </tr>\n",
       "    <tr>\n",
       "      <th>11</th>\n",
       "      <td>Gyeongsan Seorin Nursing Home</td>\n",
       "      <td>15</td>\n",
       "    </tr>\n",
       "    <tr>\n",
       "      <th>20</th>\n",
       "      <td>Seongdong-gu APT</td>\n",
       "      <td>13</td>\n",
       "    </tr>\n",
       "    <tr>\n",
       "      <th>10</th>\n",
       "      <td>Gyeongsan Jeil Silver Town</td>\n",
       "      <td>12</td>\n",
       "    </tr>\n",
       "    <tr>\n",
       "      <th>14</th>\n",
       "      <td>Milal Shelter</td>\n",
       "      <td>11</td>\n",
       "    </tr>\n",
       "    <tr>\n",
       "      <th>9</th>\n",
       "      <td>Gyeongsan Cham Joeun Community Center</td>\n",
       "      <td>10</td>\n",
       "    </tr>\n",
       "    <tr>\n",
       "      <th>13</th>\n",
       "      <td>KB Life Insurance</td>\n",
       "      <td>8</td>\n",
       "    </tr>\n",
       "    <tr>\n",
       "      <th>19</th>\n",
       "      <td>Samsung Medical Center</td>\n",
       "      <td>7</td>\n",
       "    </tr>\n",
       "    <tr>\n",
       "      <th>6</th>\n",
       "      <td>Geochang Church</td>\n",
       "      <td>6</td>\n",
       "    </tr>\n",
       "    <tr>\n",
       "      <th>7</th>\n",
       "      <td>Guri Collective Infection</td>\n",
       "      <td>6</td>\n",
       "    </tr>\n",
       "    <tr>\n",
       "      <th>1</th>\n",
       "      <td>Changnyeong Coin Karaoke</td>\n",
       "      <td>4</td>\n",
       "    </tr>\n",
       "    <tr>\n",
       "      <th>27</th>\n",
       "      <td>gym facility in Sejong</td>\n",
       "      <td>4</td>\n",
       "    </tr>\n",
       "    <tr>\n",
       "      <th>22</th>\n",
       "      <td>Suyeong-gu Kindergarten</td>\n",
       "      <td>3</td>\n",
       "    </tr>\n",
       "    <tr>\n",
       "      <th>17</th>\n",
       "      <td>Pilgrimage to Israel</td>\n",
       "      <td>2</td>\n",
       "    </tr>\n",
       "    <tr>\n",
       "      <th>23</th>\n",
       "      <td>Yeongdeungpo Learning Institute</td>\n",
       "      <td>2</td>\n",
       "    </tr>\n",
       "    <tr>\n",
       "      <th>18</th>\n",
       "      <td>River of Grace Community Church</td>\n",
       "      <td>1</td>\n",
       "    </tr>\n",
       "  </tbody>\n",
       "</table>\n",
       "</div>"
      ]
     },
     "metadata": {}
    }
   ],
   "metadata": {}
  },
  {
   "cell_type": "code",
   "execution_count": 30,
   "source": [
    "# 헬퍼 함수 정의.\r\n",
    "def my_conversion_func(x):\r\n",
    "    if not pd.isnull(x):\r\n",
    "        if x in my_dict.keys(): # 딕셔너리를 활용해서 딕셔너리의 키가 있다면 활용하고 아니면 Group으로 적용하는 방법\r\n",
    "            return my_dict[x]\r\n",
    "        else:\r\n",
    "            return \"Group\"\r\n",
    "    else:\r\n",
    "        return \"Unknown\""
   ],
   "outputs": [],
   "metadata": {}
  },
  {
   "cell_type": "code",
   "execution_count": 90,
   "source": [
    "# 다음과 같이 유형의 label을 바꾸어서 다시 집계 및 시각화 해본다.\r\n",
    "# 'contact with patient' => 'Individual'     개인접촉\r\n",
    "# 'etc'  or NaN         => 'Unknown'         모름\r\n",
    "# 'overseas inflow'     => 'Overseas'        해외\r\n",
    "#  나머지               => 'Group'            집단\r\n",
    "\r\n",
    "my_dict = {'contact with patient':'Individual', 'etc':'Unknown', 'overseas inflow': 'Overseas'}\r\n",
    "res = df1.infection_case.apply(lambda x: my_dict[x] if x in my_dict.keys() else 'Group' if not pd.isnull(x) else 'Unknown')  # 변환! Pythonic!\r\n",
    "# lambda 함수를 활용해 2중 if문을 활용하는 방법 = 더 큰 범위의 if문을 뒤쪽으로 가게 되고 \r\n",
    "# 그 앞은 True일때 실행되는 조건이기 때문에 True조건에 if문을 활용하면 첫번째 if문이 True조건을 만족하게 되면 해당 if문을 실행하게 되는 방법\r\n",
    "#res = df1.infection_case.apply(my_conversion_func)    # 또다른 방법.\r\n",
    "df1['infection_cause'] = res  # 변환을 df1에도 적용.\r\n",
    "\r\n",
    "# df1.head(3)\r\n",
    "# 다시 집계하여 시각화 해본다.\r\n",
    "res = res.value_counts().sort_values(ascending=False)\r\n",
    "display(res)\r\n",
    "res = res.reset_index()                                                               # Series => DataFrame. 이전의 Index가 이제는 새로운 컬럼!\r\n",
    "display(res)\r\n",
    "res.rename(columns={'index':'infection_cause','infection_case':'count'},inplace=True)\r\n",
    "\r\n",
    "plt.figure(figsize = (12,6))                                       # figsize=(가로, 세로) 크기.\r\n",
    "sns.barplot(y = 'infection_cause', x= 'count', data = res, alpha=0.8)\r\n",
    "plt.title('Number of Patients per Infection Cause')\r\n",
    "plt.show()"
   ],
   "outputs": [
    {
     "output_type": "display_data",
     "data": {
      "text/plain": [
       "Unknown       1394\n",
       "Individual    1182\n",
       "Group          725\n",
       "Overseas       703\n",
       "Name: infection_case, dtype: int64"
      ]
     },
     "metadata": {}
    },
    {
     "output_type": "display_data",
     "data": {
      "text/plain": [
       "        index  infection_case\n",
       "0     Unknown            1394\n",
       "1  Individual            1182\n",
       "2       Group             725\n",
       "3    Overseas             703"
      ],
      "text/html": [
       "<div>\n",
       "<style scoped>\n",
       "    .dataframe tbody tr th:only-of-type {\n",
       "        vertical-align: middle;\n",
       "    }\n",
       "\n",
       "    .dataframe tbody tr th {\n",
       "        vertical-align: top;\n",
       "    }\n",
       "\n",
       "    .dataframe thead th {\n",
       "        text-align: right;\n",
       "    }\n",
       "</style>\n",
       "<table border=\"1\" class=\"dataframe\">\n",
       "  <thead>\n",
       "    <tr style=\"text-align: right;\">\n",
       "      <th></th>\n",
       "      <th>index</th>\n",
       "      <th>infection_case</th>\n",
       "    </tr>\n",
       "  </thead>\n",
       "  <tbody>\n",
       "    <tr>\n",
       "      <th>0</th>\n",
       "      <td>Unknown</td>\n",
       "      <td>1394</td>\n",
       "    </tr>\n",
       "    <tr>\n",
       "      <th>1</th>\n",
       "      <td>Individual</td>\n",
       "      <td>1182</td>\n",
       "    </tr>\n",
       "    <tr>\n",
       "      <th>2</th>\n",
       "      <td>Group</td>\n",
       "      <td>725</td>\n",
       "    </tr>\n",
       "    <tr>\n",
       "      <th>3</th>\n",
       "      <td>Overseas</td>\n",
       "      <td>703</td>\n",
       "    </tr>\n",
       "  </tbody>\n",
       "</table>\n",
       "</div>"
      ]
     },
     "metadata": {}
    },
    {
     "output_type": "display_data",
     "data": {
      "text/plain": [
       "<Figure size 864x432 with 1 Axes>"
      ],
      "image/png": "[encoded data removed]"
     },
     "metadata": {
      "needs_background": "light"
     }
    }
   ],
   "metadata": {}
  },
  {
   "cell_type": "markdown",
   "source": [
    "**결론**: 유입 경로를 4가지로 요약해 봄."
   ],
   "metadata": {}
  },
  {
   "cell_type": "markdown",
   "source": [
    "### 4. 유동성 (Mobility Level)"
   ],
   "metadata": {}
  },
  {
   "cell_type": "code",
   "execution_count": 91,
   "source": [
    "# 새롭게 유입경로 데이터를 불러온다.\r\n",
    "df2 = pd.read_csv('C:/study_data/bigdata/별첨 2_DACON_코로나 데이터 분석_업데이트 3/data/PatientRoute.csv')"
   ],
   "outputs": [],
   "metadata": {}
  },
  {
   "cell_type": "code",
   "execution_count": 92,
   "source": [
    "df2.head()"
   ],
   "outputs": [
    {
     "output_type": "execute_result",
     "data": {
      "text/plain": [
       "   patient_id  global_num        date     province          city  \\\n",
       "0  1000000001         2.0  2020-01-22  Gyeonggi-do      Gimpo-si   \n",
       "1  1000000001         2.0  2020-01-24        Seoul       Jung-gu   \n",
       "2  1000000002         5.0  2020-01-25        Seoul   Seongbuk-gu   \n",
       "3  1000000002         5.0  2020-01-26        Seoul   Seongbuk-gu   \n",
       "4  1000000002         5.0  2020-01-26        Seoul  Seongdong-gu   \n",
       "\n",
       "                    type  latitude  longitude  \n",
       "0                airport   37.6152   126.7156  \n",
       "1               hospital   37.5672   127.0057  \n",
       "2                    etc   37.5926   127.0170  \n",
       "3                  store   37.5918   127.0168  \n",
       "4  public_transportation   37.5640   127.0295  "
      ],
      "text/html": [
       "<div>\n",
       "<style scoped>\n",
       "    .dataframe tbody tr th:only-of-type {\n",
       "        vertical-align: middle;\n",
       "    }\n",
       "\n",
       "    .dataframe tbody tr th {\n",
       "        vertical-align: top;\n",
       "    }\n",
       "\n",
       "    .dataframe thead th {\n",
       "        text-align: right;\n",
       "    }\n",
       "</style>\n",
       "<table border=\"1\" class=\"dataframe\">\n",
       "  <thead>\n",
       "    <tr style=\"text-align: right;\">\n",
       "      <th></th>\n",
       "      <th>patient_id</th>\n",
       "      <th>global_num</th>\n",
       "      <th>date</th>\n",
       "      <th>province</th>\n",
       "      <th>city</th>\n",
       "      <th>type</th>\n",
       "      <th>latitude</th>\n",
       "      <th>longitude</th>\n",
       "    </tr>\n",
       "  </thead>\n",
       "  <tbody>\n",
       "    <tr>\n",
       "      <th>0</th>\n",
       "      <td>1000000001</td>\n",
       "      <td>2.0</td>\n",
       "      <td>2020-01-22</td>\n",
       "      <td>Gyeonggi-do</td>\n",
       "      <td>Gimpo-si</td>\n",
       "      <td>airport</td>\n",
       "      <td>37.6152</td>\n",
       "      <td>126.7156</td>\n",
       "    </tr>\n",
       "    <tr>\n",
       "      <th>1</th>\n",
       "      <td>1000000001</td>\n",
       "      <td>2.0</td>\n",
       "      <td>2020-01-24</td>\n",
       "      <td>Seoul</td>\n",
       "      <td>Jung-gu</td>\n",
       "      <td>hospital</td>\n",
       "      <td>37.5672</td>\n",
       "      <td>127.0057</td>\n",
       "    </tr>\n",
       "    <tr>\n",
       "      <th>2</th>\n",
       "      <td>1000000002</td>\n",
       "      <td>5.0</td>\n",
       "      <td>2020-01-25</td>\n",
       "      <td>Seoul</td>\n",
       "      <td>Seongbuk-gu</td>\n",
       "      <td>etc</td>\n",
       "      <td>37.5926</td>\n",
       "      <td>127.0170</td>\n",
       "    </tr>\n",
       "    <tr>\n",
       "      <th>3</th>\n",
       "      <td>1000000002</td>\n",
       "      <td>5.0</td>\n",
       "      <td>2020-01-26</td>\n",
       "      <td>Seoul</td>\n",
       "      <td>Seongbuk-gu</td>\n",
       "      <td>store</td>\n",
       "      <td>37.5918</td>\n",
       "      <td>127.0168</td>\n",
       "    </tr>\n",
       "    <tr>\n",
       "      <th>4</th>\n",
       "      <td>1000000002</td>\n",
       "      <td>5.0</td>\n",
       "      <td>2020-01-26</td>\n",
       "      <td>Seoul</td>\n",
       "      <td>Seongdong-gu</td>\n",
       "      <td>public_transportation</td>\n",
       "      <td>37.5640</td>\n",
       "      <td>127.0295</td>\n",
       "    </tr>\n",
       "  </tbody>\n",
       "</table>\n",
       "</div>"
      ]
     },
     "metadata": {},
     "execution_count": 92
    }
   ],
   "metadata": {}
  },
  {
   "cell_type": "code",
   "execution_count": 93,
   "source": [
    "# 결측치의 총 카운트.\r\n",
    "df2.isnull().sum().sum()"
   ],
   "outputs": [
    {
     "output_type": "execute_result",
     "data": {
      "text/plain": [
       "3264"
      ]
     },
     "metadata": {},
     "execution_count": 93
    }
   ],
   "metadata": {}
  },
  {
   "cell_type": "code",
   "execution_count": 94,
   "source": [
    "# 결측치를 시각화 해본다.\r\n",
    "plt.figure(figsize = (10,10))                                       # figsize=(가로, 세로) 크기.\r\n",
    "sns.heatmap(df2.isnull(), cmap='Blues', cbar=False)\r\n",
    "plt.show()"
   ],
   "outputs": [
    {
     "output_type": "display_data",
     "data": {
      "text/plain": [
       "<Figure size 720x720 with 1 Axes>"
      ],
      "image/png": "[encoded data removed]"
     },
     "metadata": {
      "needs_background": "light"
     }
    }
   ],
   "metadata": {}
  },
  {
   "cell_type": "code",
   "execution_count": 95,
   "source": [
    "# 중복된 환자 ID가 많아 보인다.\r\n",
    "print(\"데이터 행의 수 = {}\".format(df2.shape[0]))\r\n",
    "print(\"고유한 환자 ID 수 = {}\".format(df2.patient_id.nunique()))"
   ],
   "outputs": [
    {
     "output_type": "stream",
     "name": "stdout",
     "text": [
      "데이터 행의 수 = 8092\n",
      "고유한 환자 ID 수 = 1472\n"
     ]
    }
   ],
   "metadata": {}
  },
  {
   "cell_type": "code",
   "execution_count": 96,
   "source": [
    "# 이동 경로의 유형 출력.\r\n",
    "print(format(df2.type.unique()))"
   ],
   "outputs": [
    {
     "output_type": "stream",
     "name": "stdout",
     "text": [
      "['airport' 'hospital' 'etc' 'store' 'public_transportation' 'restaurant'\n",
      " 'church' 'beauty_salon' 'pharmacy' 'pc_cafe' 'bank' 'academy' 'cafe'\n",
      " 'bakery' 'bar' 'gym' 'school' 'real_estate_agency' 'karaoke'\n",
      " 'post_office' 'gas_station' 'park' 'lodging' 'university'\n",
      " 'administrative_area_level_1']\n"
     ]
    }
   ],
   "metadata": {}
  },
  {
   "cell_type": "code",
   "execution_count": 97,
   "source": [
    "# 이동 경로의 가지수 출력.\r\n",
    "print(format(df2.type.nunique()))"
   ],
   "outputs": [
    {
     "output_type": "stream",
     "name": "stdout",
     "text": [
      "25\n"
     ]
    }
   ],
   "metadata": {}
  },
  {
   "cell_type": "code",
   "execution_count": 98,
   "source": [
    "# 이동 경로의 유형을 카테고리로 표현해 본다.\r\n",
    "leisure = ['library', 'theater', 'cafe', 'bakery', 'beauty_salon',\r\n",
    "          'pc_cafe', 'billiards','restaurant', 'bar', 'karaoke']\r\n",
    "travel = ['airport', 'lodging']\r\n",
    "essential_edu = ['primary_school', 'school', 'university']\r\n",
    "non_essential_edu = ['academy']\r\n",
    "exercise = ['gym', 'mountain', 'park']\r\n",
    "essential_admin = ['administrative_area_level_1', 'governmnet_office', 'post_office']\r\n",
    "non_essential_admin = ['police_office', 'bank', 'real_estate_agency']\r\n",
    "necessity = ['store', 'public_transportation', 'gas_station']\r\n",
    "medical = ['hospital', 'pharmacy']\r\n",
    "church = ['church']\r\n",
    "etc = ['etc']"
   ],
   "outputs": [],
   "metadata": {}
  },
  {
   "cell_type": "code",
   "execution_count": 99,
   "source": [
    "# \"필수적\" 카테고리는 다음과 같이 정의한다.\r\n",
    "essential = essential_edu + essential_admin + necessity + medical \r\n",
    "len(essential)"
   ],
   "outputs": [
    {
     "output_type": "execute_result",
     "data": {
      "text/plain": [
       "11"
      ]
     },
     "metadata": {},
     "execution_count": 99
    }
   ],
   "metadata": {}
  },
  {
   "cell_type": "code",
   "execution_count": 100,
   "source": [
    "# 필수/부수적 여부 변수 'is_essential' 파생변수로 추가.\r\n",
    "def isessential(x):     \r\n",
    "    if x in essential: \r\n",
    "        res = True\r\n",
    "    else:\r\n",
    "        res = False \r\n",
    "    return res\r\n",
    "df2['is_essential'] = df2['type'].apply(isessential) \r\n",
    "\r\n",
    "# 데이터 프레임 간추리기.\r\n",
    "df2 = df2[['patient_id', 'type', 'is_essential']]\r\n",
    "df2.head()"
   ],
   "outputs": [
    {
     "output_type": "execute_result",
     "data": {
      "text/plain": [
       "   patient_id                   type  is_essential\n",
       "0  1000000001                airport         False\n",
       "1  1000000001               hospital          True\n",
       "2  1000000002                    etc         False\n",
       "3  1000000002                  store          True\n",
       "4  1000000002  public_transportation          True"
      ],
      "text/html": [
       "<div>\n",
       "<style scoped>\n",
       "    .dataframe tbody tr th:only-of-type {\n",
       "        vertical-align: middle;\n",
       "    }\n",
       "\n",
       "    .dataframe tbody tr th {\n",
       "        vertical-align: top;\n",
       "    }\n",
       "\n",
       "    .dataframe thead th {\n",
       "        text-align: right;\n",
       "    }\n",
       "</style>\n",
       "<table border=\"1\" class=\"dataframe\">\n",
       "  <thead>\n",
       "    <tr style=\"text-align: right;\">\n",
       "      <th></th>\n",
       "      <th>patient_id</th>\n",
       "      <th>type</th>\n",
       "      <th>is_essential</th>\n",
       "    </tr>\n",
       "  </thead>\n",
       "  <tbody>\n",
       "    <tr>\n",
       "      <th>0</th>\n",
       "      <td>1000000001</td>\n",
       "      <td>airport</td>\n",
       "      <td>False</td>\n",
       "    </tr>\n",
       "    <tr>\n",
       "      <th>1</th>\n",
       "      <td>1000000001</td>\n",
       "      <td>hospital</td>\n",
       "      <td>True</td>\n",
       "    </tr>\n",
       "    <tr>\n",
       "      <th>2</th>\n",
       "      <td>1000000002</td>\n",
       "      <td>etc</td>\n",
       "      <td>False</td>\n",
       "    </tr>\n",
       "    <tr>\n",
       "      <th>3</th>\n",
       "      <td>1000000002</td>\n",
       "      <td>store</td>\n",
       "      <td>True</td>\n",
       "    </tr>\n",
       "    <tr>\n",
       "      <th>4</th>\n",
       "      <td>1000000002</td>\n",
       "      <td>public_transportation</td>\n",
       "      <td>True</td>\n",
       "    </tr>\n",
       "  </tbody>\n",
       "</table>\n",
       "</div>"
      ]
     },
     "metadata": {},
     "execution_count": 100
    }
   ],
   "metadata": {}
  },
  {
   "cell_type": "code",
   "execution_count": 101,
   "source": [
    "# 동일 환자의 경로 유형을 집계한다 (sum).\r\n",
    "# 결측치는 0으로 채운다.\r\n",
    "df2['route_value'] = 1       # 1 로 채워진 컬럼을 추가해서 집계의 목적으로 사용한다. sum이 되지만 count의 목적을 띔\r\n",
    "df3 = pd.pivot_table(data=df2, index = 'patient_id', columns = 'is_essential', values= 'route_value', aggfunc='sum', fill_value=0)\r\n",
    "# pd.pivot_table(data=집계할 데이터프레임, index= 집계의 기준이 될 column, columns=집계했을 때 index의 유니크 갑이 될 값(column을 설정), \r\n",
    "# values= 1건의 집계가 될 때 넣어질 값, aggfunc = values에 가할 함수)\r\n",
    "df3"
   ],
   "outputs": [
    {
     "output_type": "execute_result",
     "data": {
      "text/plain": [
       "is_essential  False  True \n",
       "patient_id                \n",
       "1000000001        1      1\n",
       "1000000002        4      9\n",
       "1000000003        2      0\n",
       "1000000004        0      1\n",
       "1000000005        0      1\n",
       "...             ...    ...\n",
       "6100000086        2      2\n",
       "6100000087        2      6\n",
       "6100000088       19      5\n",
       "6100000089        1      1\n",
       "6100000090        4      3\n",
       "\n",
       "[1472 rows x 2 columns]"
      ],
      "text/html": [
       "<div>\n",
       "<style scoped>\n",
       "    .dataframe tbody tr th:only-of-type {\n",
       "        vertical-align: middle;\n",
       "    }\n",
       "\n",
       "    .dataframe tbody tr th {\n",
       "        vertical-align: top;\n",
       "    }\n",
       "\n",
       "    .dataframe thead th {\n",
       "        text-align: right;\n",
       "    }\n",
       "</style>\n",
       "<table border=\"1\" class=\"dataframe\">\n",
       "  <thead>\n",
       "    <tr style=\"text-align: right;\">\n",
       "      <th>is_essential</th>\n",
       "      <th>False</th>\n",
       "      <th>True</th>\n",
       "    </tr>\n",
       "    <tr>\n",
       "      <th>patient_id</th>\n",
       "      <th></th>\n",
       "      <th></th>\n",
       "    </tr>\n",
       "  </thead>\n",
       "  <tbody>\n",
       "    <tr>\n",
       "      <th>1000000001</th>\n",
       "      <td>1</td>\n",
       "      <td>1</td>\n",
       "    </tr>\n",
       "    <tr>\n",
       "      <th>1000000002</th>\n",
       "      <td>4</td>\n",
       "      <td>9</td>\n",
       "    </tr>\n",
       "    <tr>\n",
       "      <th>1000000003</th>\n",
       "      <td>2</td>\n",
       "      <td>0</td>\n",
       "    </tr>\n",
       "    <tr>\n",
       "      <th>1000000004</th>\n",
       "      <td>0</td>\n",
       "      <td>1</td>\n",
       "    </tr>\n",
       "    <tr>\n",
       "      <th>1000000005</th>\n",
       "      <td>0</td>\n",
       "      <td>1</td>\n",
       "    </tr>\n",
       "    <tr>\n",
       "      <th>...</th>\n",
       "      <td>...</td>\n",
       "      <td>...</td>\n",
       "    </tr>\n",
       "    <tr>\n",
       "      <th>6100000086</th>\n",
       "      <td>2</td>\n",
       "      <td>2</td>\n",
       "    </tr>\n",
       "    <tr>\n",
       "      <th>6100000087</th>\n",
       "      <td>2</td>\n",
       "      <td>6</td>\n",
       "    </tr>\n",
       "    <tr>\n",
       "      <th>6100000088</th>\n",
       "      <td>19</td>\n",
       "      <td>5</td>\n",
       "    </tr>\n",
       "    <tr>\n",
       "      <th>6100000089</th>\n",
       "      <td>1</td>\n",
       "      <td>1</td>\n",
       "    </tr>\n",
       "    <tr>\n",
       "      <th>6100000090</th>\n",
       "      <td>4</td>\n",
       "      <td>3</td>\n",
       "    </tr>\n",
       "  </tbody>\n",
       "</table>\n",
       "<p>1472 rows × 2 columns</p>\n",
       "</div>"
      ]
     },
     "metadata": {},
     "execution_count": 101
    }
   ],
   "metadata": {}
  },
  {
   "cell_type": "code",
   "execution_count": 102,
   "source": [
    "# Index로 있는 patient_id를 컬럼으로 빼내고 정리한다.\r\n",
    "df3.columns.name=None # 이 column.name은 현재 is_essential로 표현되고 있는 것이다.\r\n",
    "df3 = df3.reset_index()\r\n",
    "df3 = df3.rename(columns={False:'non_essential',True:'essential'})\r\n",
    "df3.head()"
   ],
   "outputs": [
    {
     "output_type": "execute_result",
     "data": {
      "text/plain": [
       "   patient_id  non_essential  essential\n",
       "0  1000000001              1          1\n",
       "1  1000000002              4          9\n",
       "2  1000000003              2          0\n",
       "3  1000000004              0          1\n",
       "4  1000000005              0          1"
      ],
      "text/html": [
       "<div>\n",
       "<style scoped>\n",
       "    .dataframe tbody tr th:only-of-type {\n",
       "        vertical-align: middle;\n",
       "    }\n",
       "\n",
       "    .dataframe tbody tr th {\n",
       "        vertical-align: top;\n",
       "    }\n",
       "\n",
       "    .dataframe thead th {\n",
       "        text-align: right;\n",
       "    }\n",
       "</style>\n",
       "<table border=\"1\" class=\"dataframe\">\n",
       "  <thead>\n",
       "    <tr style=\"text-align: right;\">\n",
       "      <th></th>\n",
       "      <th>patient_id</th>\n",
       "      <th>non_essential</th>\n",
       "      <th>essential</th>\n",
       "    </tr>\n",
       "  </thead>\n",
       "  <tbody>\n",
       "    <tr>\n",
       "      <th>0</th>\n",
       "      <td>1000000001</td>\n",
       "      <td>1</td>\n",
       "      <td>1</td>\n",
       "    </tr>\n",
       "    <tr>\n",
       "      <th>1</th>\n",
       "      <td>1000000002</td>\n",
       "      <td>4</td>\n",
       "      <td>9</td>\n",
       "    </tr>\n",
       "    <tr>\n",
       "      <th>2</th>\n",
       "      <td>1000000003</td>\n",
       "      <td>2</td>\n",
       "      <td>0</td>\n",
       "    </tr>\n",
       "    <tr>\n",
       "      <th>3</th>\n",
       "      <td>1000000004</td>\n",
       "      <td>0</td>\n",
       "      <td>1</td>\n",
       "    </tr>\n",
       "    <tr>\n",
       "      <th>4</th>\n",
       "      <td>1000000005</td>\n",
       "      <td>0</td>\n",
       "      <td>1</td>\n",
       "    </tr>\n",
       "  </tbody>\n",
       "</table>\n",
       "</div>"
      ]
     },
     "metadata": {},
     "execution_count": 102
    }
   ],
   "metadata": {}
  },
  {
   "cell_type": "code",
   "execution_count": 103,
   "source": [
    "df_joined0 = df1.merge(df3, on='patient_id', how='inner')"
   ],
   "outputs": [],
   "metadata": {}
  },
  {
   "cell_type": "code",
   "execution_count": 104,
   "source": [
    "df_joined0"
   ],
   "outputs": [
    {
     "output_type": "execute_result",
     "data": {
      "text/plain": [
       "      patient_id  global_num     sex birth_year age country          province  \\\n",
       "0     1000000001         2.0    male       1964  50   Korea             Seoul   \n",
       "1     1000000002         5.0    male       1987  30   Korea             Seoul   \n",
       "2     1000000003         6.0    male       1964  50   Korea             Seoul   \n",
       "3     1000000004         7.0    male       1991  20   Korea             Seoul   \n",
       "4     1000000005         9.0  female       1992  20   Korea             Seoul   \n",
       "...          ...         ...     ...        ...  ..     ...               ...   \n",
       "1467  6100000086         NaN    male       1966  50   Korea  Gyeongsangnam-do   \n",
       "1468  6100000087         NaN  female       1967  50   Korea  Gyeongsangnam-do   \n",
       "1469  6100000088         NaN    male       1994  20   Korea  Gyeongsangnam-do   \n",
       "1470  6100000089         NaN    male       1960  60   Korea  Gyeongsangnam-do   \n",
       "1471  6100000090         NaN    male       1980  40   Korea  Gyeongsangnam-do   \n",
       "\n",
       "             city disease        infection_case  ...  infected_by  \\\n",
       "0      Gangseo-gu     NaN       overseas inflow  ...          NaN   \n",
       "1     Jungnang-gu     NaN       overseas inflow  ...          NaN   \n",
       "2       Jongno-gu     NaN  contact with patient  ...   2002000001   \n",
       "3         Mapo-gu     NaN       overseas inflow  ...          NaN   \n",
       "4     Seongbuk-gu     NaN  contact with patient  ...   1000000002   \n",
       "...           ...     ...                   ...  ...          ...   \n",
       "1467  Changwon-si     NaN                   etc  ...          NaN   \n",
       "1468  Changwon-si     NaN                   etc  ...          NaN   \n",
       "1469  Changwon-si     NaN                   etc  ...          NaN   \n",
       "1470    Haman-gun     NaN                   etc  ...   6002000035   \n",
       "1471   Yangsan-si     NaN       overseas inflow  ...          NaN   \n",
       "\n",
       "     contact_number symptom_onset_date confirmed_date released_date  \\\n",
       "0                75         2020-01-22     2020-01-23    2020-02-05   \n",
       "1                31                NaN     2020-01-30    2020-03-02   \n",
       "2                17                NaN     2020-01-30    2020-02-19   \n",
       "3                 9         2020-01-26     2020-01-30    2020-02-15   \n",
       "4                 2                NaN     2020-01-31    2020-02-24   \n",
       "...             ...                ...            ...           ...   \n",
       "1467            NaN         2020-03-15     2020-03-19           NaN   \n",
       "1468            NaN         2020-03-16     2020-03-21           NaN   \n",
       "1469            NaN         2020-03-06     2020-03-22    2020-04-19   \n",
       "1470            NaN         2020-03-22     2020-03-23           NaN   \n",
       "1471            NaN         2020-03-25     2020-03-26           NaN   \n",
       "\n",
       "     deceased_date     state infection_cause non_essential  essential  \n",
       "0              NaN  released        Overseas             1          1  \n",
       "1              NaN  released        Overseas             4          9  \n",
       "2              NaN  released      Individual             2          0  \n",
       "3              NaN  released        Overseas             0          1  \n",
       "4              NaN  released      Individual             0          1  \n",
       "...            ...       ...             ...           ...        ...  \n",
       "1467           NaN  isolated         Unknown             2          2  \n",
       "1468           NaN  isolated         Unknown             2          6  \n",
       "1469           NaN  released         Unknown            19          5  \n",
       "1470           NaN  released         Unknown             1          1  \n",
       "1471           NaN  released        Overseas             4          3  \n",
       "\n",
       "[1472 rows x 21 columns]"
      ],
      "text/html": [
       "<div>\n",
       "<style scoped>\n",
       "    .dataframe tbody tr th:only-of-type {\n",
       "        vertical-align: middle;\n",
       "    }\n",
       "\n",
       "    .dataframe tbody tr th {\n",
       "        vertical-align: top;\n",
       "    }\n",
       "\n",
       "    .dataframe thead th {\n",
       "        text-align: right;\n",
       "    }\n",
       "</style>\n",
       "<table border=\"1\" class=\"dataframe\">\n",
       "  <thead>\n",
       "    <tr style=\"text-align: right;\">\n",
       "      <th></th>\n",
       "      <th>patient_id</th>\n",
       "      <th>global_num</th>\n",
       "      <th>sex</th>\n",
       "      <th>birth_year</th>\n",
       "      <th>age</th>\n",
       "      <th>country</th>\n",
       "      <th>province</th>\n",
       "      <th>city</th>\n",
       "      <th>disease</th>\n",
       "      <th>infection_case</th>\n",
       "      <th>...</th>\n",
       "      <th>infected_by</th>\n",
       "      <th>contact_number</th>\n",
       "      <th>symptom_onset_date</th>\n",
       "      <th>confirmed_date</th>\n",
       "      <th>released_date</th>\n",
       "      <th>deceased_date</th>\n",
       "      <th>state</th>\n",
       "      <th>infection_cause</th>\n",
       "      <th>non_essential</th>\n",
       "      <th>essential</th>\n",
       "    </tr>\n",
       "  </thead>\n",
       "  <tbody>\n",
       "    <tr>\n",
       "      <th>0</th>\n",
       "      <td>1000000001</td>\n",
       "      <td>2.0</td>\n",
       "      <td>male</td>\n",
       "      <td>1964</td>\n",
       "      <td>50</td>\n",
       "      <td>Korea</td>\n",
       "      <td>Seoul</td>\n",
       "      <td>Gangseo-gu</td>\n",
       "      <td>NaN</td>\n",
       "      <td>overseas inflow</td>\n",
       "      <td>...</td>\n",
       "      <td>NaN</td>\n",
       "      <td>75</td>\n",
       "      <td>2020-01-22</td>\n",
       "      <td>2020-01-23</td>\n",
       "      <td>2020-02-05</td>\n",
       "      <td>NaN</td>\n",
       "      <td>released</td>\n",
       "      <td>Overseas</td>\n",
       "      <td>1</td>\n",
       "      <td>1</td>\n",
       "    </tr>\n",
       "    <tr>\n",
       "      <th>1</th>\n",
       "      <td>1000000002</td>\n",
       "      <td>5.0</td>\n",
       "      <td>male</td>\n",
       "      <td>1987</td>\n",
       "      <td>30</td>\n",
       "      <td>Korea</td>\n",
       "      <td>Seoul</td>\n",
       "      <td>Jungnang-gu</td>\n",
       "      <td>NaN</td>\n",
       "      <td>overseas inflow</td>\n",
       "      <td>...</td>\n",
       "      <td>NaN</td>\n",
       "      <td>31</td>\n",
       "      <td>NaN</td>\n",
       "      <td>2020-01-30</td>\n",
       "      <td>2020-03-02</td>\n",
       "      <td>NaN</td>\n",
       "      <td>released</td>\n",
       "      <td>Overseas</td>\n",
       "      <td>4</td>\n",
       "      <td>9</td>\n",
       "    </tr>\n",
       "    <tr>\n",
       "      <th>2</th>\n",
       "      <td>1000000003</td>\n",
       "      <td>6.0</td>\n",
       "      <td>male</td>\n",
       "      <td>1964</td>\n",
       "      <td>50</td>\n",
       "      <td>Korea</td>\n",
       "      <td>Seoul</td>\n",
       "      <td>Jongno-gu</td>\n",
       "      <td>NaN</td>\n",
       "      <td>contact with patient</td>\n",
       "      <td>...</td>\n",
       "      <td>2002000001</td>\n",
       "      <td>17</td>\n",
       "      <td>NaN</td>\n",
       "      <td>2020-01-30</td>\n",
       "      <td>2020-02-19</td>\n",
       "      <td>NaN</td>\n",
       "      <td>released</td>\n",
       "      <td>Individual</td>\n",
       "      <td>2</td>\n",
       "      <td>0</td>\n",
       "    </tr>\n",
       "    <tr>\n",
       "      <th>3</th>\n",
       "      <td>1000000004</td>\n",
       "      <td>7.0</td>\n",
       "      <td>male</td>\n",
       "      <td>1991</td>\n",
       "      <td>20</td>\n",
       "      <td>Korea</td>\n",
       "      <td>Seoul</td>\n",
       "      <td>Mapo-gu</td>\n",
       "      <td>NaN</td>\n",
       "      <td>overseas inflow</td>\n",
       "      <td>...</td>\n",
       "      <td>NaN</td>\n",
       "      <td>9</td>\n",
       "      <td>2020-01-26</td>\n",
       "      <td>2020-01-30</td>\n",
       "      <td>2020-02-15</td>\n",
       "      <td>NaN</td>\n",
       "      <td>released</td>\n",
       "      <td>Overseas</td>\n",
       "      <td>0</td>\n",
       "      <td>1</td>\n",
       "    </tr>\n",
       "    <tr>\n",
       "      <th>4</th>\n",
       "      <td>1000000005</td>\n",
       "      <td>9.0</td>\n",
       "      <td>female</td>\n",
       "      <td>1992</td>\n",
       "      <td>20</td>\n",
       "      <td>Korea</td>\n",
       "      <td>Seoul</td>\n",
       "      <td>Seongbuk-gu</td>\n",
       "      <td>NaN</td>\n",
       "      <td>contact with patient</td>\n",
       "      <td>...</td>\n",
       "      <td>1000000002</td>\n",
       "      <td>2</td>\n",
       "      <td>NaN</td>\n",
       "      <td>2020-01-31</td>\n",
       "      <td>2020-02-24</td>\n",
       "      <td>NaN</td>\n",
       "      <td>released</td>\n",
       "      <td>Individual</td>\n",
       "      <td>0</td>\n",
       "      <td>1</td>\n",
       "    </tr>\n",
       "    <tr>\n",
       "      <th>...</th>\n",
       "      <td>...</td>\n",
       "      <td>...</td>\n",
       "      <td>...</td>\n",
       "      <td>...</td>\n",
       "      <td>...</td>\n",
       "      <td>...</td>\n",
       "      <td>...</td>\n",
       "      <td>...</td>\n",
       "      <td>...</td>\n",
       "      <td>...</td>\n",
       "      <td>...</td>\n",
       "      <td>...</td>\n",
       "      <td>...</td>\n",
       "      <td>...</td>\n",
       "      <td>...</td>\n",
       "      <td>...</td>\n",
       "      <td>...</td>\n",
       "      <td>...</td>\n",
       "      <td>...</td>\n",
       "      <td>...</td>\n",
       "      <td>...</td>\n",
       "    </tr>\n",
       "    <tr>\n",
       "      <th>1467</th>\n",
       "      <td>6100000086</td>\n",
       "      <td>NaN</td>\n",
       "      <td>male</td>\n",
       "      <td>1966</td>\n",
       "      <td>50</td>\n",
       "      <td>Korea</td>\n",
       "      <td>Gyeongsangnam-do</td>\n",
       "      <td>Changwon-si</td>\n",
       "      <td>NaN</td>\n",
       "      <td>etc</td>\n",
       "      <td>...</td>\n",
       "      <td>NaN</td>\n",
       "      <td>NaN</td>\n",
       "      <td>2020-03-15</td>\n",
       "      <td>2020-03-19</td>\n",
       "      <td>NaN</td>\n",
       "      <td>NaN</td>\n",
       "      <td>isolated</td>\n",
       "      <td>Unknown</td>\n",
       "      <td>2</td>\n",
       "      <td>2</td>\n",
       "    </tr>\n",
       "    <tr>\n",
       "      <th>1468</th>\n",
       "      <td>6100000087</td>\n",
       "      <td>NaN</td>\n",
       "      <td>female</td>\n",
       "      <td>1967</td>\n",
       "      <td>50</td>\n",
       "      <td>Korea</td>\n",
       "      <td>Gyeongsangnam-do</td>\n",
       "      <td>Changwon-si</td>\n",
       "      <td>NaN</td>\n",
       "      <td>etc</td>\n",
       "      <td>...</td>\n",
       "      <td>NaN</td>\n",
       "      <td>NaN</td>\n",
       "      <td>2020-03-16</td>\n",
       "      <td>2020-03-21</td>\n",
       "      <td>NaN</td>\n",
       "      <td>NaN</td>\n",
       "      <td>isolated</td>\n",
       "      <td>Unknown</td>\n",
       "      <td>2</td>\n",
       "      <td>6</td>\n",
       "    </tr>\n",
       "    <tr>\n",
       "      <th>1469</th>\n",
       "      <td>6100000088</td>\n",
       "      <td>NaN</td>\n",
       "      <td>male</td>\n",
       "      <td>1994</td>\n",
       "      <td>20</td>\n",
       "      <td>Korea</td>\n",
       "      <td>Gyeongsangnam-do</td>\n",
       "      <td>Changwon-si</td>\n",
       "      <td>NaN</td>\n",
       "      <td>etc</td>\n",
       "      <td>...</td>\n",
       "      <td>NaN</td>\n",
       "      <td>NaN</td>\n",
       "      <td>2020-03-06</td>\n",
       "      <td>2020-03-22</td>\n",
       "      <td>2020-04-19</td>\n",
       "      <td>NaN</td>\n",
       "      <td>released</td>\n",
       "      <td>Unknown</td>\n",
       "      <td>19</td>\n",
       "      <td>5</td>\n",
       "    </tr>\n",
       "    <tr>\n",
       "      <th>1470</th>\n",
       "      <td>6100000089</td>\n",
       "      <td>NaN</td>\n",
       "      <td>male</td>\n",
       "      <td>1960</td>\n",
       "      <td>60</td>\n",
       "      <td>Korea</td>\n",
       "      <td>Gyeongsangnam-do</td>\n",
       "      <td>Haman-gun</td>\n",
       "      <td>NaN</td>\n",
       "      <td>etc</td>\n",
       "      <td>...</td>\n",
       "      <td>6002000035</td>\n",
       "      <td>NaN</td>\n",
       "      <td>2020-03-22</td>\n",
       "      <td>2020-03-23</td>\n",
       "      <td>NaN</td>\n",
       "      <td>NaN</td>\n",
       "      <td>released</td>\n",
       "      <td>Unknown</td>\n",
       "      <td>1</td>\n",
       "      <td>1</td>\n",
       "    </tr>\n",
       "    <tr>\n",
       "      <th>1471</th>\n",
       "      <td>6100000090</td>\n",
       "      <td>NaN</td>\n",
       "      <td>male</td>\n",
       "      <td>1980</td>\n",
       "      <td>40</td>\n",
       "      <td>Korea</td>\n",
       "      <td>Gyeongsangnam-do</td>\n",
       "      <td>Yangsan-si</td>\n",
       "      <td>NaN</td>\n",
       "      <td>overseas inflow</td>\n",
       "      <td>...</td>\n",
       "      <td>NaN</td>\n",
       "      <td>NaN</td>\n",
       "      <td>2020-03-25</td>\n",
       "      <td>2020-03-26</td>\n",
       "      <td>NaN</td>\n",
       "      <td>NaN</td>\n",
       "      <td>released</td>\n",
       "      <td>Overseas</td>\n",
       "      <td>4</td>\n",
       "      <td>3</td>\n",
       "    </tr>\n",
       "  </tbody>\n",
       "</table>\n",
       "<p>1472 rows × 21 columns</p>\n",
       "</div>"
      ]
     },
     "metadata": {},
     "execution_count": 104
    }
   ],
   "metadata": {}
  },
  {
   "cell_type": "code",
   "execution_count": 105,
   "source": [
    "# df1 (PatientInfo)와 df3 (PatientRoute 요약)을 Inner Join 해서 가로 방향으로 붙여서 df_joined를 만든다.\r\n",
    "df_joined = df1.merge(df3, left_on = 'patient_id', right_on = 'patient_id' , how='inner')"
   ],
   "outputs": [],
   "metadata": {}
  },
  {
   "cell_type": "code",
   "execution_count": 106,
   "source": [
    "# 살펴본다.\r\n",
    "df_joined.head()"
   ],
   "outputs": [
    {
     "output_type": "execute_result",
     "data": {
      "text/plain": [
       "   patient_id  global_num     sex birth_year age country province  \\\n",
       "0  1000000001         2.0    male       1964  50   Korea    Seoul   \n",
       "1  1000000002         5.0    male       1987  30   Korea    Seoul   \n",
       "2  1000000003         6.0    male       1964  50   Korea    Seoul   \n",
       "3  1000000004         7.0    male       1991  20   Korea    Seoul   \n",
       "4  1000000005         9.0  female       1992  20   Korea    Seoul   \n",
       "\n",
       "          city disease        infection_case  ...  infected_by contact_number  \\\n",
       "0   Gangseo-gu     NaN       overseas inflow  ...          NaN             75   \n",
       "1  Jungnang-gu     NaN       overseas inflow  ...          NaN             31   \n",
       "2    Jongno-gu     NaN  contact with patient  ...   2002000001             17   \n",
       "3      Mapo-gu     NaN       overseas inflow  ...          NaN              9   \n",
       "4  Seongbuk-gu     NaN  contact with patient  ...   1000000002              2   \n",
       "\n",
       "  symptom_onset_date confirmed_date released_date deceased_date     state  \\\n",
       "0         2020-01-22     2020-01-23    2020-02-05           NaN  released   \n",
       "1                NaN     2020-01-30    2020-03-02           NaN  released   \n",
       "2                NaN     2020-01-30    2020-02-19           NaN  released   \n",
       "3         2020-01-26     2020-01-30    2020-02-15           NaN  released   \n",
       "4                NaN     2020-01-31    2020-02-24           NaN  released   \n",
       "\n",
       "  infection_cause non_essential  essential  \n",
       "0        Overseas             1          1  \n",
       "1        Overseas             4          9  \n",
       "2      Individual             2          0  \n",
       "3        Overseas             0          1  \n",
       "4      Individual             0          1  \n",
       "\n",
       "[5 rows x 21 columns]"
      ],
      "text/html": [
       "<div>\n",
       "<style scoped>\n",
       "    .dataframe tbody tr th:only-of-type {\n",
       "        vertical-align: middle;\n",
       "    }\n",
       "\n",
       "    .dataframe tbody tr th {\n",
       "        vertical-align: top;\n",
       "    }\n",
       "\n",
       "    .dataframe thead th {\n",
       "        text-align: right;\n",
       "    }\n",
       "</style>\n",
       "<table border=\"1\" class=\"dataframe\">\n",
       "  <thead>\n",
       "    <tr style=\"text-align: right;\">\n",
       "      <th></th>\n",
       "      <th>patient_id</th>\n",
       "      <th>global_num</th>\n",
       "      <th>sex</th>\n",
       "      <th>birth_year</th>\n",
       "      <th>age</th>\n",
       "      <th>country</th>\n",
       "      <th>province</th>\n",
       "      <th>city</th>\n",
       "      <th>disease</th>\n",
       "      <th>infection_case</th>\n",
       "      <th>...</th>\n",
       "      <th>infected_by</th>\n",
       "      <th>contact_number</th>\n",
       "      <th>symptom_onset_date</th>\n",
       "      <th>confirmed_date</th>\n",
       "      <th>released_date</th>\n",
       "      <th>deceased_date</th>\n",
       "      <th>state</th>\n",
       "      <th>infection_cause</th>\n",
       "      <th>non_essential</th>\n",
       "      <th>essential</th>\n",
       "    </tr>\n",
       "  </thead>\n",
       "  <tbody>\n",
       "    <tr>\n",
       "      <th>0</th>\n",
       "      <td>1000000001</td>\n",
       "      <td>2.0</td>\n",
       "      <td>male</td>\n",
       "      <td>1964</td>\n",
       "      <td>50</td>\n",
       "      <td>Korea</td>\n",
       "      <td>Seoul</td>\n",
       "      <td>Gangseo-gu</td>\n",
       "      <td>NaN</td>\n",
       "      <td>overseas inflow</td>\n",
       "      <td>...</td>\n",
       "      <td>NaN</td>\n",
       "      <td>75</td>\n",
       "      <td>2020-01-22</td>\n",
       "      <td>2020-01-23</td>\n",
       "      <td>2020-02-05</td>\n",
       "      <td>NaN</td>\n",
       "      <td>released</td>\n",
       "      <td>Overseas</td>\n",
       "      <td>1</td>\n",
       "      <td>1</td>\n",
       "    </tr>\n",
       "    <tr>\n",
       "      <th>1</th>\n",
       "      <td>1000000002</td>\n",
       "      <td>5.0</td>\n",
       "      <td>male</td>\n",
       "      <td>1987</td>\n",
       "      <td>30</td>\n",
       "      <td>Korea</td>\n",
       "      <td>Seoul</td>\n",
       "      <td>Jungnang-gu</td>\n",
       "      <td>NaN</td>\n",
       "      <td>overseas inflow</td>\n",
       "      <td>...</td>\n",
       "      <td>NaN</td>\n",
       "      <td>31</td>\n",
       "      <td>NaN</td>\n",
       "      <td>2020-01-30</td>\n",
       "      <td>2020-03-02</td>\n",
       "      <td>NaN</td>\n",
       "      <td>released</td>\n",
       "      <td>Overseas</td>\n",
       "      <td>4</td>\n",
       "      <td>9</td>\n",
       "    </tr>\n",
       "    <tr>\n",
       "      <th>2</th>\n",
       "      <td>1000000003</td>\n",
       "      <td>6.0</td>\n",
       "      <td>male</td>\n",
       "      <td>1964</td>\n",
       "      <td>50</td>\n",
       "      <td>Korea</td>\n",
       "      <td>Seoul</td>\n",
       "      <td>Jongno-gu</td>\n",
       "      <td>NaN</td>\n",
       "      <td>contact with patient</td>\n",
       "      <td>...</td>\n",
       "      <td>2002000001</td>\n",
       "      <td>17</td>\n",
       "      <td>NaN</td>\n",
       "      <td>2020-01-30</td>\n",
       "      <td>2020-02-19</td>\n",
       "      <td>NaN</td>\n",
       "      <td>released</td>\n",
       "      <td>Individual</td>\n",
       "      <td>2</td>\n",
       "      <td>0</td>\n",
       "    </tr>\n",
       "    <tr>\n",
       "      <th>3</th>\n",
       "      <td>1000000004</td>\n",
       "      <td>7.0</td>\n",
       "      <td>male</td>\n",
       "      <td>1991</td>\n",
       "      <td>20</td>\n",
       "      <td>Korea</td>\n",
       "      <td>Seoul</td>\n",
       "      <td>Mapo-gu</td>\n",
       "      <td>NaN</td>\n",
       "      <td>overseas inflow</td>\n",
       "      <td>...</td>\n",
       "      <td>NaN</td>\n",
       "      <td>9</td>\n",
       "      <td>2020-01-26</td>\n",
       "      <td>2020-01-30</td>\n",
       "      <td>2020-02-15</td>\n",
       "      <td>NaN</td>\n",
       "      <td>released</td>\n",
       "      <td>Overseas</td>\n",
       "      <td>0</td>\n",
       "      <td>1</td>\n",
       "    </tr>\n",
       "    <tr>\n",
       "      <th>4</th>\n",
       "      <td>1000000005</td>\n",
       "      <td>9.0</td>\n",
       "      <td>female</td>\n",
       "      <td>1992</td>\n",
       "      <td>20</td>\n",
       "      <td>Korea</td>\n",
       "      <td>Seoul</td>\n",
       "      <td>Seongbuk-gu</td>\n",
       "      <td>NaN</td>\n",
       "      <td>contact with patient</td>\n",
       "      <td>...</td>\n",
       "      <td>1000000002</td>\n",
       "      <td>2</td>\n",
       "      <td>NaN</td>\n",
       "      <td>2020-01-31</td>\n",
       "      <td>2020-02-24</td>\n",
       "      <td>NaN</td>\n",
       "      <td>released</td>\n",
       "      <td>Individual</td>\n",
       "      <td>0</td>\n",
       "      <td>1</td>\n",
       "    </tr>\n",
       "  </tbody>\n",
       "</table>\n",
       "<p>5 rows × 21 columns</p>\n",
       "</div>"
      ]
     },
     "metadata": {},
     "execution_count": 106
    }
   ],
   "metadata": {}
  },
  {
   "cell_type": "code",
   "execution_count": 107,
   "source": [
    "# 모든 환자에 대해서 동선이 명확한 것이 아니기 때문에 Join 후 대폭 행의 수가 줄어 들었다.\r\n",
    "print(\"Number of Rows Before = {}\".format(len(df1)))\r\n",
    "print(\"Number of Rows After = {}\".format(len(df_joined)))"
   ],
   "outputs": [
    {
     "output_type": "stream",
     "name": "stdout",
     "text": [
      "Number of Rows Before = 4004\n",
      "Number of Rows After = 1472\n"
     ]
    }
   ],
   "metadata": {}
  },
  {
   "cell_type": "markdown",
   "source": [
    "### 5. 접촉 빈도 (Number of Contacts)"
   ],
   "metadata": {}
  },
  {
   "cell_type": "code",
   "execution_count": 108,
   "source": [
    "df_joined['contact_number'].unique()"
   ],
   "outputs": [
    {
     "output_type": "execute_result",
     "data": {
      "text/plain": [
       "array(['75', '31', '17', '9', '2', '43', '0', '68', '6', '23', '117',\n",
       "       '27', '8', nan, '3', '1', '1000000772', '1000000796', '1091',\n",
       "       '131', '16', '14', '4', '19', '296', '15', '34', '37', '22', '7',\n",
       "       '10', '28', '21', '5', '25', '18', '11', '30', '41', '71', '38',\n",
       "       '13', '24', '185', '160', '1160', '450', '65', '156', '39', '47',\n",
       "       '86', '74', '12', '40', '-', '95', '290', '32', '45', '35', '51',\n",
       "       '130', '53', '106', '174', '78', '89', '113'], dtype=object)"
      ]
     },
     "metadata": {},
     "execution_count": 108
    }
   ],
   "metadata": {}
  },
  {
   "cell_type": "code",
   "execution_count": 109,
   "source": [
    "# contact_number가 결측치가 아니고 '-'가 아닌 행들만 가져온다. '-'는 오류로 유입된 값인듯.\r\n",
    "res = df_joined.contact_number\r\n",
    "df_joined = df_joined[~res.isnull()]\r\n",
    "df_joined = df_joined[res != '-']\r\n",
    "# df_joined = df_joined[~res.isnull() & (res != '-')]"
   ],
   "outputs": [],
   "metadata": {}
  },
  {
   "cell_type": "code",
   "execution_count": 110,
   "source": [
    "df_joined['contact_number'].unique()"
   ],
   "outputs": [
    {
     "output_type": "execute_result",
     "data": {
      "text/plain": [
       "array(['75', '31', '17', '9', '2', '43', '0', '68', '6', '23', '117',\n",
       "       '27', '8', '3', '1', '1000000772', '1000000796', '1091', '131',\n",
       "       '16', '14', '4', '19', '296', '15', '34', '37', '22', '7', '10',\n",
       "       '28', '21', '5', '25', '18', '11', '30', '41', '71', '38', '13',\n",
       "       '24', '185', '160', '1160', '450', '65', '156', '39', '47', '86',\n",
       "       '74', '12', '40', '95', '290', '32', '45', '35', '51', '130', '53',\n",
       "       '106', '174', '78', '89', '113'], dtype=object)"
      ]
     },
     "metadata": {},
     "execution_count": 110
    }
   ],
   "metadata": {}
  },
  {
   "cell_type": "code",
   "execution_count": 111,
   "source": [
    "# contact_number의 자료형을 integer로 변경하고 이상값은 제거한다.\r\n",
    "df_joined['contact_number'] = df_joined.contact_number.astype(int)\r\n",
    "df_joined = df_joined[df_joined.contact_number < 10000]"
   ],
   "outputs": [],
   "metadata": {}
  },
  {
   "cell_type": "code",
   "execution_count": 112,
   "source": [
    "df_joined['contact_number'].unique()"
   ],
   "outputs": [
    {
     "output_type": "execute_result",
     "data": {
      "text/plain": [
       "array([  75,   31,   17,    9,    2,   43,    0,   68,    6,   23,  117,\n",
       "         27,    8,    3,    1, 1091,  131,   16,   14,    4,   19,  296,\n",
       "         15,   34,   37,   22,    7,   10,   28,   21,    5,   25,   18,\n",
       "         11,   30,   41,   71,   38,   13,   24,  185,  160, 1160,  450,\n",
       "         65,  156,   39,   47,   86,   74,   12,   40,   95,  290,   32,\n",
       "         45,   35,   51,  130,   53,  106,  174,   78,   89,  113])"
      ]
     },
     "metadata": {},
     "execution_count": 112
    }
   ],
   "metadata": {}
  },
  {
   "cell_type": "code",
   "execution_count": 113,
   "source": [
    "# 최대 첩촉빈도.\r\n",
    "df_joined.contact_number.max()"
   ],
   "outputs": [
    {
     "output_type": "execute_result",
     "data": {
      "text/plain": [
       "1160"
      ]
     },
     "metadata": {},
     "execution_count": 113
    }
   ],
   "metadata": {}
  },
  {
   "cell_type": "code",
   "execution_count": 114,
   "source": [
    "# 최대 첩촉빈도에 해당하는 환자.\r\n",
    "df_joined[df_joined.contact_number == df_joined.contact_number.max()]"
   ],
   "outputs": [
    {
     "output_type": "execute_result",
     "data": {
      "text/plain": [
       "     patient_id  global_num     sex birth_year age country province city  \\\n",
       "901  1200000031        31.0  female       1959  60   Korea    Daegu  NaN   \n",
       "\n",
       "    disease      infection_case  ...  infected_by contact_number  \\\n",
       "901     NaN  Shincheonji Church  ...          NaN           1160   \n",
       "\n",
       "     symptom_onset_date confirmed_date released_date deceased_date     state  \\\n",
       "901                 NaN     2020-02-18           NaN           NaN  isolated   \n",
       "\n",
       "    infection_cause non_essential  essential  \n",
       "901           Group             5         11  \n",
       "\n",
       "[1 rows x 21 columns]"
      ],
      "text/html": [
       "<div>\n",
       "<style scoped>\n",
       "    .dataframe tbody tr th:only-of-type {\n",
       "        vertical-align: middle;\n",
       "    }\n",
       "\n",
       "    .dataframe tbody tr th {\n",
       "        vertical-align: top;\n",
       "    }\n",
       "\n",
       "    .dataframe thead th {\n",
       "        text-align: right;\n",
       "    }\n",
       "</style>\n",
       "<table border=\"1\" class=\"dataframe\">\n",
       "  <thead>\n",
       "    <tr style=\"text-align: right;\">\n",
       "      <th></th>\n",
       "      <th>patient_id</th>\n",
       "      <th>global_num</th>\n",
       "      <th>sex</th>\n",
       "      <th>birth_year</th>\n",
       "      <th>age</th>\n",
       "      <th>country</th>\n",
       "      <th>province</th>\n",
       "      <th>city</th>\n",
       "      <th>disease</th>\n",
       "      <th>infection_case</th>\n",
       "      <th>...</th>\n",
       "      <th>infected_by</th>\n",
       "      <th>contact_number</th>\n",
       "      <th>symptom_onset_date</th>\n",
       "      <th>confirmed_date</th>\n",
       "      <th>released_date</th>\n",
       "      <th>deceased_date</th>\n",
       "      <th>state</th>\n",
       "      <th>infection_cause</th>\n",
       "      <th>non_essential</th>\n",
       "      <th>essential</th>\n",
       "    </tr>\n",
       "  </thead>\n",
       "  <tbody>\n",
       "    <tr>\n",
       "      <th>901</th>\n",
       "      <td>1200000031</td>\n",
       "      <td>31.0</td>\n",
       "      <td>female</td>\n",
       "      <td>1959</td>\n",
       "      <td>60</td>\n",
       "      <td>Korea</td>\n",
       "      <td>Daegu</td>\n",
       "      <td>NaN</td>\n",
       "      <td>NaN</td>\n",
       "      <td>Shincheonji Church</td>\n",
       "      <td>...</td>\n",
       "      <td>NaN</td>\n",
       "      <td>1160</td>\n",
       "      <td>NaN</td>\n",
       "      <td>2020-02-18</td>\n",
       "      <td>NaN</td>\n",
       "      <td>NaN</td>\n",
       "      <td>isolated</td>\n",
       "      <td>Group</td>\n",
       "      <td>5</td>\n",
       "      <td>11</td>\n",
       "    </tr>\n",
       "  </tbody>\n",
       "</table>\n",
       "<p>1 rows × 21 columns</p>\n",
       "</div>"
      ]
     },
     "metadata": {},
     "execution_count": 114
    }
   ],
   "metadata": {}
  },
  {
   "cell_type": "code",
   "execution_count": 115,
   "source": [
    "# 필요한 컬럼만 가져와서 정리한다.\r\n",
    "df4 = df_joined[['patient_id', 'contact_number', 'essential','non_essential','infection_cause']]\r\n",
    "df4.head()"
   ],
   "outputs": [
    {
     "output_type": "execute_result",
     "data": {
      "text/plain": [
       "   patient_id  contact_number  essential  non_essential infection_cause\n",
       "0  1000000001              75          1              1        Overseas\n",
       "1  1000000002              31          9              4        Overseas\n",
       "2  1000000003              17          0              2      Individual\n",
       "3  1000000004               9          1              0        Overseas\n",
       "4  1000000005               2          1              0      Individual"
      ],
      "text/html": [
       "<div>\n",
       "<style scoped>\n",
       "    .dataframe tbody tr th:only-of-type {\n",
       "        vertical-align: middle;\n",
       "    }\n",
       "\n",
       "    .dataframe tbody tr th {\n",
       "        vertical-align: top;\n",
       "    }\n",
       "\n",
       "    .dataframe thead th {\n",
       "        text-align: right;\n",
       "    }\n",
       "</style>\n",
       "<table border=\"1\" class=\"dataframe\">\n",
       "  <thead>\n",
       "    <tr style=\"text-align: right;\">\n",
       "      <th></th>\n",
       "      <th>patient_id</th>\n",
       "      <th>contact_number</th>\n",
       "      <th>essential</th>\n",
       "      <th>non_essential</th>\n",
       "      <th>infection_cause</th>\n",
       "    </tr>\n",
       "  </thead>\n",
       "  <tbody>\n",
       "    <tr>\n",
       "      <th>0</th>\n",
       "      <td>1000000001</td>\n",
       "      <td>75</td>\n",
       "      <td>1</td>\n",
       "      <td>1</td>\n",
       "      <td>Overseas</td>\n",
       "    </tr>\n",
       "    <tr>\n",
       "      <th>1</th>\n",
       "      <td>1000000002</td>\n",
       "      <td>31</td>\n",
       "      <td>9</td>\n",
       "      <td>4</td>\n",
       "      <td>Overseas</td>\n",
       "    </tr>\n",
       "    <tr>\n",
       "      <th>2</th>\n",
       "      <td>1000000003</td>\n",
       "      <td>17</td>\n",
       "      <td>0</td>\n",
       "      <td>2</td>\n",
       "      <td>Individual</td>\n",
       "    </tr>\n",
       "    <tr>\n",
       "      <th>3</th>\n",
       "      <td>1000000004</td>\n",
       "      <td>9</td>\n",
       "      <td>1</td>\n",
       "      <td>0</td>\n",
       "      <td>Overseas</td>\n",
       "    </tr>\n",
       "    <tr>\n",
       "      <th>4</th>\n",
       "      <td>1000000005</td>\n",
       "      <td>2</td>\n",
       "      <td>1</td>\n",
       "      <td>0</td>\n",
       "      <td>Individual</td>\n",
       "    </tr>\n",
       "  </tbody>\n",
       "</table>\n",
       "</div>"
      ]
     },
     "metadata": {},
     "execution_count": 115
    }
   ],
   "metadata": {}
  },
  {
   "cell_type": "code",
   "execution_count": 116,
   "source": [
    "# 접촉 빈도를 히스토그램으로 시각화 한다.\r\n",
    "sns.distplot(df4.contact_number,bins=50)\r\n",
    "plt.show()"
   ],
   "outputs": [
    {
     "output_type": "display_data",
     "data": {
      "text/plain": [
       "<Figure size 432x288 with 1 Axes>"
      ],
      "image/png": "[encoded data removed]"
     },
     "metadata": {
      "needs_background": "light"
     }
    }
   ],
   "metadata": {}
  },
  {
   "cell_type": "markdown",
   "source": [
    "### 6. 군집화 (Clustering)"
   ],
   "metadata": {}
  },
  {
   "cell_type": "code",
   "execution_count": 117,
   "source": [
    "# 원핫 엔코딩과 역활이 같지만 drop_first를 사용해서 첫 열을 날려줄 수 있다.\r\n",
    "pd.get_dummies(df4.infection_cause, prefix='infection',drop_first=True)"
   ],
   "outputs": [
    {
     "output_type": "execute_result",
     "data": {
      "text/plain": [
       "      infection_Individual  infection_Overseas  infection_Unknown\n",
       "0                        0                   1                  0\n",
       "1                        0                   1                  0\n",
       "2                        1                   0                  0\n",
       "3                        0                   1                  0\n",
       "4                        1                   0                  0\n",
       "...                    ...                 ...                ...\n",
       "1242                     0                   0                  1\n",
       "1244                     0                   0                  1\n",
       "1246                     0                   0                  1\n",
       "1317                     0                   0                  1\n",
       "1318                     0                   0                  1\n",
       "\n",
       "[366 rows x 3 columns]"
      ],
      "text/html": [
       "<div>\n",
       "<style scoped>\n",
       "    .dataframe tbody tr th:only-of-type {\n",
       "        vertical-align: middle;\n",
       "    }\n",
       "\n",
       "    .dataframe tbody tr th {\n",
       "        vertical-align: top;\n",
       "    }\n",
       "\n",
       "    .dataframe thead th {\n",
       "        text-align: right;\n",
       "    }\n",
       "</style>\n",
       "<table border=\"1\" class=\"dataframe\">\n",
       "  <thead>\n",
       "    <tr style=\"text-align: right;\">\n",
       "      <th></th>\n",
       "      <th>infection_Individual</th>\n",
       "      <th>infection_Overseas</th>\n",
       "      <th>infection_Unknown</th>\n",
       "    </tr>\n",
       "  </thead>\n",
       "  <tbody>\n",
       "    <tr>\n",
       "      <th>0</th>\n",
       "      <td>0</td>\n",
       "      <td>1</td>\n",
       "      <td>0</td>\n",
       "    </tr>\n",
       "    <tr>\n",
       "      <th>1</th>\n",
       "      <td>0</td>\n",
       "      <td>1</td>\n",
       "      <td>0</td>\n",
       "    </tr>\n",
       "    <tr>\n",
       "      <th>2</th>\n",
       "      <td>1</td>\n",
       "      <td>0</td>\n",
       "      <td>0</td>\n",
       "    </tr>\n",
       "    <tr>\n",
       "      <th>3</th>\n",
       "      <td>0</td>\n",
       "      <td>1</td>\n",
       "      <td>0</td>\n",
       "    </tr>\n",
       "    <tr>\n",
       "      <th>4</th>\n",
       "      <td>1</td>\n",
       "      <td>0</td>\n",
       "      <td>0</td>\n",
       "    </tr>\n",
       "    <tr>\n",
       "      <th>...</th>\n",
       "      <td>...</td>\n",
       "      <td>...</td>\n",
       "      <td>...</td>\n",
       "    </tr>\n",
       "    <tr>\n",
       "      <th>1242</th>\n",
       "      <td>0</td>\n",
       "      <td>0</td>\n",
       "      <td>1</td>\n",
       "    </tr>\n",
       "    <tr>\n",
       "      <th>1244</th>\n",
       "      <td>0</td>\n",
       "      <td>0</td>\n",
       "      <td>1</td>\n",
       "    </tr>\n",
       "    <tr>\n",
       "      <th>1246</th>\n",
       "      <td>0</td>\n",
       "      <td>0</td>\n",
       "      <td>1</td>\n",
       "    </tr>\n",
       "    <tr>\n",
       "      <th>1317</th>\n",
       "      <td>0</td>\n",
       "      <td>0</td>\n",
       "      <td>1</td>\n",
       "    </tr>\n",
       "    <tr>\n",
       "      <th>1318</th>\n",
       "      <td>0</td>\n",
       "      <td>0</td>\n",
       "      <td>1</td>\n",
       "    </tr>\n",
       "  </tbody>\n",
       "</table>\n",
       "<p>366 rows × 3 columns</p>\n",
       "</div>"
      ]
     },
     "metadata": {},
     "execution_count": 117
    }
   ],
   "metadata": {}
  },
  {
   "cell_type": "code",
   "execution_count": 118,
   "source": [
    "# Infection_cause를 가변수 처리한다.\r\n",
    "df4 = df4.join(pd.get_dummies(df4.infection_cause, prefix='infection',drop_first=False))"
   ],
   "outputs": [],
   "metadata": {}
  },
  {
   "cell_type": "code",
   "execution_count": 119,
   "source": [
    "df4"
   ],
   "outputs": [
    {
     "output_type": "execute_result",
     "data": {
      "text/plain": [
       "      patient_id  contact_number  essential  non_essential infection_cause  \\\n",
       "0     1000000001              75          1              1        Overseas   \n",
       "1     1000000002              31          9              4        Overseas   \n",
       "2     1000000003              17          0              2      Individual   \n",
       "3     1000000004               9          1              0        Overseas   \n",
       "4     1000000005               2          1              0      Individual   \n",
       "...          ...             ...        ...            ...             ...   \n",
       "1242  6001000045               4          4              0         Unknown   \n",
       "1244  6001000061               2          1              3         Unknown   \n",
       "1246  6001000063               1          1              0         Unknown   \n",
       "1317  6014000001              11          1              4         Unknown   \n",
       "1318  6014000002               3          2              1         Unknown   \n",
       "\n",
       "      infection_Group  infection_Individual  infection_Overseas  \\\n",
       "0                   0                     0                   1   \n",
       "1                   0                     0                   1   \n",
       "2                   0                     1                   0   \n",
       "3                   0                     0                   1   \n",
       "4                   0                     1                   0   \n",
       "...               ...                   ...                 ...   \n",
       "1242                0                     0                   0   \n",
       "1244                0                     0                   0   \n",
       "1246                0                     0                   0   \n",
       "1317                0                     0                   0   \n",
       "1318                0                     0                   0   \n",
       "\n",
       "      infection_Unknown  \n",
       "0                     0  \n",
       "1                     0  \n",
       "2                     0  \n",
       "3                     0  \n",
       "4                     0  \n",
       "...                 ...  \n",
       "1242                  1  \n",
       "1244                  1  \n",
       "1246                  1  \n",
       "1317                  1  \n",
       "1318                  1  \n",
       "\n",
       "[366 rows x 9 columns]"
      ],
      "text/html": [
       "<div>\n",
       "<style scoped>\n",
       "    .dataframe tbody tr th:only-of-type {\n",
       "        vertical-align: middle;\n",
       "    }\n",
       "\n",
       "    .dataframe tbody tr th {\n",
       "        vertical-align: top;\n",
       "    }\n",
       "\n",
       "    .dataframe thead th {\n",
       "        text-align: right;\n",
       "    }\n",
       "</style>\n",
       "<table border=\"1\" class=\"dataframe\">\n",
       "  <thead>\n",
       "    <tr style=\"text-align: right;\">\n",
       "      <th></th>\n",
       "      <th>patient_id</th>\n",
       "      <th>contact_number</th>\n",
       "      <th>essential</th>\n",
       "      <th>non_essential</th>\n",
       "      <th>infection_cause</th>\n",
       "      <th>infection_Group</th>\n",
       "      <th>infection_Individual</th>\n",
       "      <th>infection_Overseas</th>\n",
       "      <th>infection_Unknown</th>\n",
       "    </tr>\n",
       "  </thead>\n",
       "  <tbody>\n",
       "    <tr>\n",
       "      <th>0</th>\n",
       "      <td>1000000001</td>\n",
       "      <td>75</td>\n",
       "      <td>1</td>\n",
       "      <td>1</td>\n",
       "      <td>Overseas</td>\n",
       "      <td>0</td>\n",
       "      <td>0</td>\n",
       "      <td>1</td>\n",
       "      <td>0</td>\n",
       "    </tr>\n",
       "    <tr>\n",
       "      <th>1</th>\n",
       "      <td>1000000002</td>\n",
       "      <td>31</td>\n",
       "      <td>9</td>\n",
       "      <td>4</td>\n",
       "      <td>Overseas</td>\n",
       "      <td>0</td>\n",
       "      <td>0</td>\n",
       "      <td>1</td>\n",
       "      <td>0</td>\n",
       "    </tr>\n",
       "    <tr>\n",
       "      <th>2</th>\n",
       "      <td>1000000003</td>\n",
       "      <td>17</td>\n",
       "      <td>0</td>\n",
       "      <td>2</td>\n",
       "      <td>Individual</td>\n",
       "      <td>0</td>\n",
       "      <td>1</td>\n",
       "      <td>0</td>\n",
       "      <td>0</td>\n",
       "    </tr>\n",
       "    <tr>\n",
       "      <th>3</th>\n",
       "      <td>1000000004</td>\n",
       "      <td>9</td>\n",
       "      <td>1</td>\n",
       "      <td>0</td>\n",
       "      <td>Overseas</td>\n",
       "      <td>0</td>\n",
       "      <td>0</td>\n",
       "      <td>1</td>\n",
       "      <td>0</td>\n",
       "    </tr>\n",
       "    <tr>\n",
       "      <th>4</th>\n",
       "      <td>1000000005</td>\n",
       "      <td>2</td>\n",
       "      <td>1</td>\n",
       "      <td>0</td>\n",
       "      <td>Individual</td>\n",
       "      <td>0</td>\n",
       "      <td>1</td>\n",
       "      <td>0</td>\n",
       "      <td>0</td>\n",
       "    </tr>\n",
       "    <tr>\n",
       "      <th>...</th>\n",
       "      <td>...</td>\n",
       "      <td>...</td>\n",
       "      <td>...</td>\n",
       "      <td>...</td>\n",
       "      <td>...</td>\n",
       "      <td>...</td>\n",
       "      <td>...</td>\n",
       "      <td>...</td>\n",
       "      <td>...</td>\n",
       "    </tr>\n",
       "    <tr>\n",
       "      <th>1242</th>\n",
       "      <td>6001000045</td>\n",
       "      <td>4</td>\n",
       "      <td>4</td>\n",
       "      <td>0</td>\n",
       "      <td>Unknown</td>\n",
       "      <td>0</td>\n",
       "      <td>0</td>\n",
       "      <td>0</td>\n",
       "      <td>1</td>\n",
       "    </tr>\n",
       "    <tr>\n",
       "      <th>1244</th>\n",
       "      <td>6001000061</td>\n",
       "      <td>2</td>\n",
       "      <td>1</td>\n",
       "      <td>3</td>\n",
       "      <td>Unknown</td>\n",
       "      <td>0</td>\n",
       "      <td>0</td>\n",
       "      <td>0</td>\n",
       "      <td>1</td>\n",
       "    </tr>\n",
       "    <tr>\n",
       "      <th>1246</th>\n",
       "      <td>6001000063</td>\n",
       "      <td>1</td>\n",
       "      <td>1</td>\n",
       "      <td>0</td>\n",
       "      <td>Unknown</td>\n",
       "      <td>0</td>\n",
       "      <td>0</td>\n",
       "      <td>0</td>\n",
       "      <td>1</td>\n",
       "    </tr>\n",
       "    <tr>\n",
       "      <th>1317</th>\n",
       "      <td>6014000001</td>\n",
       "      <td>11</td>\n",
       "      <td>1</td>\n",
       "      <td>4</td>\n",
       "      <td>Unknown</td>\n",
       "      <td>0</td>\n",
       "      <td>0</td>\n",
       "      <td>0</td>\n",
       "      <td>1</td>\n",
       "    </tr>\n",
       "    <tr>\n",
       "      <th>1318</th>\n",
       "      <td>6014000002</td>\n",
       "      <td>3</td>\n",
       "      <td>2</td>\n",
       "      <td>1</td>\n",
       "      <td>Unknown</td>\n",
       "      <td>0</td>\n",
       "      <td>0</td>\n",
       "      <td>0</td>\n",
       "      <td>1</td>\n",
       "    </tr>\n",
       "  </tbody>\n",
       "</table>\n",
       "<p>366 rows × 9 columns</p>\n",
       "</div>"
      ]
     },
     "metadata": {},
     "execution_count": 119
    }
   ],
   "metadata": {
    "scrolled": true
   }
  },
  {
   "cell_type": "code",
   "execution_count": 120,
   "source": [
    "df_final = df4[ ['essential', 'non_essential', 'contact_number',\r\n",
    "          'infection_Group', 'infection_Individual', 'infection_Overseas', 'infection_Unknown']]"
   ],
   "outputs": [],
   "metadata": {}
  },
  {
   "cell_type": "code",
   "execution_count": 121,
   "source": [
    "df_final"
   ],
   "outputs": [
    {
     "output_type": "execute_result",
     "data": {
      "text/plain": [
       "      essential  non_essential  contact_number  infection_Group  \\\n",
       "0             1              1              75                0   \n",
       "1             9              4              31                0   \n",
       "2             0              2              17                0   \n",
       "3             1              0               9                0   \n",
       "4             1              0               2                0   \n",
       "...         ...            ...             ...              ...   \n",
       "1242          4              0               4                0   \n",
       "1244          1              3               2                0   \n",
       "1246          1              0               1                0   \n",
       "1317          1              4              11                0   \n",
       "1318          2              1               3                0   \n",
       "\n",
       "      infection_Individual  infection_Overseas  infection_Unknown  \n",
       "0                        0                   1                  0  \n",
       "1                        0                   1                  0  \n",
       "2                        1                   0                  0  \n",
       "3                        0                   1                  0  \n",
       "4                        1                   0                  0  \n",
       "...                    ...                 ...                ...  \n",
       "1242                     0                   0                  1  \n",
       "1244                     0                   0                  1  \n",
       "1246                     0                   0                  1  \n",
       "1317                     0                   0                  1  \n",
       "1318                     0                   0                  1  \n",
       "\n",
       "[366 rows x 7 columns]"
      ],
      "text/html": [
       "<div>\n",
       "<style scoped>\n",
       "    .dataframe tbody tr th:only-of-type {\n",
       "        vertical-align: middle;\n",
       "    }\n",
       "\n",
       "    .dataframe tbody tr th {\n",
       "        vertical-align: top;\n",
       "    }\n",
       "\n",
       "    .dataframe thead th {\n",
       "        text-align: right;\n",
       "    }\n",
       "</style>\n",
       "<table border=\"1\" class=\"dataframe\">\n",
       "  <thead>\n",
       "    <tr style=\"text-align: right;\">\n",
       "      <th></th>\n",
       "      <th>essential</th>\n",
       "      <th>non_essential</th>\n",
       "      <th>contact_number</th>\n",
       "      <th>infection_Group</th>\n",
       "      <th>infection_Individual</th>\n",
       "      <th>infection_Overseas</th>\n",
       "      <th>infection_Unknown</th>\n",
       "    </tr>\n",
       "  </thead>\n",
       "  <tbody>\n",
       "    <tr>\n",
       "      <th>0</th>\n",
       "      <td>1</td>\n",
       "      <td>1</td>\n",
       "      <td>75</td>\n",
       "      <td>0</td>\n",
       "      <td>0</td>\n",
       "      <td>1</td>\n",
       "      <td>0</td>\n",
       "    </tr>\n",
       "    <tr>\n",
       "      <th>1</th>\n",
       "      <td>9</td>\n",
       "      <td>4</td>\n",
       "      <td>31</td>\n",
       "      <td>0</td>\n",
       "      <td>0</td>\n",
       "      <td>1</td>\n",
       "      <td>0</td>\n",
       "    </tr>\n",
       "    <tr>\n",
       "      <th>2</th>\n",
       "      <td>0</td>\n",
       "      <td>2</td>\n",
       "      <td>17</td>\n",
       "      <td>0</td>\n",
       "      <td>1</td>\n",
       "      <td>0</td>\n",
       "      <td>0</td>\n",
       "    </tr>\n",
       "    <tr>\n",
       "      <th>3</th>\n",
       "      <td>1</td>\n",
       "      <td>0</td>\n",
       "      <td>9</td>\n",
       "      <td>0</td>\n",
       "      <td>0</td>\n",
       "      <td>1</td>\n",
       "      <td>0</td>\n",
       "    </tr>\n",
       "    <tr>\n",
       "      <th>4</th>\n",
       "      <td>1</td>\n",
       "      <td>0</td>\n",
       "      <td>2</td>\n",
       "      <td>0</td>\n",
       "      <td>1</td>\n",
       "      <td>0</td>\n",
       "      <td>0</td>\n",
       "    </tr>\n",
       "    <tr>\n",
       "      <th>...</th>\n",
       "      <td>...</td>\n",
       "      <td>...</td>\n",
       "      <td>...</td>\n",
       "      <td>...</td>\n",
       "      <td>...</td>\n",
       "      <td>...</td>\n",
       "      <td>...</td>\n",
       "    </tr>\n",
       "    <tr>\n",
       "      <th>1242</th>\n",
       "      <td>4</td>\n",
       "      <td>0</td>\n",
       "      <td>4</td>\n",
       "      <td>0</td>\n",
       "      <td>0</td>\n",
       "      <td>0</td>\n",
       "      <td>1</td>\n",
       "    </tr>\n",
       "    <tr>\n",
       "      <th>1244</th>\n",
       "      <td>1</td>\n",
       "      <td>3</td>\n",
       "      <td>2</td>\n",
       "      <td>0</td>\n",
       "      <td>0</td>\n",
       "      <td>0</td>\n",
       "      <td>1</td>\n",
       "    </tr>\n",
       "    <tr>\n",
       "      <th>1246</th>\n",
       "      <td>1</td>\n",
       "      <td>0</td>\n",
       "      <td>1</td>\n",
       "      <td>0</td>\n",
       "      <td>0</td>\n",
       "      <td>0</td>\n",
       "      <td>1</td>\n",
       "    </tr>\n",
       "    <tr>\n",
       "      <th>1317</th>\n",
       "      <td>1</td>\n",
       "      <td>4</td>\n",
       "      <td>11</td>\n",
       "      <td>0</td>\n",
       "      <td>0</td>\n",
       "      <td>0</td>\n",
       "      <td>1</td>\n",
       "    </tr>\n",
       "    <tr>\n",
       "      <th>1318</th>\n",
       "      <td>2</td>\n",
       "      <td>1</td>\n",
       "      <td>3</td>\n",
       "      <td>0</td>\n",
       "      <td>0</td>\n",
       "      <td>0</td>\n",
       "      <td>1</td>\n",
       "    </tr>\n",
       "  </tbody>\n",
       "</table>\n",
       "<p>366 rows × 7 columns</p>\n",
       "</div>"
      ]
     },
     "metadata": {},
     "execution_count": 121
    }
   ],
   "metadata": {}
  },
  {
   "cell_type": "code",
   "execution_count": 122,
   "source": [
    "# 컬럼의 표준화를 실행한다.\r\n",
    "X = df_final.values             # df.fianl의 값만을 가져옴\r\n",
    "my_scaler = StandardScaler()    # 표준화를 해주는 모듈을 사용해 표준화 모델을 만든다.\r\n",
    "X = my_scaler.fit_transform(X)  # 표준화 모델을 사용해서 표준화 시켜준다."
   ],
   "outputs": [],
   "metadata": {}
  },
  {
   "cell_type": "code",
   "execution_count": 123,
   "source": [
    "X[0, :] # 스케일링 된 값"
   ],
   "outputs": [
    {
     "output_type": "execute_result",
     "data": {
      "text/plain": [
       "array([-0.75387387, -0.51625643,  0.56489561, -0.54577682, -0.79162281,\n",
       "        2.07469222, -0.49487166])"
      ]
     },
     "metadata": {},
     "execution_count": 123
    }
   ],
   "metadata": {}
  },
  {
   "cell_type": "code",
   "execution_count": 124,
   "source": [
    "# 군집의 수 = 4로 정하고 군집화를 실행한다.  <= 군집의 수 최적화가 선행되어야 한다! (부록 참고)\r\n",
    "my_km = KMeans(n_clusters = 4, random_state = 123)\r\n",
    "my_km.fit(X)\r\n",
    "\r\n",
    "my_centroids = my_km.cluster_centers_               # 개개 군집의 중심점.\r\n",
    "my_cluster_labels = my_km.labels_                   # 군집 label."
   ],
   "outputs": [],
   "metadata": {}
  },
  {
   "cell_type": "code",
   "execution_count": 125,
   "source": [
    "# 클러스터 중심을 출력하고 해석한다.\r\n",
    "pd.DataFrame(my_centroids,columns = df_final.columns)"
   ],
   "outputs": [
    {
     "output_type": "execute_result",
     "data": {
      "text/plain": [
       "   essential  non_essential  contact_number  infection_Group  \\\n",
       "0    -0.0707         0.0216         -0.0293          -0.5458   \n",
       "1    -0.0115        -0.0777         -0.1040          -0.5458   \n",
       "2    -0.1589        -0.2342         -0.0300          -0.5458   \n",
       "3     0.2104         0.3043          0.2243           1.8323   \n",
       "\n",
       "   infection_Individual  infection_Overseas  infection_Unknown  \n",
       "0               -0.7916             -0.4820             2.0207  \n",
       "1                1.2632             -0.4820            -0.4949  \n",
       "2               -0.7916              2.0747            -0.4949  \n",
       "3               -0.7916             -0.4820            -0.4949  "
      ],
      "text/html": [
       "<div>\n",
       "<style scoped>\n",
       "    .dataframe tbody tr th:only-of-type {\n",
       "        vertical-align: middle;\n",
       "    }\n",
       "\n",
       "    .dataframe tbody tr th {\n",
       "        vertical-align: top;\n",
       "    }\n",
       "\n",
       "    .dataframe thead th {\n",
       "        text-align: right;\n",
       "    }\n",
       "</style>\n",
       "<table border=\"1\" class=\"dataframe\">\n",
       "  <thead>\n",
       "    <tr style=\"text-align: right;\">\n",
       "      <th></th>\n",
       "      <th>essential</th>\n",
       "      <th>non_essential</th>\n",
       "      <th>contact_number</th>\n",
       "      <th>infection_Group</th>\n",
       "      <th>infection_Individual</th>\n",
       "      <th>infection_Overseas</th>\n",
       "      <th>infection_Unknown</th>\n",
       "    </tr>\n",
       "  </thead>\n",
       "  <tbody>\n",
       "    <tr>\n",
       "      <th>0</th>\n",
       "      <td>-0.0707</td>\n",
       "      <td>0.0216</td>\n",
       "      <td>-0.0293</td>\n",
       "      <td>-0.5458</td>\n",
       "      <td>-0.7916</td>\n",
       "      <td>-0.4820</td>\n",
       "      <td>2.0207</td>\n",
       "    </tr>\n",
       "    <tr>\n",
       "      <th>1</th>\n",
       "      <td>-0.0115</td>\n",
       "      <td>-0.0777</td>\n",
       "      <td>-0.1040</td>\n",
       "      <td>-0.5458</td>\n",
       "      <td>1.2632</td>\n",
       "      <td>-0.4820</td>\n",
       "      <td>-0.4949</td>\n",
       "    </tr>\n",
       "    <tr>\n",
       "      <th>2</th>\n",
       "      <td>-0.1589</td>\n",
       "      <td>-0.2342</td>\n",
       "      <td>-0.0300</td>\n",
       "      <td>-0.5458</td>\n",
       "      <td>-0.7916</td>\n",
       "      <td>2.0747</td>\n",
       "      <td>-0.4949</td>\n",
       "    </tr>\n",
       "    <tr>\n",
       "      <th>3</th>\n",
       "      <td>0.2104</td>\n",
       "      <td>0.3043</td>\n",
       "      <td>0.2243</td>\n",
       "      <td>1.8323</td>\n",
       "      <td>-0.7916</td>\n",
       "      <td>-0.4820</td>\n",
       "      <td>-0.4949</td>\n",
       "    </tr>\n",
       "  </tbody>\n",
       "</table>\n",
       "</div>"
      ]
     },
     "metadata": {},
     "execution_count": 125
    }
   ],
   "metadata": {}
  },
  {
   "cell_type": "markdown",
   "source": [
    "**해석:** <br>\r\n",
    "- Label 0 : Moderate unknwons.\r\n",
    "- Label 1 : Social minimalists.\r\n",
    "- Label 2 : Overseas non-essentialists.\r\n",
    "- Label 3 : Hyper-mobile and hyper-social."
   ],
   "metadata": {}
  },
  {
   "cell_type": "code",
   "execution_count": 126,
   "source": [
    "# PCA 차원축소 (2차원).\r\n",
    "my_pca = PCA(n_components = 2)                      # n_components = 축소할 차원의 수\r\n",
    "transformed_comps = my_pca.fit_transform(X)         # Transformed 된 좌표.\r\n",
    "df_transformed_comps = pd.DataFrame(data = transformed_comps, columns = ['PC1', 'PC2']) # PC = Principal Component = 주성분\r\n",
    "df_transformed_comps=df_transformed_comps.join(pd.Series(my_cluster_labels, name='cluster_label')) # my_cluster_labels의 데이터를 추가하는 이유는 라벨링을 위해 추가해준 것\r\n",
    "df_transformed_comps"
   ],
   "outputs": [
    {
     "output_type": "execute_result",
     "data": {
      "text/plain": [
       "        PC1     PC2  cluster_label\n",
       "0   -0.6870 -1.5806              2\n",
       "1    0.8155 -0.7954              2\n",
       "2   -1.3612  1.0461              1\n",
       "3   -1.0707 -1.6690              2\n",
       "4   -1.4295  1.0558              1\n",
       "..      ...     ...            ...\n",
       "361 -0.1423 -1.1056              0\n",
       "362 -0.4166 -1.2754              0\n",
       "363 -0.6912 -1.3779              0\n",
       "364 -0.2865 -1.2340              0\n",
       "365 -0.4138 -1.2524              0\n",
       "\n",
       "[366 rows x 3 columns]"
      ],
      "text/html": [
       "<div>\n",
       "<style scoped>\n",
       "    .dataframe tbody tr th:only-of-type {\n",
       "        vertical-align: middle;\n",
       "    }\n",
       "\n",
       "    .dataframe tbody tr th {\n",
       "        vertical-align: top;\n",
       "    }\n",
       "\n",
       "    .dataframe thead th {\n",
       "        text-align: right;\n",
       "    }\n",
       "</style>\n",
       "<table border=\"1\" class=\"dataframe\">\n",
       "  <thead>\n",
       "    <tr style=\"text-align: right;\">\n",
       "      <th></th>\n",
       "      <th>PC1</th>\n",
       "      <th>PC2</th>\n",
       "      <th>cluster_label</th>\n",
       "    </tr>\n",
       "  </thead>\n",
       "  <tbody>\n",
       "    <tr>\n",
       "      <th>0</th>\n",
       "      <td>-0.6870</td>\n",
       "      <td>-1.5806</td>\n",
       "      <td>2</td>\n",
       "    </tr>\n",
       "    <tr>\n",
       "      <th>1</th>\n",
       "      <td>0.8155</td>\n",
       "      <td>-0.7954</td>\n",
       "      <td>2</td>\n",
       "    </tr>\n",
       "    <tr>\n",
       "      <th>2</th>\n",
       "      <td>-1.3612</td>\n",
       "      <td>1.0461</td>\n",
       "      <td>1</td>\n",
       "    </tr>\n",
       "    <tr>\n",
       "      <th>3</th>\n",
       "      <td>-1.0707</td>\n",
       "      <td>-1.6690</td>\n",
       "      <td>2</td>\n",
       "    </tr>\n",
       "    <tr>\n",
       "      <th>4</th>\n",
       "      <td>-1.4295</td>\n",
       "      <td>1.0558</td>\n",
       "      <td>1</td>\n",
       "    </tr>\n",
       "    <tr>\n",
       "      <th>...</th>\n",
       "      <td>...</td>\n",
       "      <td>...</td>\n",
       "      <td>...</td>\n",
       "    </tr>\n",
       "    <tr>\n",
       "      <th>361</th>\n",
       "      <td>-0.1423</td>\n",
       "      <td>-1.1056</td>\n",
       "      <td>0</td>\n",
       "    </tr>\n",
       "    <tr>\n",
       "      <th>362</th>\n",
       "      <td>-0.4166</td>\n",
       "      <td>-1.2754</td>\n",
       "      <td>0</td>\n",
       "    </tr>\n",
       "    <tr>\n",
       "      <th>363</th>\n",
       "      <td>-0.6912</td>\n",
       "      <td>-1.3779</td>\n",
       "      <td>0</td>\n",
       "    </tr>\n",
       "    <tr>\n",
       "      <th>364</th>\n",
       "      <td>-0.2865</td>\n",
       "      <td>-1.2340</td>\n",
       "      <td>0</td>\n",
       "    </tr>\n",
       "    <tr>\n",
       "      <th>365</th>\n",
       "      <td>-0.4138</td>\n",
       "      <td>-1.2524</td>\n",
       "      <td>0</td>\n",
       "    </tr>\n",
       "  </tbody>\n",
       "</table>\n",
       "<p>366 rows × 3 columns</p>\n",
       "</div>"
      ]
     },
     "metadata": {},
     "execution_count": 126
    }
   ],
   "metadata": {}
  },
  {
   "cell_type": "code",
   "execution_count": 127,
   "source": [
    "# 산점도 시각화.\r\n",
    "my_colors = {0:'red',1:'blue',2:'green',3:'yellow'}    # 군집 label => Color.\r\n",
    "my_names = {0: 'Moderate unknwons.', 1: 'Social minimalists.' , 2: 'Overseas non-essentialists.', 3: 'Hyper-mobile and hyper-social.'} # 군집 label => 명칭.\r\n",
    "\r\n",
    "plt.figure(figsize = (6,6))\r\n",
    "for a_cluster_n, df_small in df_transformed_comps.groupby('cluster_label'):\r\n",
    "    plt.scatter('PC1', 'PC2', data = df_small, c = my_colors[a_cluster_n], label = my_names[a_cluster_n], s = 10, alpha=0.6 )\r\n",
    "plt.xlabel('PC1')\r\n",
    "plt.ylabel('PC2')\r\n",
    "plt.title('Clusters')\r\n",
    "plt.legend(loc=4)\r\n",
    "plt.show()"
   ],
   "outputs": [
    {
     "output_type": "display_data",
     "data": {
      "text/plain": [
       "<Figure size 432x432 with 1 Axes>"
      ],
      "image/png": "[encoded data removed]"
     },
     "metadata": {
      "needs_background": "light"
     }
    }
   ],
   "metadata": {}
  },
  {
   "cell_type": "markdown",
   "source": [
    "### 부록: 군집의 수 최적화"
   ],
   "metadata": {}
  },
  {
   "cell_type": "code",
   "execution_count": 128,
   "source": [
    "# 군집의 수를 키워가며 Sum of Squares Within을 계산한다.\r\n",
    "ssw = []\r\n",
    "cluster_ns = range(2,16)\r\n",
    "for n in cluster_ns:\r\n",
    "    my_cluster = KMeans(n)\r\n",
    "    my_cluster.fit(X)\r\n",
    "    ssw += [my_cluster.inertia_]         # SSW를 모아둔다.\r\n",
    "\r\n",
    "plt.figure(figsize = (6,6))\r\n",
    "plt.plot(cluster_ns, ssw)\r\n",
    "plt.title('Elbow Method')\r\n",
    "plt.xlabel('Number of Clusters')\r\n",
    "plt.ylabel('Sum of Squares Within')\r\n",
    "plt.show()"
   ],
   "outputs": [
    {
     "output_type": "display_data",
     "data": {
      "text/plain": [
       "<Figure size 432x432 with 1 Axes>"
      ],
      "image/png": "[encoded data removed]"
     },
     "metadata": {
      "needs_background": "light"
     }
    }
   ],
   "metadata": {}
  },
  {
   "cell_type": "markdown",
   "source": [
    "**결론**: 군집의 수가 5 이상일 때 SSW의 감소 속도가 둔화된다. => 군집의 적정 수 = 4."
   ],
   "metadata": {}
  },
  {
   "cell_type": "code",
   "execution_count": null,
   "source": [],
   "outputs": [],
   "metadata": {}
  }
 ],
 "metadata": {
  "kernelspec": {
   "name": "python3",
   "display_name": "Python 3.8.8 64-bit ('base': conda)"
  },
  "language_info": {
   "codemirror_mode": {
    "name": "ipython",
    "version": 3
   },
   "file_extension": ".py",
   "mimetype": "text/x-python",
   "name": "python",
   "nbconvert_exporter": "python",
   "pygments_lexer": "ipython3",
   "version": "3.8.8"
  },
  "interpreter": {
   "hash": "2b14097af11c2eb1b8b58affc607e11d7a0944e7f19df56739f61298e4bb7741"
  }
 },
 "nbformat": 4,
 "nbformat_minor": 4
}