{
  "nbformat": 4,
  "nbformat_minor": 0,
  "metadata": {
    "kernelspec": {
      "display_name": "Python 3",
      "language": "python",
      "name": "python3"
    },
    "language_info": {
      "codemirror_mode": {
        "name": "ipython",
        "version": 3
      },
      "file_extension": ".py",
      "mimetype": "text/x-python",
      "name": "python",
      "nbconvert_exporter": "python",
      "pygments_lexer": "ipython3",
      "version": "3.8.8"
    },
    "colab": {
      "name": "ex_eda_credit.ipynb",
      "provenance": [],
      "collapsed_sections": [],
      "include_colab_link": true
    }
  },
  "cells": [
    {
      "cell_type": "markdown",
      "metadata": {
        "id": "view-in-github",
        "colab_type": "text"
      },
      "source": [
        "<a href=\"https://colab.research.google.com/github/SeoMinJong/1day-1study/blob/master/ex_eda_credit.ipynb\" target=\"_parent\"><img src=\"https://colab.research.google.com/assets/colab-badge.svg\" alt=\"Open In Colab\"/></a>"
      ]
    },
    {
      "cell_type": "markdown",
      "metadata": {
        "id": "-sdChRqrpKB4"
      },
      "source": [
        "###  신용 카드 사용 기록 EDA."
      ]
    },
    {
      "cell_type": "code",
      "metadata": {
        "colab": {
          "base_uri": "https://localhost:8080/"
        },
        "id": "jqJfimHDpMg0",
        "outputId": "dafeb652-d23b-4bc4-dfa9-91d312224ff7"
      },
      "source": [
        "from google.colab import drive\n",
        "drive.mount('/content/drive')"
      ],
      "execution_count": 1,
      "outputs": [
        {
          "output_type": "stream",
          "text": [
            "Mounted at /content/drive\n"
          ],
          "name": "stdout"
        }
      ]
    },
    {
      "cell_type": "markdown",
      "metadata": {
        "id": "_THWwkdIpKB6"
      },
      "source": [
        "#### 0. 필요한 패키지를 불러온다."
      ]
    },
    {
      "cell_type": "code",
      "metadata": {
        "id": "gogMX04SpKB6"
      },
      "source": [
        "import numpy as np\n",
        "import pandas as pd\n",
        "import matplotlib.pyplot as plt\n",
        "import seaborn as sns\n",
        "import warnings\n",
        "warnings.filterwarnings('ignore')\n",
        "%matplotlib inline"
      ],
      "execution_count": 2,
      "outputs": []
    },
    {
      "cell_type": "code",
      "metadata": {
        "id": "kt4myN3opKB7"
      },
      "source": [
        "pd.set_option(\"precision\",2)"
      ],
      "execution_count": 3,
      "outputs": []
    },
    {
      "cell_type": "markdown",
      "metadata": {
        "id": "3bE48Zd8pKB7"
      },
      "source": [
        "#### 1. 데이터를 불러와서 살펴 본다."
      ]
    },
    {
      "cell_type": "code",
      "metadata": {
        "id": "FDNCTP1opKB7"
      },
      "source": [
        "df = pd.read_csv('/content/drive/MyDrive/BigData/credit/data_credit.csv')"
      ],
      "execution_count": 4,
      "outputs": []
    },
    {
      "cell_type": "code",
      "metadata": {
        "colab": {
          "base_uri": "https://localhost:8080/"
        },
        "id": "QQHZ10yZpKB8",
        "outputId": "07ae5e9c-2b2a-4e7f-de19-be4d0633a5cd"
      },
      "source": [
        "df.shape"
      ],
      "execution_count": null,
      "outputs": [
        {
          "output_type": "execute_result",
          "data": {
            "text/plain": [
              "(3362796, 8)"
            ]
          },
          "metadata": {
            "tags": []
          },
          "execution_count": 6
        }
      ]
    },
    {
      "cell_type": "code",
      "metadata": {
        "colab": {
          "base_uri": "https://localhost:8080/",
          "height": 203
        },
        "id": "rooO1NlapKB8",
        "outputId": "74b8dd3b-d3d4-42e0-c7a4-b46abbc9fdf3"
      },
      "source": [
        "df.head(5)"
      ],
      "execution_count": 5,
      "outputs": [
        {
          "output_type": "execute_result",
          "data": {
            "text/html": [
              "<div>\n",
              "<style scoped>\n",
              "    .dataframe tbody tr th:only-of-type {\n",
              "        vertical-align: middle;\n",
              "    }\n",
              "\n",
              "    .dataframe tbody tr th {\n",
              "        vertical-align: top;\n",
              "    }\n",
              "\n",
              "    .dataframe thead th {\n",
              "        text-align: right;\n",
              "    }\n",
              "</style>\n",
              "<table border=\"1\" class=\"dataframe\">\n",
              "  <thead>\n",
              "    <tr style=\"text-align: right;\">\n",
              "      <th></th>\n",
              "      <th>store_id</th>\n",
              "      <th>date</th>\n",
              "      <th>time</th>\n",
              "      <th>card_id</th>\n",
              "      <th>amount</th>\n",
              "      <th>installments</th>\n",
              "      <th>days_of_week</th>\n",
              "      <th>holyday</th>\n",
              "    </tr>\n",
              "  </thead>\n",
              "  <tbody>\n",
              "    <tr>\n",
              "      <th>0</th>\n",
              "      <td>0</td>\n",
              "      <td>2016-12-14</td>\n",
              "      <td>18:05:31</td>\n",
              "      <td>d297bba73f</td>\n",
              "      <td>5</td>\n",
              "      <td>NaN</td>\n",
              "      <td>2</td>\n",
              "      <td>0</td>\n",
              "    </tr>\n",
              "    <tr>\n",
              "      <th>1</th>\n",
              "      <td>0</td>\n",
              "      <td>2016-12-14</td>\n",
              "      <td>18:05:54</td>\n",
              "      <td>d297bba73f</td>\n",
              "      <td>-5</td>\n",
              "      <td>NaN</td>\n",
              "      <td>2</td>\n",
              "      <td>0</td>\n",
              "    </tr>\n",
              "    <tr>\n",
              "      <th>2</th>\n",
              "      <td>0</td>\n",
              "      <td>2016-12-19</td>\n",
              "      <td>12:42:31</td>\n",
              "      <td>0880849c05</td>\n",
              "      <td>144</td>\n",
              "      <td>NaN</td>\n",
              "      <td>0</td>\n",
              "      <td>0</td>\n",
              "    </tr>\n",
              "    <tr>\n",
              "      <th>3</th>\n",
              "      <td>0</td>\n",
              "      <td>2016-12-19</td>\n",
              "      <td>12:48:08</td>\n",
              "      <td>8b4f9e0e95</td>\n",
              "      <td>66</td>\n",
              "      <td>NaN</td>\n",
              "      <td>0</td>\n",
              "      <td>0</td>\n",
              "    </tr>\n",
              "    <tr>\n",
              "      <th>4</th>\n",
              "      <td>0</td>\n",
              "      <td>2016-12-19</td>\n",
              "      <td>13:31:08</td>\n",
              "      <td>7ad237eed0</td>\n",
              "      <td>24</td>\n",
              "      <td>NaN</td>\n",
              "      <td>0</td>\n",
              "      <td>0</td>\n",
              "    </tr>\n",
              "  </tbody>\n",
              "</table>\n",
              "</div>"
            ],
            "text/plain": [
              "   store_id        date      time  ... installments  days_of_week  holyday\n",
              "0         0  2016-12-14  18:05:31  ...          NaN             2        0\n",
              "1         0  2016-12-14  18:05:54  ...          NaN             2        0\n",
              "2         0  2016-12-19  12:42:31  ...          NaN             0        0\n",
              "3         0  2016-12-19  12:48:08  ...          NaN             0        0\n",
              "4         0  2016-12-19  13:31:08  ...          NaN             0        0\n",
              "\n",
              "[5 rows x 8 columns]"
            ]
          },
          "metadata": {
            "tags": []
          },
          "execution_count": 5
        }
      ]
    },
    {
      "cell_type": "code",
      "metadata": {
        "colab": {
          "base_uri": "https://localhost:8080/"
        },
        "id": "XdA5t8pUpiBM",
        "outputId": "a6ba9d09-f210-49d4-ff53-ffe6ecc8a0cc"
      },
      "source": [
        "df.info()"
      ],
      "execution_count": 6,
      "outputs": [
        {
          "output_type": "stream",
          "text": [
            "<class 'pandas.core.frame.DataFrame'>\n",
            "RangeIndex: 3362796 entries, 0 to 3362795\n",
            "Data columns (total 8 columns):\n",
            " #   Column        Dtype  \n",
            "---  ------        -----  \n",
            " 0   store_id      int64  \n",
            " 1   date          object \n",
            " 2   time          object \n",
            " 3   card_id       object \n",
            " 4   amount        int64  \n",
            " 5   installments  float64\n",
            " 6   days_of_week  int64  \n",
            " 7   holyday       int64  \n",
            "dtypes: float64(1), int64(4), object(3)\n",
            "memory usage: 205.2+ MB\n"
          ],
          "name": "stdout"
        }
      ]
    },
    {
      "cell_type": "markdown",
      "metadata": {
        "id": "dgltXEUjpKB8"
      },
      "source": [
        "#### 2. 데이터를 정제하고 결측치 처리를 한다."
      ]
    },
    {
      "cell_type": "code",
      "metadata": {
        "colab": {
          "base_uri": "https://localhost:8080/"
        },
        "id": "6Fd4YTp8pKB8",
        "outputId": "b2f001e7-708a-4888-b95c-08c96a504b47"
      },
      "source": [
        "# 결측치가 분명히 있는 것 같으니 컬럼별 집계해 본다.\n",
        "nas = df.isnull()\n",
        "print(nas.sum(axis=0))"
      ],
      "execution_count": 7,
      "outputs": [
        {
          "output_type": "stream",
          "text": [
            "store_id              0\n",
            "date                  0\n",
            "time                  0\n",
            "card_id               0\n",
            "amount                0\n",
            "installments    3345936\n",
            "days_of_week          0\n",
            "holyday               0\n",
            "dtype: int64\n"
          ],
          "name": "stdout"
        }
      ]
    },
    {
      "cell_type": "code",
      "metadata": {
        "colab": {
          "base_uri": "https://localhost:8080/"
        },
        "id": "syw6Dm2dpKB9",
        "outputId": "1df43f89-9690-4038-aa58-90ef82765c92"
      },
      "source": [
        "# installments 변수의 도수분포를 본다.\n",
        "df['installments'].value_counts()"
      ],
      "execution_count": 8,
      "outputs": [
        {
          "output_type": "execute_result",
          "data": {
            "text/plain": [
              "3.0     10686\n",
              "2.0      3431\n",
              "5.0      1220\n",
              "6.0       647\n",
              "10.0      252\n",
              "4.0       209\n",
              "12.0      206\n",
              "24.0       96\n",
              "8.0        32\n",
              "7.0        28\n",
              "9.0        25\n",
              "18.0       11\n",
              "20.0        6\n",
              "36.0        5\n",
              "22.0        4\n",
              "15.0        2\n",
              "Name: installments, dtype: int64"
            ]
          },
          "metadata": {
            "tags": []
          },
          "execution_count": 8
        }
      ]
    },
    {
      "cell_type": "code",
      "metadata": {
        "colab": {
          "base_uri": "https://localhost:8080/",
          "height": 203
        },
        "id": "TaaYrtaRpKB9",
        "outputId": "4e26a1d5-c066-4bb2-898c-c1b5d29110eb"
      },
      "source": [
        "# 일시불이 NA로 처리 되었으니 결측치를 1로 채운다.\n",
        "df = df.fillna(value=1)\n",
        "df.head(5)"
      ],
      "execution_count": null,
      "outputs": [
        {
          "output_type": "execute_result",
          "data": {
            "text/html": [
              "<div>\n",
              "<style scoped>\n",
              "    .dataframe tbody tr th:only-of-type {\n",
              "        vertical-align: middle;\n",
              "    }\n",
              "\n",
              "    .dataframe tbody tr th {\n",
              "        vertical-align: top;\n",
              "    }\n",
              "\n",
              "    .dataframe thead th {\n",
              "        text-align: right;\n",
              "    }\n",
              "</style>\n",
              "<table border=\"1\" class=\"dataframe\">\n",
              "  <thead>\n",
              "    <tr style=\"text-align: right;\">\n",
              "      <th></th>\n",
              "      <th>store_id</th>\n",
              "      <th>date</th>\n",
              "      <th>time</th>\n",
              "      <th>card_id</th>\n",
              "      <th>amount</th>\n",
              "      <th>installments</th>\n",
              "      <th>days_of_week</th>\n",
              "      <th>holyday</th>\n",
              "    </tr>\n",
              "  </thead>\n",
              "  <tbody>\n",
              "    <tr>\n",
              "      <th>0</th>\n",
              "      <td>0</td>\n",
              "      <td>2016-12-14</td>\n",
              "      <td>18:05:31</td>\n",
              "      <td>d297bba73f</td>\n",
              "      <td>5</td>\n",
              "      <td>1.0</td>\n",
              "      <td>2</td>\n",
              "      <td>0</td>\n",
              "    </tr>\n",
              "    <tr>\n",
              "      <th>1</th>\n",
              "      <td>0</td>\n",
              "      <td>2016-12-14</td>\n",
              "      <td>18:05:54</td>\n",
              "      <td>d297bba73f</td>\n",
              "      <td>-5</td>\n",
              "      <td>1.0</td>\n",
              "      <td>2</td>\n",
              "      <td>0</td>\n",
              "    </tr>\n",
              "    <tr>\n",
              "      <th>2</th>\n",
              "      <td>0</td>\n",
              "      <td>2016-12-19</td>\n",
              "      <td>12:42:31</td>\n",
              "      <td>0880849c05</td>\n",
              "      <td>144</td>\n",
              "      <td>1.0</td>\n",
              "      <td>0</td>\n",
              "      <td>0</td>\n",
              "    </tr>\n",
              "    <tr>\n",
              "      <th>3</th>\n",
              "      <td>0</td>\n",
              "      <td>2016-12-19</td>\n",
              "      <td>12:48:08</td>\n",
              "      <td>8b4f9e0e95</td>\n",
              "      <td>66</td>\n",
              "      <td>1.0</td>\n",
              "      <td>0</td>\n",
              "      <td>0</td>\n",
              "    </tr>\n",
              "    <tr>\n",
              "      <th>4</th>\n",
              "      <td>0</td>\n",
              "      <td>2016-12-19</td>\n",
              "      <td>13:31:08</td>\n",
              "      <td>7ad237eed0</td>\n",
              "      <td>24</td>\n",
              "      <td>1.0</td>\n",
              "      <td>0</td>\n",
              "      <td>0</td>\n",
              "    </tr>\n",
              "  </tbody>\n",
              "</table>\n",
              "</div>"
            ],
            "text/plain": [
              "   store_id        date      time  ... installments  days_of_week  holyday\n",
              "0         0  2016-12-14  18:05:31  ...          1.0             2        0\n",
              "1         0  2016-12-14  18:05:54  ...          1.0             2        0\n",
              "2         0  2016-12-19  12:42:31  ...          1.0             0        0\n",
              "3         0  2016-12-19  12:48:08  ...          1.0             0        0\n",
              "4         0  2016-12-19  13:31:08  ...          1.0             0        0\n",
              "\n",
              "[5 rows x 8 columns]"
            ]
          },
          "metadata": {
            "tags": []
          },
          "execution_count": 11
        }
      ]
    },
    {
      "cell_type": "code",
      "metadata": {
        "colab": {
          "base_uri": "https://localhost:8080/"
        },
        "id": "GeashP54pKB9",
        "outputId": "3bf5e36d-2af5-43a1-fc0f-ca593308661e"
      },
      "source": [
        "# 다시 installments 변수의 도수분포를 본다.\n",
        "df['installments'].value_counts()"
      ],
      "execution_count": 97,
      "outputs": [
        {
          "output_type": "execute_result",
          "data": {
            "text/plain": [
              "3.0     10686\n",
              "2.0      3431\n",
              "5.0      1220\n",
              "6.0       647\n",
              "10.0      252\n",
              "4.0       209\n",
              "12.0      206\n",
              "24.0       96\n",
              "8.0        32\n",
              "7.0        28\n",
              "9.0        25\n",
              "18.0       11\n",
              "20.0        6\n",
              "36.0        5\n",
              "22.0        4\n",
              "15.0        2\n",
              "Name: installments, dtype: int64"
            ]
          },
          "metadata": {
            "tags": []
          },
          "execution_count": 97
        }
      ]
    },
    {
      "cell_type": "code",
      "metadata": {
        "id": "0kXB9-CAwxKL"
      },
      "source": [
        "df['month'] = df.date.apply( lambda x : x[5:7] ) # x[4:],x[5:7],x[8:10]\n",
        "df['hour'] = df.time.apply( lambda x : x[:2] ) # x[4:],x[5:7],x[8:10]"
      ],
      "execution_count": 11,
      "outputs": []
    },
    {
      "cell_type": "code",
      "metadata": {
        "colab": {
          "base_uri": "https://localhost:8080/",
          "height": 203
        },
        "id": "VrnCXzg2xmV8",
        "outputId": "1b43894d-6ff6-40c9-b71e-bedf7fcf0ca2"
      },
      "source": [
        "df.head(5)"
      ],
      "execution_count": 14,
      "outputs": [
        {
          "output_type": "execute_result",
          "data": {
            "text/html": [
              "<div>\n",
              "<style scoped>\n",
              "    .dataframe tbody tr th:only-of-type {\n",
              "        vertical-align: middle;\n",
              "    }\n",
              "\n",
              "    .dataframe tbody tr th {\n",
              "        vertical-align: top;\n",
              "    }\n",
              "\n",
              "    .dataframe thead th {\n",
              "        text-align: right;\n",
              "    }\n",
              "</style>\n",
              "<table border=\"1\" class=\"dataframe\">\n",
              "  <thead>\n",
              "    <tr style=\"text-align: right;\">\n",
              "      <th></th>\n",
              "      <th>store_id</th>\n",
              "      <th>date</th>\n",
              "      <th>time</th>\n",
              "      <th>card_id</th>\n",
              "      <th>amount</th>\n",
              "      <th>installments</th>\n",
              "      <th>days_of_week</th>\n",
              "      <th>holyday</th>\n",
              "      <th>month</th>\n",
              "      <th>hour</th>\n",
              "    </tr>\n",
              "  </thead>\n",
              "  <tbody>\n",
              "    <tr>\n",
              "      <th>0</th>\n",
              "      <td>0</td>\n",
              "      <td>2016-12-14</td>\n",
              "      <td>18:05:31</td>\n",
              "      <td>d297bba73f</td>\n",
              "      <td>5</td>\n",
              "      <td>NaN</td>\n",
              "      <td>2</td>\n",
              "      <td>0</td>\n",
              "      <td>12</td>\n",
              "      <td>18</td>\n",
              "    </tr>\n",
              "    <tr>\n",
              "      <th>1</th>\n",
              "      <td>0</td>\n",
              "      <td>2016-12-14</td>\n",
              "      <td>18:05:54</td>\n",
              "      <td>d297bba73f</td>\n",
              "      <td>-5</td>\n",
              "      <td>NaN</td>\n",
              "      <td>2</td>\n",
              "      <td>0</td>\n",
              "      <td>12</td>\n",
              "      <td>18</td>\n",
              "    </tr>\n",
              "    <tr>\n",
              "      <th>2</th>\n",
              "      <td>0</td>\n",
              "      <td>2016-12-19</td>\n",
              "      <td>12:42:31</td>\n",
              "      <td>0880849c05</td>\n",
              "      <td>144</td>\n",
              "      <td>NaN</td>\n",
              "      <td>0</td>\n",
              "      <td>0</td>\n",
              "      <td>12</td>\n",
              "      <td>12</td>\n",
              "    </tr>\n",
              "    <tr>\n",
              "      <th>3</th>\n",
              "      <td>0</td>\n",
              "      <td>2016-12-19</td>\n",
              "      <td>12:48:08</td>\n",
              "      <td>8b4f9e0e95</td>\n",
              "      <td>66</td>\n",
              "      <td>NaN</td>\n",
              "      <td>0</td>\n",
              "      <td>0</td>\n",
              "      <td>12</td>\n",
              "      <td>12</td>\n",
              "    </tr>\n",
              "    <tr>\n",
              "      <th>4</th>\n",
              "      <td>0</td>\n",
              "      <td>2016-12-19</td>\n",
              "      <td>13:31:08</td>\n",
              "      <td>7ad237eed0</td>\n",
              "      <td>24</td>\n",
              "      <td>NaN</td>\n",
              "      <td>0</td>\n",
              "      <td>0</td>\n",
              "      <td>12</td>\n",
              "      <td>13</td>\n",
              "    </tr>\n",
              "  </tbody>\n",
              "</table>\n",
              "</div>"
            ],
            "text/plain": [
              "   store_id        date      time     card_id  ...  days_of_week  holyday  month  hour\n",
              "0         0  2016-12-14  18:05:31  d297bba73f  ...             2        0     12    18\n",
              "1         0  2016-12-14  18:05:54  d297bba73f  ...             2        0     12    18\n",
              "2         0  2016-12-19  12:42:31  0880849c05  ...             0        0     12    12\n",
              "3         0  2016-12-19  12:48:08  8b4f9e0e95  ...             0        0     12    12\n",
              "4         0  2016-12-19  13:31:08  7ad237eed0  ...             0        0     12    13\n",
              "\n",
              "[5 rows x 10 columns]"
            ]
          },
          "metadata": {
            "tags": []
          },
          "execution_count": 14
        }
      ]
    },
    {
      "cell_type": "code",
      "metadata": {
        "colab": {
          "base_uri": "https://localhost:8080/",
          "height": 203
        },
        "id": "ThXrBLtkpKB9",
        "outputId": "cb108162-9102-4830-d341-bfc3e2a19da9"
      },
      "source": [
        "# 일단 date와 time은 사용하지 않겠으니 제거한다.\n",
        "df = df.drop(columns=['date','time'])\n",
        "df.head(5)"
      ],
      "execution_count": 15,
      "outputs": [
        {
          "output_type": "execute_result",
          "data": {
            "text/html": [
              "<div>\n",
              "<style scoped>\n",
              "    .dataframe tbody tr th:only-of-type {\n",
              "        vertical-align: middle;\n",
              "    }\n",
              "\n",
              "    .dataframe tbody tr th {\n",
              "        vertical-align: top;\n",
              "    }\n",
              "\n",
              "    .dataframe thead th {\n",
              "        text-align: right;\n",
              "    }\n",
              "</style>\n",
              "<table border=\"1\" class=\"dataframe\">\n",
              "  <thead>\n",
              "    <tr style=\"text-align: right;\">\n",
              "      <th></th>\n",
              "      <th>store_id</th>\n",
              "      <th>card_id</th>\n",
              "      <th>amount</th>\n",
              "      <th>installments</th>\n",
              "      <th>days_of_week</th>\n",
              "      <th>holyday</th>\n",
              "      <th>month</th>\n",
              "      <th>hour</th>\n",
              "    </tr>\n",
              "  </thead>\n",
              "  <tbody>\n",
              "    <tr>\n",
              "      <th>0</th>\n",
              "      <td>0</td>\n",
              "      <td>d297bba73f</td>\n",
              "      <td>5</td>\n",
              "      <td>NaN</td>\n",
              "      <td>2</td>\n",
              "      <td>0</td>\n",
              "      <td>12</td>\n",
              "      <td>18</td>\n",
              "    </tr>\n",
              "    <tr>\n",
              "      <th>1</th>\n",
              "      <td>0</td>\n",
              "      <td>d297bba73f</td>\n",
              "      <td>-5</td>\n",
              "      <td>NaN</td>\n",
              "      <td>2</td>\n",
              "      <td>0</td>\n",
              "      <td>12</td>\n",
              "      <td>18</td>\n",
              "    </tr>\n",
              "    <tr>\n",
              "      <th>2</th>\n",
              "      <td>0</td>\n",
              "      <td>0880849c05</td>\n",
              "      <td>144</td>\n",
              "      <td>NaN</td>\n",
              "      <td>0</td>\n",
              "      <td>0</td>\n",
              "      <td>12</td>\n",
              "      <td>12</td>\n",
              "    </tr>\n",
              "    <tr>\n",
              "      <th>3</th>\n",
              "      <td>0</td>\n",
              "      <td>8b4f9e0e95</td>\n",
              "      <td>66</td>\n",
              "      <td>NaN</td>\n",
              "      <td>0</td>\n",
              "      <td>0</td>\n",
              "      <td>12</td>\n",
              "      <td>12</td>\n",
              "    </tr>\n",
              "    <tr>\n",
              "      <th>4</th>\n",
              "      <td>0</td>\n",
              "      <td>7ad237eed0</td>\n",
              "      <td>24</td>\n",
              "      <td>NaN</td>\n",
              "      <td>0</td>\n",
              "      <td>0</td>\n",
              "      <td>12</td>\n",
              "      <td>13</td>\n",
              "    </tr>\n",
              "  </tbody>\n",
              "</table>\n",
              "</div>"
            ],
            "text/plain": [
              "   store_id     card_id  amount  installments  days_of_week  holyday month hour\n",
              "0         0  d297bba73f       5           NaN             2        0    12   18\n",
              "1         0  d297bba73f      -5           NaN             2        0    12   18\n",
              "2         0  0880849c05     144           NaN             0        0    12   12\n",
              "3         0  8b4f9e0e95      66           NaN             0        0    12   12\n",
              "4         0  7ad237eed0      24           NaN             0        0    12   13"
            ]
          },
          "metadata": {
            "tags": []
          },
          "execution_count": 15
        }
      ]
    },
    {
      "cell_type": "markdown",
      "metadata": {
        "id": "qsEj4mvHpKB9"
      },
      "source": [
        "#### 3. 개개 변수를 다양한 방법으로 요약하고 시각화 한다."
      ]
    },
    {
      "cell_type": "code",
      "metadata": {
        "colab": {
          "base_uri": "https://localhost:8080/"
        },
        "id": "F9IMsTvZxyvw",
        "outputId": "5de52148-c923-4242-b597-6b684825a741"
      },
      "source": [
        "print(df.store_id.nunique())\n",
        "print(df.card_id.nunique())"
      ],
      "execution_count": 33,
      "outputs": [
        {
          "output_type": "stream",
          "text": [
            "1775\n",
            "922522\n"
          ],
          "name": "stdout"
        }
      ]
    },
    {
      "cell_type": "markdown",
      "metadata": {
        "id": "DwDacCmzpKB-"
      },
      "source": [
        "3.1. store_id 등장 횟수의 히스토그램."
      ]
    },
    {
      "cell_type": "code",
      "metadata": {
        "colab": {
          "base_uri": "https://localhost:8080/",
          "height": 265
        },
        "id": "qyA6Qo0RpKB-",
        "outputId": "29bc5037-a2ae-40f8-dbbc-2b803978e6d3"
      },
      "source": [
        "freq1 = df['store_id'].value_counts()\n",
        "freq1.plot.hist(bins=50,color=\"turquoise\",alpha=0.5)\n",
        "#sns.distplot(freq1.values,bins=50,color=\"turquoise\")      # 다른 방법.\n",
        "plt.show()"
      ],
      "execution_count": 16,
      "outputs": [
        {
          "output_type": "display_data",
          "data": {
            "image/png": "[encoded data removed]",
            "text/plain": [
              "<Figure size 432x288 with 1 Axes>"
            ]
          },
          "metadata": {
            "tags": [],
            "needs_background": "light"
          }
        }
      ]
    },
    {
      "cell_type": "code",
      "metadata": {
        "colab": {
          "base_uri": "https://localhost:8080/",
          "height": 265
        },
        "id": "EV1jP28zpKB-",
        "outputId": "b5fb4754-bfe5-4737-ea44-4af9191acc80"
      },
      "source": [
        "# 큰 skew를 보이므로 log 변환해 본다.\n",
        "freq1b = np.log(freq1)\n",
        "freq1b.plot.hist(bins=30,color=\"turquoise\",alpha=0.5)\n",
        "plt.show()\n",
        "# 사용 빈도"
      ],
      "execution_count": 17,
      "outputs": [
        {
          "output_type": "display_data",
          "data": {
            "image/png": "[encoded data removed]",
            "text/plain": [
              "<Figure size 432x288 with 1 Axes>"
            ]
          },
          "metadata": {
            "tags": [],
            "needs_background": "light"
          }
        }
      ]
    },
    {
      "cell_type": "code",
      "metadata": {
        "colab": {
          "base_uri": "https://localhost:8080/"
        },
        "id": "4wlwZhdXpKB-",
        "outputId": "c47f2637-141c-4fe6-927d-7b8ae01262b6"
      },
      "source": [
        "# 중위수를 계산해 본다.\n",
        "print(np.median(freq1))"
      ],
      "execution_count": 18,
      "outputs": [
        {
          "output_type": "stream",
          "text": [
            "492.0\n"
          ],
          "name": "stdout"
        }
      ]
    },
    {
      "cell_type": "code",
      "metadata": {
        "colab": {
          "base_uri": "https://localhost:8080/"
        },
        "id": "iAFsKnytpKB-",
        "outputId": "fd5fc6a9-4e54-42d0-f4b2-987c52fdf74d"
      },
      "source": [
        "# Top store id를 본다.\n",
        "freq1.sort_values(ascending=False)[:10]"
      ],
      "execution_count": 19,
      "outputs": [
        {
          "output_type": "execute_result",
          "data": {
            "text/plain": [
              "0       68773\n",
              "753     39318\n",
              "105     36063\n",
              "1342    33335\n",
              "428     33285\n",
              "221     31409\n",
              "161     27170\n",
              "1038    25694\n",
              "323     25221\n",
              "1366    24946\n",
              "Name: store_id, dtype: int64"
            ]
          },
          "metadata": {
            "tags": []
          },
          "execution_count": 19
        }
      ]
    },
    {
      "cell_type": "markdown",
      "metadata": {
        "id": "B8Yp9OtppKB-"
      },
      "source": [
        "3.2. card_id 사용 횟수의 히스토그램."
      ]
    },
    {
      "cell_type": "code",
      "metadata": {
        "id": "hyOzk0gopKB_",
        "colab": {
          "base_uri": "https://localhost:8080/",
          "height": 265
        },
        "outputId": "138d95d9-3f4b-4059-a0a1-5d00a5b14318"
      },
      "source": [
        "# 판다스에서 시각화를 할 수 있는 방법\n",
        "freq2 = df['card_id'].value_counts()\n",
        "freq2.plot.hist(bins=50,color=\"green\",alpha=0.5)\n",
        "#sns.distplot(freq2.values,bins=50,color=\"green\")         # 다른 방법.\n",
        "plt.show()"
      ],
      "execution_count": 20,
      "outputs": [
        {
          "output_type": "display_data",
          "data": {
            "image/png": "[encoded data removed]",
            "text/plain": [
              "<Figure size 432x288 with 1 Axes>"
            ]
          },
          "metadata": {
            "tags": [],
            "needs_background": "light"
          }
        }
      ]
    },
    {
      "cell_type": "code",
      "metadata": {
        "id": "yfFT2KWlpKB_",
        "colab": {
          "base_uri": "https://localhost:8080/",
          "height": 265
        },
        "outputId": "69e6456e-7f2c-426a-ac57-1106f724b166"
      },
      "source": [
        "# 큰 skew를 보이므로 log 변환해 본다.\n",
        "freq2b = np.log(freq2)                                              \n",
        "freq2b.plot.hist(bins=20,color=\"green\",alpha=0.5)\n",
        "#sns.distplot(freq2b.values,bins=20,color=\"green\",kde=False)           # 다른 방법.\n",
        "plt.show()"
      ],
      "execution_count": 21,
      "outputs": [
        {
          "output_type": "display_data",
          "data": {
            "image/png": "[encoded data removed]",
            "text/plain": [
              "<Figure size 432x288 with 1 Axes>"
            ]
          },
          "metadata": {
            "tags": [],
            "needs_background": "light"
          }
        }
      ]
    },
    {
      "cell_type": "code",
      "metadata": {
        "id": "5uLJMCD8pKB_",
        "colab": {
          "base_uri": "https://localhost:8080/"
        },
        "outputId": "2c70580e-66ee-4468-960a-a9fe62fbdedd"
      },
      "source": [
        "# 사용 횟수 Top 10 card id를 본다. sort_value를 사용해서 상위부터 [:10] 만 볼 수 있다.\n",
        "freq2.sort_values(ascending=False)[:10]"
      ],
      "execution_count": 22,
      "outputs": [
        {
          "output_type": "execute_result",
          "data": {
            "text/plain": [
              "53817035d4    835\n",
              "93bba5079c    512\n",
              "994b71a98a    458\n",
              "18549044f3    453\n",
              "6b2d18c5c5    433\n",
              "10a5c30cda    425\n",
              "06e61d93b8    423\n",
              "5cf0b23473    413\n",
              "0177959e09    409\n",
              "a9a1e3d97d    405\n",
              "Name: card_id, dtype: int64"
            ]
          },
          "metadata": {
            "tags": []
          },
          "execution_count": 22
        }
      ]
    },
    {
      "cell_type": "code",
      "metadata": {
        "colab": {
          "base_uri": "https://localhost:8080/"
        },
        "id": "rkVacUCszIJk",
        "outputId": "7d6718dc-d691-4f7a-a7ad-9b3b07f76a49"
      },
      "source": [
        "df[df['card_id'] == '53817035d4'].amount.mean()"
      ],
      "execution_count": 57,
      "outputs": [
        {
          "output_type": "execute_result",
          "data": {
            "text/plain": [
              "11.337724550898203"
            ]
          },
          "metadata": {
            "tags": []
          },
          "execution_count": 57
        }
      ]
    },
    {
      "cell_type": "markdown",
      "metadata": {
        "id": "2UbPjBpKpKB_"
      },
      "source": [
        "3.3. amount의 히스토그램."
      ]
    },
    {
      "cell_type": "code",
      "metadata": {
        "id": "2j_YV6jYpKB_",
        "colab": {
          "base_uri": "https://localhost:8080/",
          "height": 276
        },
        "outputId": "efd11fa8-1056-4682-aff2-eb059483ac37"
      },
      "source": [
        "df['amount'].plot.hist(bins=10)\n",
        "# sns.distplot(df.amount,bins=10,kde=False)\n",
        "plt.show()"
      ],
      "execution_count": 23,
      "outputs": [
        {
          "output_type": "display_data",
          "data": {
            "image/png": "[encoded data removed]",
            "text/plain": [
              "<Figure size 432x288 with 1 Axes>"
            ]
          },
          "metadata": {
            "tags": [],
            "needs_background": "light"
          }
        }
      ]
    },
    {
      "cell_type": "code",
      "metadata": {
        "id": "1Rh3tclipKB_",
        "colab": {
          "base_uri": "https://localhost:8080/"
        },
        "outputId": "7ccaa2c5-d024-4565-84fa-70fa13a99407"
      },
      "source": [
        "# 실제 구매 or Cancel.\n",
        "ser = df.amount > 0\n",
        "np.round(ser.mean(),4)             # 실제 구매의 퍼센티지."
      ],
      "execution_count": 24,
      "outputs": [
        {
          "output_type": "execute_result",
          "data": {
            "text/plain": [
              "0.9896"
            ]
          },
          "metadata": {
            "tags": []
          },
          "execution_count": 24
        }
      ]
    },
    {
      "cell_type": "code",
      "metadata": {
        "colab": {
          "base_uri": "https://localhost:8080/"
        },
        "id": "64qpqVKlzjiF",
        "outputId": "9da1153c-e04d-4de9-e872-b30b13cf886c"
      },
      "source": [
        "# 특이한 케이스\n",
        "\n",
        "df.iloc[df.amount.argmax()]\n",
        "df.iloc[df.amount.argmin()]\n"
      ],
      "execution_count": 49,
      "outputs": [
        {
          "output_type": "execute_result",
          "data": {
            "text/plain": [
              "store_id               370\n",
              "card_id         1c492f54f0\n",
              "amount             -250000\n",
              "installments             3\n",
              "days_of_week             0\n",
              "holyday                  0\n",
              "month                   03\n",
              "hour                    19\n",
              "Name: 929473, dtype: object"
            ]
          },
          "metadata": {
            "tags": []
          },
          "execution_count": 49
        }
      ]
    },
    {
      "cell_type": "code",
      "metadata": {
        "colab": {
          "base_uri": "https://localhost:8080/"
        },
        "id": "T-ckKLup0E75",
        "outputId": "3077405a-ef11-43dc-eecc-de4c30bc30ab"
      },
      "source": [
        "(x < 0).mean() # 환불의 확률"
      ],
      "execution_count": 47,
      "outputs": [
        {
          "output_type": "execute_result",
          "data": {
            "text/plain": [
              "0.3520408163265306"
            ]
          },
          "metadata": {
            "tags": []
          },
          "execution_count": 47
        }
      ]
    },
    {
      "cell_type": "code",
      "metadata": {
        "colab": {
          "base_uri": "https://localhost:8080/"
        },
        "id": "FEcKBWFS0R7g",
        "outputId": "a7481416-cf0f-4d9a-f8eb-dc39fed396b4"
      },
      "source": [
        "(df.amount < 0).mean() # 전체 amount에서 -가 1%밖에 안되기 때문에 모든 가게의 평균 환불값은 "
      ],
      "execution_count": 48,
      "outputs": [
        {
          "output_type": "execute_result",
          "data": {
            "text/plain": [
              "0.010060675699626145"
            ]
          },
          "metadata": {
            "tags": []
          },
          "execution_count": 48
        }
      ]
    },
    {
      "cell_type": "code",
      "metadata": {
        "colab": {
          "base_uri": "https://localhost:8080/",
          "height": 110
        },
        "id": "Fr7CUvP70oXC",
        "outputId": "2a5647c1-4ac8-4259-b811-98d0a83ee4f9"
      },
      "source": [
        "df[df.card_id == '1c492f54f0'] # 카드id가 1c492f54f0(특이케이스)인 사람의 모든 거래 내역"
      ],
      "execution_count": 50,
      "outputs": [
        {
          "output_type": "execute_result",
          "data": {
            "text/html": [
              "<div>\n",
              "<style scoped>\n",
              "    .dataframe tbody tr th:only-of-type {\n",
              "        vertical-align: middle;\n",
              "    }\n",
              "\n",
              "    .dataframe tbody tr th {\n",
              "        vertical-align: top;\n",
              "    }\n",
              "\n",
              "    .dataframe thead th {\n",
              "        text-align: right;\n",
              "    }\n",
              "</style>\n",
              "<table border=\"1\" class=\"dataframe\">\n",
              "  <thead>\n",
              "    <tr style=\"text-align: right;\">\n",
              "      <th></th>\n",
              "      <th>store_id</th>\n",
              "      <th>card_id</th>\n",
              "      <th>amount</th>\n",
              "      <th>installments</th>\n",
              "      <th>days_of_week</th>\n",
              "      <th>holyday</th>\n",
              "      <th>month</th>\n",
              "      <th>hour</th>\n",
              "    </tr>\n",
              "  </thead>\n",
              "  <tbody>\n",
              "    <tr>\n",
              "      <th>929470</th>\n",
              "      <td>370</td>\n",
              "      <td>1c492f54f0</td>\n",
              "      <td>250000</td>\n",
              "      <td>3.0</td>\n",
              "      <td>0</td>\n",
              "      <td>0</td>\n",
              "      <td>01</td>\n",
              "      <td>12</td>\n",
              "    </tr>\n",
              "    <tr>\n",
              "      <th>929473</th>\n",
              "      <td>370</td>\n",
              "      <td>1c492f54f0</td>\n",
              "      <td>-250000</td>\n",
              "      <td>3.0</td>\n",
              "      <td>0</td>\n",
              "      <td>0</td>\n",
              "      <td>03</td>\n",
              "      <td>19</td>\n",
              "    </tr>\n",
              "  </tbody>\n",
              "</table>\n",
              "</div>"
            ],
            "text/plain": [
              "        store_id     card_id  amount  ...  holyday  month  hour\n",
              "929470       370  1c492f54f0  250000  ...        0     01    12\n",
              "929473       370  1c492f54f0 -250000  ...        0     03    19\n",
              "\n",
              "[2 rows x 8 columns]"
            ]
          },
          "metadata": {
            "tags": []
          },
          "execution_count": 50
        }
      ]
    },
    {
      "cell_type": "markdown",
      "metadata": {
        "id": "AWQ_oxkVpKCA"
      },
      "source": [
        "\n",
        "3.4. installments의 막대그림."
      ]
    },
    {
      "cell_type": "code",
      "metadata": {
        "id": "_qEJ92vTpKCA",
        "colab": {
          "base_uri": "https://localhost:8080/"
        },
        "outputId": "0c93098a-f348-42ea-8e94-e674a04b43c8"
      },
      "source": [
        "freq3 = df['installments'].value_counts()\n",
        "print(\"installments의 가짓수 = {}\".format((freq3.index).nunique()))"
      ],
      "execution_count": 53,
      "outputs": [
        {
          "output_type": "stream",
          "text": [
            "installments의 가짓수 = 16\n"
          ],
          "name": "stdout"
        }
      ]
    },
    {
      "cell_type": "code",
      "metadata": {
        "id": "u4FgiVPzpKCA",
        "colab": {
          "base_uri": "https://localhost:8080/",
          "height": 292
        },
        "outputId": "3fe1369c-9b36-4662-96db-1797df301b56"
      },
      "source": [
        "# 도수 분포를 본다.\n",
        "freq3 = freq3.sort_index()\n",
        "df2 = pd.DataFrame({\"Installment\": freq3.index, \"Counts\":freq3.values})\n",
        "df2.plot.bar(x=\"Installment\")\n",
        "#sns.countplot(data=df, x='installments')   # Seaborn의 countplot() 함수로 집계하여 보여준다.  \n",
        "plt.show()"
      ],
      "execution_count": 55,
      "outputs": [
        {
          "output_type": "display_data",
          "data": {
            "image/png": "[encoded data removed]",
            "text/plain": [
              "<Figure size 432x288 with 1 Axes>"
            ]
          },
          "metadata": {
            "tags": [],
            "needs_background": "light"
          }
        }
      ]
    },
    {
      "cell_type": "code",
      "metadata": {
        "id": "0Z_aSs7LpKCA",
        "colab": {
          "base_uri": "https://localhost:8080/",
          "height": 292
        },
        "outputId": "ddbe944d-cf10-49c7-bb15-9070147751cf"
      },
      "source": [
        "# installment = 1 (일시불)이 너무나 많으니 제거하고 다시 시각화 해본다.\n",
        "freq3b = df[df.installments != 1]['installments'].value_counts()\n",
        "freq3b = freq3b.sort_index()\n",
        "df2 = pd.DataFrame({\"Installment\": freq3b.index, \"Counts\":freq3b.values})\n",
        "df2.plot.bar(x=\"Installment\")\n",
        "#sns.countplot(data=df[df.installments != 1], x='installments')               # 다른 방법.\n",
        "plt.show()"
      ],
      "execution_count": 52,
      "outputs": [
        {
          "output_type": "display_data",
          "data": {
            "image/png": "[encoded data removed]",
            "text/plain": [
              "<Figure size 432x288 with 1 Axes>"
            ]
          },
          "metadata": {
            "tags": [],
            "needs_background": "light"
          }
        }
      ]
    },
    {
      "cell_type": "markdown",
      "metadata": {
        "id": "BH61Rd0NpKCA"
      },
      "source": [
        "3.5. days_of_week의 도수 막대그림."
      ]
    },
    {
      "cell_type": "code",
      "metadata": {
        "id": "Vft3z240pKCA",
        "colab": {
          "base_uri": "https://localhost:8080/",
          "height": 294
        },
        "outputId": "0394fd80-9602-45fb-f4e6-a446cc16b278"
      },
      "source": [
        "freq4 = df['days_of_week'].value_counts()\n",
        "freq4 = freq4.sort_index()\n",
        "df2 = pd.DataFrame({\"Days of Week\": freq4.index, \"Counts\":freq4.values})\n",
        "df2.plot.bar(x=\"Days of Week\")\n",
        "print(\"days of week의 가짓수 = {}\".format((freq4.index).nunique()))\n",
        "plt.show()"
      ],
      "execution_count": 28,
      "outputs": [
        {
          "output_type": "stream",
          "text": [
            "days of week의 가짓수 = 7\n"
          ],
          "name": "stdout"
        },
        {
          "output_type": "display_data",
          "data": {
            "image/png": "[encoded data removed]",
            "text/plain": [
              "<Figure size 432x288 with 1 Axes>"
            ]
          },
          "metadata": {
            "tags": [],
            "needs_background": "light"
          }
        }
      ]
    },
    {
      "cell_type": "code",
      "metadata": {
        "id": "kkhgACYKpKCA",
        "colab": {
          "base_uri": "https://localhost:8080/",
          "height": 280
        },
        "outputId": "d47f6b12-9e13-42b5-ae30-7ec0b06adcbb"
      },
      "source": [
        "# Seaborn의 countplot() 함수로 집계하여 보여준다.\n",
        "# 집계와 시각화를 한번에 해준다.\n",
        "sns.countplot(data=df, x='days_of_week')\n",
        "plt.show()"
      ],
      "execution_count": 29,
      "outputs": [
        {
          "output_type": "display_data",
          "data": {
            "image/png": "[encoded data removed]",
            "text/plain": [
              "<Figure size 432x288 with 1 Axes>"
            ]
          },
          "metadata": {
            "tags": [],
            "needs_background": "light"
          }
        }
      ]
    },
    {
      "cell_type": "markdown",
      "metadata": {
        "id": "NLfiaKZ_pKCB"
      },
      "source": [
        "3.6. holiday의 막대그림."
      ]
    },
    {
      "cell_type": "code",
      "metadata": {
        "id": "IZgKAFk3pKCB",
        "colab": {
          "base_uri": "https://localhost:8080/",
          "height": 287
        },
        "outputId": "ad868405-745e-4be9-929e-2c994e2074d1"
      },
      "source": [
        "freq5 = df['holyday'].value_counts()                    # 스펠링 오류!!!\n",
        "freq5 = freq5.sort_index()\n",
        "df2 = pd.DataFrame({\"Holiday\": freq5.index, \"Counts\":freq5.values})\n",
        "df2.plot.bar(x=\"Holiday\")\n",
        "plt.show()"
      ],
      "execution_count": 30,
      "outputs": [
        {
          "output_type": "display_data",
          "data": {
            "image/png": "[encoded data removed]",
            "text/plain": [
              "<Figure size 432x288 with 1 Axes>"
            ]
          },
          "metadata": {
            "tags": [],
            "needs_background": "light"
          }
        }
      ]
    },
    {
      "cell_type": "markdown",
      "metadata": {
        "id": "x8XCKiGEpKCB"
      },
      "source": [
        "#### 4. 수치형 변수 + 명목형 변수를 조합한 분석과 시각화."
      ]
    },
    {
      "cell_type": "code",
      "metadata": {
        "id": "-3SVoaTDpKCB",
        "colab": {
          "base_uri": "https://localhost:8080/",
          "height": 80
        },
        "outputId": "1a962d3f-26cd-4e06-fa6f-173370874568"
      },
      "source": [
        "# 휴일 여부별 평균 사용 금액.\n",
        "df.groupby('holyday')['amount'].mean()\n",
        "\n",
        "# pd.pivot_table을 사용한 평균 금액 출력\n",
        "pd.pivot_table(df, columns=['holyday'], values=['amount'], aggfunc= np.mean)"
      ],
      "execution_count": 59,
      "outputs": [
        {
          "output_type": "execute_result",
          "data": {
            "text/html": [
              "<div>\n",
              "<style scoped>\n",
              "    .dataframe tbody tr th:only-of-type {\n",
              "        vertical-align: middle;\n",
              "    }\n",
              "\n",
              "    .dataframe tbody tr th {\n",
              "        vertical-align: top;\n",
              "    }\n",
              "\n",
              "    .dataframe thead th {\n",
              "        text-align: right;\n",
              "    }\n",
              "</style>\n",
              "<table border=\"1\" class=\"dataframe\">\n",
              "  <thead>\n",
              "    <tr style=\"text-align: right;\">\n",
              "      <th>holyday</th>\n",
              "      <th>0</th>\n",
              "      <th>1</th>\n",
              "    </tr>\n",
              "  </thead>\n",
              "  <tbody>\n",
              "    <tr>\n",
              "      <th>amount</th>\n",
              "      <td>146.48</td>\n",
              "      <td>134.88</td>\n",
              "    </tr>\n",
              "  </tbody>\n",
              "</table>\n",
              "</div>"
            ],
            "text/plain": [
              "holyday       0       1\n",
              "amount   146.48  134.88"
            ]
          },
          "metadata": {
            "tags": []
          },
          "execution_count": 59
        }
      ]
    },
    {
      "cell_type": "code",
      "metadata": {
        "colab": {
          "base_uri": "https://localhost:8080/",
          "height": 80
        },
        "id": "nZQ6W5V35kDU",
        "outputId": "3397c2b6-e15b-4bb4-a2d8-9d343469a648"
      },
      "source": [
        "pd.pivot_table(df, columns=['days_of_week'], values=['amount'], aggfunc= np.mean)"
      ],
      "execution_count": 60,
      "outputs": [
        {
          "output_type": "execute_result",
          "data": {
            "text/html": [
              "<div>\n",
              "<style scoped>\n",
              "    .dataframe tbody tr th:only-of-type {\n",
              "        vertical-align: middle;\n",
              "    }\n",
              "\n",
              "    .dataframe tbody tr th {\n",
              "        vertical-align: top;\n",
              "    }\n",
              "\n",
              "    .dataframe thead th {\n",
              "        text-align: right;\n",
              "    }\n",
              "</style>\n",
              "<table border=\"1\" class=\"dataframe\">\n",
              "  <thead>\n",
              "    <tr style=\"text-align: right;\">\n",
              "      <th>days_of_week</th>\n",
              "      <th>0</th>\n",
              "      <th>1</th>\n",
              "      <th>2</th>\n",
              "      <th>3</th>\n",
              "      <th>4</th>\n",
              "      <th>5</th>\n",
              "      <th>6</th>\n",
              "    </tr>\n",
              "  </thead>\n",
              "  <tbody>\n",
              "    <tr>\n",
              "      <th>amount</th>\n",
              "      <td>143.2</td>\n",
              "      <td>148.23</td>\n",
              "      <td>149.43</td>\n",
              "      <td>150.45</td>\n",
              "      <td>150.95</td>\n",
              "      <td>146.96</td>\n",
              "      <td>131.53</td>\n",
              "    </tr>\n",
              "  </tbody>\n",
              "</table>\n",
              "</div>"
            ],
            "text/plain": [
              "days_of_week      0       1       2       3       4       5       6\n",
              "amount        143.2  148.23  149.43  150.45  150.95  146.96  131.53"
            ]
          },
          "metadata": {
            "tags": []
          },
          "execution_count": 60
        }
      ]
    },
    {
      "cell_type": "code",
      "metadata": {
        "id": "rgijmZTIpKCB",
        "colab": {
          "base_uri": "https://localhost:8080/"
        },
        "outputId": "98a70114-43c5-4cab-b860-9647a2f5679c"
      },
      "source": [
        "# 요일별 평균 결제 금액.\n",
        "ser1 = df.groupby('days_of_week')['amount'].mean()\n",
        "ser1"
      ],
      "execution_count": 61,
      "outputs": [
        {
          "output_type": "execute_result",
          "data": {
            "text/plain": [
              "days_of_week\n",
              "0    143.20\n",
              "1    148.23\n",
              "2    149.43\n",
              "3    150.45\n",
              "4    150.95\n",
              "5    146.96\n",
              "6    131.53\n",
              "Name: amount, dtype: float64"
            ]
          },
          "metadata": {
            "tags": []
          },
          "execution_count": 61
        }
      ]
    },
    {
      "cell_type": "code",
      "metadata": {
        "id": "-R1u_AjRpKCB",
        "colab": {
          "base_uri": "https://localhost:8080/",
          "height": 276
        },
        "outputId": "97f0b6d6-9181-4097-ed6b-4b767c035fe1"
      },
      "source": [
        "# 시각화.\n",
        "pd.DataFrame({\"Days of Week\":ser1.index, \"Amount\":ser1.values}).plot.bar(x=\"Days of Week\")\n",
        "plt.show()"
      ],
      "execution_count": 62,
      "outputs": [
        {
          "output_type": "display_data",
          "data": {
            "image/png": "[encoded data removed]",
            "text/plain": [
              "<Figure size 432x288 with 1 Axes>"
            ]
          },
          "metadata": {
            "tags": [],
            "needs_background": "light"
          }
        }
      ]
    },
    {
      "cell_type": "code",
      "metadata": {
        "id": "cDsqv5tApKCC"
      },
      "source": [
        "# store_id 별 평균 결제 금액.\n",
        "ser2 = df.groupby('store_id')['amount'].mean()\n",
        "ser2.plot.hist(x=\"Store ID\",title=\"Mean Amount by Store\",bins=50)\n",
        "plt.show()"
      ],
      "execution_count": null,
      "outputs": []
    },
    {
      "cell_type": "code",
      "metadata": {
        "id": "gTneFw7vpKCC",
        "colab": {
          "base_uri": "https://localhost:8080/"
        },
        "outputId": "4dd2521a-daa7-4e35-9f89-e5d3f1f37d7c"
      },
      "source": [
        "# store_id 별 Total 결제 금액. Top 10.\n",
        "ser2b = df.groupby('store_id')['amount'].sum()\n",
        "ser2b.sort_values(ascending=False)[:10]"
      ],
      "execution_count": 63,
      "outputs": [
        {
          "output_type": "execute_result",
          "data": {
            "text/plain": [
              "store_id\n",
              "753     9474601\n",
              "1342    7301327\n",
              "161     5236075\n",
              "0       5234611\n",
              "958     4965728\n",
              "1076    4860885\n",
              "810     3677501\n",
              "1024    3330293\n",
              "486     3235482\n",
              "597     2999180\n",
              "Name: amount, dtype: int64"
            ]
          },
          "metadata": {
            "tags": []
          },
          "execution_count": 63
        }
      ]
    },
    {
      "cell_type": "code",
      "metadata": {
        "id": "tpr4X7plpKCC",
        "colab": {
          "base_uri": "https://localhost:8080/",
          "height": 265
        },
        "outputId": "5d8e22eb-0573-4dc6-fc64-105e2b772cc2"
      },
      "source": [
        "# card_id 별 평균 결제 금액.\n",
        "ser3 = df.groupby('card_id')['amount'].mean()\n",
        "ser3.plot.hist(bins=50)\n",
        "plt.show()"
      ],
      "execution_count": 64,
      "outputs": [
        {
          "output_type": "display_data",
          "data": {
            "image/png": "[encoded data removed]",
            "text/plain": [
              "<Figure size 432x288 with 1 Axes>"
            ]
          },
          "metadata": {
            "tags": [],
            "needs_background": "light"
          }
        }
      ]
    },
    {
      "cell_type": "code",
      "metadata": {
        "colab": {
          "base_uri": "https://localhost:8080/"
        },
        "id": "d143pOB96D0o",
        "outputId": "4a57c53e-3b49-4f30-b99b-9bfb12fe7a3a"
      },
      "source": [
        "df.groupby('card_id').amount.mean().sort_values()"
      ],
      "execution_count": 66,
      "outputs": [
        {
          "output_type": "execute_result",
          "data": {
            "text/plain": [
              "card_id\n",
              "c43fee0edb     -4980.00\n",
              "8589f5980e     -1557.71\n",
              "7e74575056      -330.00\n",
              "8a3dc45eaa      -156.25\n",
              "5c127f94cd       -59.00\n",
              "                ...    \n",
              "f408c22f2a     45000.00\n",
              "704b7f81dc     45570.00\n",
              "e5d233d934     49000.00\n",
              "7fbba44248     73388.00\n",
              "fae5d55226    101190.00\n",
              "Name: amount, Length: 922522, dtype: float64"
            ]
          },
          "metadata": {
            "tags": []
          },
          "execution_count": 66
        }
      ]
    },
    {
      "cell_type": "code",
      "metadata": {
        "id": "WWFvdVjvpKCC"
      },
      "source": [
        "# card_id 별 Total 결제 금액. Top 10.\n",
        "ser3b = df.groupby('card_id')['amount'].sum()\n",
        "ser3b.sort_values(ascending=False)[:10]"
      ],
      "execution_count": null,
      "outputs": []
    },
    {
      "cell_type": "code",
      "metadata": {
        "colab": {
          "base_uri": "https://localhost:8080/",
          "height": 297
        },
        "id": "Yph6Ectd69c2",
        "outputId": "505f429f-e948-4880-eace-ffadfe61d864"
      },
      "source": [
        "df.groupby('month').amount.mean().sort_index().plot()\n",
        "# df.groupby('month').amount.mean().sort_index().plot() sum은 데이터가 고르지않다면 혼동을 줄 수 있다."
      ],
      "execution_count": 70,
      "outputs": [
        {
          "output_type": "execute_result",
          "data": {
            "text/plain": [
              "<matplotlib.axes._subplots.AxesSubplot at 0x7ff050a70510>"
            ]
          },
          "metadata": {
            "tags": []
          },
          "execution_count": 70
        },
        {
          "output_type": "display_data",
          "data": {
            "image/png": "[encoded data removed]",
            "text/plain": [
              "<Figure size 432x288 with 1 Axes>"
            ]
          },
          "metadata": {
            "tags": [],
            "needs_background": "light"
          }
        }
      ]
    },
    {
      "cell_type": "code",
      "metadata": {
        "colab": {
          "base_uri": "https://localhost:8080/",
          "height": 308
        },
        "id": "-kciQBnf68LG",
        "outputId": "ad2e2b6b-a93d-4bd7-95df-bd34899d20dc"
      },
      "source": [
        "df.groupby('hour').amount.sum().sort_index().plot()"
      ],
      "execution_count": 72,
      "outputs": [
        {
          "output_type": "execute_result",
          "data": {
            "text/plain": [
              "<matplotlib.axes._subplots.AxesSubplot at 0x7ff0521b1c50>"
            ]
          },
          "metadata": {
            "tags": []
          },
          "execution_count": 72
        },
        {
          "output_type": "display_data",
          "data": {
            "image/png": "[encoded data removed]",
            "text/plain": [
              "<Figure size 432x288 with 1 Axes>"
            ]
          },
          "metadata": {
            "tags": [],
            "needs_background": "light"
          }
        }
      ]
    },
    {
      "cell_type": "code",
      "metadata": {
        "id": "MPjhhdh57Dm_"
      },
      "source": [
        "from IPython.core.pylabtools import figsize\n",
        "#month별 시간대 별 패턴\n",
        "pv_ta1 = pd.pivot_table(df, index='hour', columns= 'month', values='amount', aggfunc = 'sum')\n",
        "# pd.pivot_table(전체 데이터 프레임, index='column명', columns='column명', values='수치값 column명', aggfunc = '사용할 집계시 계산  함수')\n",
        "# columns = 그래프의 개수(행별) ,index = x축(열별), values = y축(수치값)"
      ],
      "execution_count": 96,
      "outputs": []
    },
    {
      "cell_type": "code",
      "metadata": {
        "colab": {
          "base_uri": "https://localhost:8080/",
          "height": 234
        },
        "id": "j-dY8P1MAjZ8",
        "outputId": "4e40f06b-9268-4909-d190-45a5b02696eb"
      },
      "source": [
        "pv_ta1.head()"
      ],
      "execution_count": 94,
      "outputs": [
        {
          "output_type": "execute_result",
          "data": {
            "text/html": [
              "<div>\n",
              "<style scoped>\n",
              "    .dataframe tbody tr th:only-of-type {\n",
              "        vertical-align: middle;\n",
              "    }\n",
              "\n",
              "    .dataframe tbody tr th {\n",
              "        vertical-align: top;\n",
              "    }\n",
              "\n",
              "    .dataframe thead th {\n",
              "        text-align: right;\n",
              "    }\n",
              "</style>\n",
              "<table border=\"1\" class=\"dataframe\">\n",
              "  <thead>\n",
              "    <tr style=\"text-align: right;\">\n",
              "      <th>month</th>\n",
              "      <th>01</th>\n",
              "      <th>02</th>\n",
              "      <th>03</th>\n",
              "      <th>04</th>\n",
              "      <th>05</th>\n",
              "      <th>06</th>\n",
              "      <th>07</th>\n",
              "      <th>08</th>\n",
              "      <th>09</th>\n",
              "      <th>10</th>\n",
              "      <th>11</th>\n",
              "      <th>12</th>\n",
              "    </tr>\n",
              "    <tr>\n",
              "      <th>hour</th>\n",
              "      <th></th>\n",
              "      <th></th>\n",
              "      <th></th>\n",
              "      <th></th>\n",
              "      <th></th>\n",
              "      <th></th>\n",
              "      <th></th>\n",
              "      <th></th>\n",
              "      <th></th>\n",
              "      <th></th>\n",
              "      <th></th>\n",
              "      <th></th>\n",
              "    </tr>\n",
              "  </thead>\n",
              "  <tbody>\n",
              "    <tr>\n",
              "      <th>00</th>\n",
              "      <td>1095703</td>\n",
              "      <td>1073429</td>\n",
              "      <td>1398489</td>\n",
              "      <td>1254508</td>\n",
              "      <td>1356970</td>\n",
              "      <td>1332478</td>\n",
              "      <td>1355142</td>\n",
              "      <td>965794</td>\n",
              "      <td>965252</td>\n",
              "      <td>1024424</td>\n",
              "      <td>1004383</td>\n",
              "      <td>1244975</td>\n",
              "    </tr>\n",
              "    <tr>\n",
              "      <th>01</th>\n",
              "      <td>810388</td>\n",
              "      <td>816068</td>\n",
              "      <td>912696</td>\n",
              "      <td>901987</td>\n",
              "      <td>1002022</td>\n",
              "      <td>955644</td>\n",
              "      <td>984113</td>\n",
              "      <td>673434</td>\n",
              "      <td>708515</td>\n",
              "      <td>738632</td>\n",
              "      <td>683999</td>\n",
              "      <td>835329</td>\n",
              "    </tr>\n",
              "    <tr>\n",
              "      <th>02</th>\n",
              "      <td>529842</td>\n",
              "      <td>470947</td>\n",
              "      <td>594815</td>\n",
              "      <td>605800</td>\n",
              "      <td>632496</td>\n",
              "      <td>615775</td>\n",
              "      <td>586970</td>\n",
              "      <td>484788</td>\n",
              "      <td>452554</td>\n",
              "      <td>468441</td>\n",
              "      <td>464699</td>\n",
              "      <td>575809</td>\n",
              "    </tr>\n",
              "    <tr>\n",
              "      <th>03</th>\n",
              "      <td>342464</td>\n",
              "      <td>273492</td>\n",
              "      <td>342650</td>\n",
              "      <td>358548</td>\n",
              "      <td>375989</td>\n",
              "      <td>370996</td>\n",
              "      <td>373704</td>\n",
              "      <td>251919</td>\n",
              "      <td>249986</td>\n",
              "      <td>267833</td>\n",
              "      <td>285840</td>\n",
              "      <td>330221</td>\n",
              "    </tr>\n",
              "    <tr>\n",
              "      <th>04</th>\n",
              "      <td>197412</td>\n",
              "      <td>142950</td>\n",
              "      <td>177415</td>\n",
              "      <td>196384</td>\n",
              "      <td>200605</td>\n",
              "      <td>177020</td>\n",
              "      <td>180119</td>\n",
              "      <td>117153</td>\n",
              "      <td>107909</td>\n",
              "      <td>159975</td>\n",
              "      <td>162808</td>\n",
              "      <td>179452</td>\n",
              "    </tr>\n",
              "  </tbody>\n",
              "</table>\n",
              "</div>"
            ],
            "text/plain": [
              "month       01       02       03       04  ...      09       10       11       12\n",
              "hour                                       ...                                   \n",
              "00     1095703  1073429  1398489  1254508  ...  965252  1024424  1004383  1244975\n",
              "01      810388   816068   912696   901987  ...  708515   738632   683999   835329\n",
              "02      529842   470947   594815   605800  ...  452554   468441   464699   575809\n",
              "03      342464   273492   342650   358548  ...  249986   267833   285840   330221\n",
              "04      197412   142950   177415   196384  ...  107909   159975   162808   179452\n",
              "\n",
              "[5 rows x 12 columns]"
            ]
          },
          "metadata": {
            "tags": []
          },
          "execution_count": 94
        }
      ]
    },
    {
      "cell_type": "code",
      "metadata": {
        "colab": {
          "base_uri": "https://localhost:8080/",
          "height": 313
        },
        "id": "fKhUI57eAls1",
        "outputId": "25a3f502-6f64-48f7-f9a8-01ad10ae7c96"
      },
      "source": [
        "pv_ta1_plot = pv_ta1.plot()\n",
        "pv_ta1_plot.set_title(\"month_(hour_amount)\")"
      ],
      "execution_count": 95,
      "outputs": [
        {
          "output_type": "execute_result",
          "data": {
            "text/plain": [
              "Text(0.5, 1.0, 'month_(hour_amount)')"
            ]
          },
          "metadata": {
            "tags": []
          },
          "execution_count": 95
        },
        {
          "output_type": "display_data",
          "data": {
            "image/png": "[encoded data removed]",
            "text/plain": [
              "<Figure size 432x288 with 1 Axes>"
            ]
          },
          "metadata": {
            "tags": [],
            "needs_background": "light"
          }
        }
      ]
    },
    {
      "cell_type": "markdown",
      "metadata": {
        "id": "pt9KQKnEpKCC"
      },
      "source": [
        "#### 5. 등급화."
      ]
    },
    {
      "cell_type": "markdown",
      "metadata": {
        "id": "zvaC54AnpKCC"
      },
      "source": [
        "5.1. store_id 별 Total 결제 금액에 의한 3 등급 분류."
      ]
    },
    {
      "cell_type": "code",
      "metadata": {
        "id": "bNE--9SupKCC"
      },
      "source": [
        "ser2c = pd.qcut(ser2b,3,labels=['Low', 'Medium', 'High'])                      # qcut() 함수 사용!"
      ],
      "execution_count": 76,
      "outputs": []
    },
    {
      "cell_type": "code",
      "metadata": {
        "id": "uHmsW5Vb8e3x"
      },
      "source": [
        "combo2 = pd.DataFrame({\"Store ID\":ser2b.index, \"Amount\":ser2b.values, \"Category\":ser2c.values}) # store_id 별 amount ser2b Category\n",
        "combo2.head(10)"
      ],
      "execution_count": null,
      "outputs": []
    },
    {
      "cell_type": "code",
      "metadata": {
        "id": "ubWIbLQfpKCD"
      },
      "source": [
        "# 등급별 평균.\n",
        "combo2.groupby(\"Category\")[\"Amount\"].mean()"
      ],
      "execution_count": null,
      "outputs": []
    },
    {
      "cell_type": "markdown",
      "metadata": {
        "id": "cIE3tQgKpKCD"
      },
      "source": [
        "5.2. card_id 별 Total 결제 금액에 의한 3 등급 분류."
      ]
    },
    {
      "cell_type": "code",
      "metadata": {
        "id": "YSNnY6wMpKCD"
      },
      "source": [
        "ser3c = pd.qcut(ser3b,3,labels=['Low', 'Medium', 'High'])\n",
        "combo3 = pd.DataFrame({\"Card ID\":ser3b.index,\"Amount\":ser3b.values, \"Category\":ser3c.values})\n",
        "combo3.head(10)"
      ],
      "execution_count": null,
      "outputs": []
    },
    {
      "cell_type": "code",
      "metadata": {
        "id": "1rbp3FZypKCD"
      },
      "source": [
        "# 등급별 평균.\n",
        "combo3.groupby(\"Category\")[\"Amount\"].mean()"
      ],
      "execution_count": null,
      "outputs": []
    },
    {
      "cell_type": "code",
      "metadata": {
        "id": "oW3hWcYFpKCD"
      },
      "source": [
        ""
      ],
      "execution_count": null,
      "outputs": []
    }
  ]
}