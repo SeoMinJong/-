{
  "nbformat": 4,
  "nbformat_minor": 2,
  "metadata": {
    "colab": {
      "name": "credit_my_ex.ipynb",
      "provenance": [],
      "collapsed_sections": [],
      "mount_file_id": "1o7qPiy5sGOWgY-S4UW9qdth92PM9G0J2",
      "authorship_tag": "ABX9TyO2d0H9nnnt5WNjjJkj2mjX",
      "include_colab_link": true
    },
    "kernelspec": {
      "name": "python3",
      "display_name": "Python 3"
    },
    "language_info": {
      "name": "python"
    },
    "accelerator": "GPU"
  },
  "cells": [
    {
      "cell_type": "markdown",
      "source": [
        "<a href=\"https://colab.research.google.com/github/SeoMinJong/1day-1study/blob/master/credit_my_ex.ipynb\" target=\"_parent\"><img src=\"https://colab.research.google.com/assets/colab-badge.svg\" alt=\"Open In Colab\"/></a>"
      ],
      "metadata": {
        "id": "view-in-github",
        "colab_type": "text"
      }
    },
    {
      "cell_type": "markdown",
      "source": [
        "# 데이터를 가져와서 기본적인 설정과 결측치 제거 및 column들 데이터 파악"
      ],
      "metadata": {
        "id": "sO2b9mKDID5O"
      }
    },
    {
      "cell_type": "code",
      "execution_count": 94,
      "source": [
        "import numpy as np\r\n",
        "import pandas as pd\r\n",
        "import matplotlib.pyplot as plt\r\n",
        "import seaborn as sns\r\n",
        "import warnings\r\n",
        "warnings.filterwarnings('ignore')\r\n",
        "%matplotlib inline"
      ],
      "outputs": [],
      "metadata": {
        "id": "9klhRzBvCwHx"
      }
    },
    {
      "cell_type": "code",
      "execution_count": 2,
      "source": [
        "pd.set_option(\"precision\",2) # precision 소숫점 자리수를 두 자리까지만 출력하는 pandas option"
      ],
      "outputs": [],
      "metadata": {
        "id": "qXUtoO_ZCw4w"
      }
    },
    {
      "cell_type": "code",
      "execution_count": 4,
      "source": [
        "df = pd.read_csv('C:/Users/SeoMinJong/github/1day1study/data_credit.csv')"
      ],
      "outputs": [],
      "metadata": {
        "id": "Stbk2n6ADNYY"
      }
    },
    {
      "cell_type": "code",
      "execution_count": 5,
      "source": [
        "df.head(3)"
      ],
      "outputs": [
        {
          "output_type": "execute_result",
          "data": {
            "text/plain": [
              "   store_id        date      time     card_id  amount  installments  \\\n",
              "0         0  2016-12-14  18:05:31  d297bba73f       5           NaN   \n",
              "1         0  2016-12-14  18:05:54  d297bba73f      -5           NaN   \n",
              "2         0  2016-12-19  12:42:31  0880849c05     144           NaN   \n",
              "\n",
              "   days_of_week  holyday  \n",
              "0             2        0  \n",
              "1             2        0  \n",
              "2             0        0  "
            ],
            "text/html": [
              "<div>\n",
              "<style scoped>\n",
              "    .dataframe tbody tr th:only-of-type {\n",
              "        vertical-align: middle;\n",
              "    }\n",
              "\n",
              "    .dataframe tbody tr th {\n",
              "        vertical-align: top;\n",
              "    }\n",
              "\n",
              "    .dataframe thead th {\n",
              "        text-align: right;\n",
              "    }\n",
              "</style>\n",
              "<table border=\"1\" class=\"dataframe\">\n",
              "  <thead>\n",
              "    <tr style=\"text-align: right;\">\n",
              "      <th></th>\n",
              "      <th>store_id</th>\n",
              "      <th>date</th>\n",
              "      <th>time</th>\n",
              "      <th>card_id</th>\n",
              "      <th>amount</th>\n",
              "      <th>installments</th>\n",
              "      <th>days_of_week</th>\n",
              "      <th>holyday</th>\n",
              "    </tr>\n",
              "  </thead>\n",
              "  <tbody>\n",
              "    <tr>\n",
              "      <th>0</th>\n",
              "      <td>0</td>\n",
              "      <td>2016-12-14</td>\n",
              "      <td>18:05:31</td>\n",
              "      <td>d297bba73f</td>\n",
              "      <td>5</td>\n",
              "      <td>NaN</td>\n",
              "      <td>2</td>\n",
              "      <td>0</td>\n",
              "    </tr>\n",
              "    <tr>\n",
              "      <th>1</th>\n",
              "      <td>0</td>\n",
              "      <td>2016-12-14</td>\n",
              "      <td>18:05:54</td>\n",
              "      <td>d297bba73f</td>\n",
              "      <td>-5</td>\n",
              "      <td>NaN</td>\n",
              "      <td>2</td>\n",
              "      <td>0</td>\n",
              "    </tr>\n",
              "    <tr>\n",
              "      <th>2</th>\n",
              "      <td>0</td>\n",
              "      <td>2016-12-19</td>\n",
              "      <td>12:42:31</td>\n",
              "      <td>0880849c05</td>\n",
              "      <td>144</td>\n",
              "      <td>NaN</td>\n",
              "      <td>0</td>\n",
              "      <td>0</td>\n",
              "    </tr>\n",
              "  </tbody>\n",
              "</table>\n",
              "</div>"
            ]
          },
          "metadata": {},
          "execution_count": 5
        }
      ],
      "metadata": {
        "colab": {
          "base_uri": "https://localhost:8080/",
          "height": 142
        },
        "id": "30clftfqDfxX",
        "outputId": "da4eb3ea-6421-4d60-c518-04c01b8f1ee8"
      }
    },
    {
      "cell_type": "code",
      "execution_count": 6,
      "source": [
        "df.info()"
      ],
      "outputs": [
        {
          "output_type": "stream",
          "name": "stdout",
          "text": [
            "<class 'pandas.core.frame.DataFrame'>\n",
            "RangeIndex: 3362796 entries, 0 to 3362795\n",
            "Data columns (total 8 columns):\n",
            " #   Column        Dtype  \n",
            "---  ------        -----  \n",
            " 0   store_id      int64  \n",
            " 1   date          object \n",
            " 2   time          object \n",
            " 3   card_id       object \n",
            " 4   amount        int64  \n",
            " 5   installments  float64\n",
            " 6   days_of_week  int64  \n",
            " 7   holyday       int64  \n",
            "dtypes: float64(1), int64(4), object(3)\n",
            "memory usage: 205.2+ MB\n"
          ]
        }
      ],
      "metadata": {
        "colab": {
          "base_uri": "https://localhost:8080/"
        },
        "id": "sWXLUQ0nEnan",
        "outputId": "b82a5ace-86f1-4acd-a8e7-71f162cef5b0"
      }
    },
    {
      "cell_type": "code",
      "execution_count": 7,
      "source": [
        "# 결측치가 있다. 결측치가 얼마나 있는지 파악해봐야 한다.\r\n",
        "null_df = df.isnull()\r\n",
        "null_df.sum()\r\n",
        "# 결측치 확인 결과 installments만 결측치가 있는 것으로 판별"
      ],
      "outputs": [
        {
          "output_type": "execute_result",
          "data": {
            "text/plain": [
              "store_id              0\n",
              "date                  0\n",
              "time                  0\n",
              "card_id               0\n",
              "amount                0\n",
              "installments    3345936\n",
              "days_of_week          0\n",
              "holyday               0\n",
              "dtype: int64"
            ]
          },
          "metadata": {},
          "execution_count": 7
        }
      ],
      "metadata": {
        "colab": {
          "base_uri": "https://localhost:8080/"
        },
        "id": "mk8OaGOyDnO-",
        "outputId": "81ed8011-2c96-46b1-dcc9-114528ac1d61"
      }
    },
    {
      "cell_type": "code",
      "execution_count": 8,
      "source": [
        "# null값을 제외한 다른 값들은 어떤 것이 있고 얼마나 있는지 확인할 수 있다.\r\n",
        "df.installments.value_counts()"
      ],
      "outputs": [
        {
          "output_type": "execute_result",
          "data": {
            "text/plain": [
              "3.0     10686\n",
              "2.0      3431\n",
              "5.0      1220\n",
              "6.0       647\n",
              "10.0      252\n",
              "4.0       209\n",
              "12.0      206\n",
              "24.0       96\n",
              "8.0        32\n",
              "7.0        28\n",
              "9.0        25\n",
              "18.0       11\n",
              "20.0        6\n",
              "36.0        5\n",
              "22.0        4\n",
              "15.0        2\n",
              "Name: installments, dtype: int64"
            ]
          },
          "metadata": {},
          "execution_count": 8
        }
      ],
      "metadata": {
        "colab": {
          "base_uri": "https://localhost:8080/"
        },
        "id": "50z3zlJJFDcX",
        "outputId": "8c02e78c-cb67-42db-bf23-0a5129a7597c"
      }
    },
    {
      "cell_type": "code",
      "execution_count": 9,
      "source": [
        "# df에서 null값을 fillna를 사용해서 결측치를 1로 대체해준다.\r\n",
        "# df에서 null값이 있는 colunm은 installments를 가져와서 그대로 installments에 넣어줘서 결측치를 제거해 줬다.\r\n",
        "# 그 후 installments의 개수를 알기 위해 value_counts를 사용해서 총 개수들을 알수있다.\r\n",
        "df.installments = df.installments.fillna(value=1)\r\n",
        "df.installments.value_counts()"
      ],
      "outputs": [
        {
          "output_type": "execute_result",
          "data": {
            "text/plain": [
              "1.0     3345936\n",
              "3.0       10686\n",
              "2.0        3431\n",
              "5.0        1220\n",
              "6.0         647\n",
              "10.0        252\n",
              "4.0         209\n",
              "12.0        206\n",
              "24.0         96\n",
              "8.0          32\n",
              "7.0          28\n",
              "9.0          25\n",
              "18.0         11\n",
              "20.0          6\n",
              "36.0          5\n",
              "22.0          4\n",
              "15.0          2\n",
              "Name: installments, dtype: int64"
            ]
          },
          "metadata": {},
          "execution_count": 9
        }
      ],
      "metadata": {
        "colab": {
          "base_uri": "https://localhost:8080/"
        },
        "id": "Jz6ZOewHFpju",
        "outputId": "233f317b-9f62-40c5-f3ec-cea615dd120b"
      }
    },
    {
      "cell_type": "code",
      "execution_count": 10,
      "source": [
        "# data와 time을 그대로 추출해서 쓰기 어렵기 때문에 data에서 month와 time에서 hour을 뽑아서 새로운 column을 만들어준다.\r\n",
        "df['month'] = df.date.apply( lambda x : x[5:7] ) # month에 대한 column을 만든다.\r\n",
        "df['hour'] = df.time.apply( lambda x : x[:2]) # hour에 대한 columns을 만든다."
      ],
      "outputs": [],
      "metadata": {
        "id": "6sdhgtYxIh41"
      }
    },
    {
      "cell_type": "code",
      "execution_count": 11,
      "source": [
        "df.head(5)"
      ],
      "outputs": [
        {
          "output_type": "execute_result",
          "data": {
            "text/plain": [
              "   store_id        date      time     card_id  amount  installments  \\\n",
              "0         0  2016-12-14  18:05:31  d297bba73f       5           1.0   \n",
              "1         0  2016-12-14  18:05:54  d297bba73f      -5           1.0   \n",
              "2         0  2016-12-19  12:42:31  0880849c05     144           1.0   \n",
              "3         0  2016-12-19  12:48:08  8b4f9e0e95      66           1.0   \n",
              "4         0  2016-12-19  13:31:08  7ad237eed0      24           1.0   \n",
              "\n",
              "   days_of_week  holyday month hour  \n",
              "0             2        0    12   18  \n",
              "1             2        0    12   18  \n",
              "2             0        0    12   12  \n",
              "3             0        0    12   12  \n",
              "4             0        0    12   13  "
            ],
            "text/html": [
              "<div>\n",
              "<style scoped>\n",
              "    .dataframe tbody tr th:only-of-type {\n",
              "        vertical-align: middle;\n",
              "    }\n",
              "\n",
              "    .dataframe tbody tr th {\n",
              "        vertical-align: top;\n",
              "    }\n",
              "\n",
              "    .dataframe thead th {\n",
              "        text-align: right;\n",
              "    }\n",
              "</style>\n",
              "<table border=\"1\" class=\"dataframe\">\n",
              "  <thead>\n",
              "    <tr style=\"text-align: right;\">\n",
              "      <th></th>\n",
              "      <th>store_id</th>\n",
              "      <th>date</th>\n",
              "      <th>time</th>\n",
              "      <th>card_id</th>\n",
              "      <th>amount</th>\n",
              "      <th>installments</th>\n",
              "      <th>days_of_week</th>\n",
              "      <th>holyday</th>\n",
              "      <th>month</th>\n",
              "      <th>hour</th>\n",
              "    </tr>\n",
              "  </thead>\n",
              "  <tbody>\n",
              "    <tr>\n",
              "      <th>0</th>\n",
              "      <td>0</td>\n",
              "      <td>2016-12-14</td>\n",
              "      <td>18:05:31</td>\n",
              "      <td>d297bba73f</td>\n",
              "      <td>5</td>\n",
              "      <td>1.0</td>\n",
              "      <td>2</td>\n",
              "      <td>0</td>\n",
              "      <td>12</td>\n",
              "      <td>18</td>\n",
              "    </tr>\n",
              "    <tr>\n",
              "      <th>1</th>\n",
              "      <td>0</td>\n",
              "      <td>2016-12-14</td>\n",
              "      <td>18:05:54</td>\n",
              "      <td>d297bba73f</td>\n",
              "      <td>-5</td>\n",
              "      <td>1.0</td>\n",
              "      <td>2</td>\n",
              "      <td>0</td>\n",
              "      <td>12</td>\n",
              "      <td>18</td>\n",
              "    </tr>\n",
              "    <tr>\n",
              "      <th>2</th>\n",
              "      <td>0</td>\n",
              "      <td>2016-12-19</td>\n",
              "      <td>12:42:31</td>\n",
              "      <td>0880849c05</td>\n",
              "      <td>144</td>\n",
              "      <td>1.0</td>\n",
              "      <td>0</td>\n",
              "      <td>0</td>\n",
              "      <td>12</td>\n",
              "      <td>12</td>\n",
              "    </tr>\n",
              "    <tr>\n",
              "      <th>3</th>\n",
              "      <td>0</td>\n",
              "      <td>2016-12-19</td>\n",
              "      <td>12:48:08</td>\n",
              "      <td>8b4f9e0e95</td>\n",
              "      <td>66</td>\n",
              "      <td>1.0</td>\n",
              "      <td>0</td>\n",
              "      <td>0</td>\n",
              "      <td>12</td>\n",
              "      <td>12</td>\n",
              "    </tr>\n",
              "    <tr>\n",
              "      <th>4</th>\n",
              "      <td>0</td>\n",
              "      <td>2016-12-19</td>\n",
              "      <td>13:31:08</td>\n",
              "      <td>7ad237eed0</td>\n",
              "      <td>24</td>\n",
              "      <td>1.0</td>\n",
              "      <td>0</td>\n",
              "      <td>0</td>\n",
              "      <td>12</td>\n",
              "      <td>13</td>\n",
              "    </tr>\n",
              "  </tbody>\n",
              "</table>\n",
              "</div>"
            ]
          },
          "metadata": {},
          "execution_count": 11
        }
      ],
      "metadata": {
        "colab": {
          "base_uri": "https://localhost:8080/",
          "height": 203
        },
        "id": "LU7q--qoKXIW",
        "outputId": "f6fbdfb5-918f-48b9-9c75-b4614ca698bf"
      }
    },
    {
      "cell_type": "code",
      "execution_count": 12,
      "source": [
        "# 필요한 month와 hour를 빼냈으니 필요없는 date와 time을 삭제해준다.\r\n",
        "df = df.drop(columns=['date','time'])"
      ],
      "outputs": [],
      "metadata": {
        "id": "L85QmZM4Ke4k"
      }
    },
    {
      "cell_type": "code",
      "execution_count": 13,
      "source": [
        "# 필요없는 데이터들을 삭제하고 나서 df를 확인해준다.\r\n",
        "df.head(3)"
      ],
      "outputs": [
        {
          "output_type": "execute_result",
          "data": {
            "text/plain": [
              "   store_id     card_id  amount  installments  days_of_week  holyday month  \\\n",
              "0         0  d297bba73f       5           1.0             2        0    12   \n",
              "1         0  d297bba73f      -5           1.0             2        0    12   \n",
              "2         0  0880849c05     144           1.0             0        0    12   \n",
              "\n",
              "  hour  \n",
              "0   18  \n",
              "1   18  \n",
              "2   12  "
            ],
            "text/html": [
              "<div>\n",
              "<style scoped>\n",
              "    .dataframe tbody tr th:only-of-type {\n",
              "        vertical-align: middle;\n",
              "    }\n",
              "\n",
              "    .dataframe tbody tr th {\n",
              "        vertical-align: top;\n",
              "    }\n",
              "\n",
              "    .dataframe thead th {\n",
              "        text-align: right;\n",
              "    }\n",
              "</style>\n",
              "<table border=\"1\" class=\"dataframe\">\n",
              "  <thead>\n",
              "    <tr style=\"text-align: right;\">\n",
              "      <th></th>\n",
              "      <th>store_id</th>\n",
              "      <th>card_id</th>\n",
              "      <th>amount</th>\n",
              "      <th>installments</th>\n",
              "      <th>days_of_week</th>\n",
              "      <th>holyday</th>\n",
              "      <th>month</th>\n",
              "      <th>hour</th>\n",
              "    </tr>\n",
              "  </thead>\n",
              "  <tbody>\n",
              "    <tr>\n",
              "      <th>0</th>\n",
              "      <td>0</td>\n",
              "      <td>d297bba73f</td>\n",
              "      <td>5</td>\n",
              "      <td>1.0</td>\n",
              "      <td>2</td>\n",
              "      <td>0</td>\n",
              "      <td>12</td>\n",
              "      <td>18</td>\n",
              "    </tr>\n",
              "    <tr>\n",
              "      <th>1</th>\n",
              "      <td>0</td>\n",
              "      <td>d297bba73f</td>\n",
              "      <td>-5</td>\n",
              "      <td>1.0</td>\n",
              "      <td>2</td>\n",
              "      <td>0</td>\n",
              "      <td>12</td>\n",
              "      <td>18</td>\n",
              "    </tr>\n",
              "    <tr>\n",
              "      <th>2</th>\n",
              "      <td>0</td>\n",
              "      <td>0880849c05</td>\n",
              "      <td>144</td>\n",
              "      <td>1.0</td>\n",
              "      <td>0</td>\n",
              "      <td>0</td>\n",
              "      <td>12</td>\n",
              "      <td>12</td>\n",
              "    </tr>\n",
              "  </tbody>\n",
              "</table>\n",
              "</div>"
            ]
          },
          "metadata": {},
          "execution_count": 13
        }
      ],
      "metadata": {
        "colab": {
          "base_uri": "https://localhost:8080/",
          "height": 142
        },
        "id": "rWVKtrsrK-59",
        "outputId": "296a8923-b804-461f-bbc4-fa8337ea83d2"
      }
    },
    {
      "cell_type": "markdown",
      "source": [
        "# 완성된 df를 분석 시작"
      ],
      "metadata": {
        "id": "HRUBm0LlHwhU"
      }
    },
    {
      "cell_type": "code",
      "execution_count": 14,
      "source": [
        "df.head(3)"
      ],
      "outputs": [
        {
          "output_type": "execute_result",
          "data": {
            "text/plain": [
              "   store_id     card_id  amount  installments  days_of_week  holyday month  \\\n",
              "0         0  d297bba73f       5           1.0             2        0    12   \n",
              "1         0  d297bba73f      -5           1.0             2        0    12   \n",
              "2         0  0880849c05     144           1.0             0        0    12   \n",
              "\n",
              "  hour  \n",
              "0   18  \n",
              "1   18  \n",
              "2   12  "
            ],
            "text/html": [
              "<div>\n",
              "<style scoped>\n",
              "    .dataframe tbody tr th:only-of-type {\n",
              "        vertical-align: middle;\n",
              "    }\n",
              "\n",
              "    .dataframe tbody tr th {\n",
              "        vertical-align: top;\n",
              "    }\n",
              "\n",
              "    .dataframe thead th {\n",
              "        text-align: right;\n",
              "    }\n",
              "</style>\n",
              "<table border=\"1\" class=\"dataframe\">\n",
              "  <thead>\n",
              "    <tr style=\"text-align: right;\">\n",
              "      <th></th>\n",
              "      <th>store_id</th>\n",
              "      <th>card_id</th>\n",
              "      <th>amount</th>\n",
              "      <th>installments</th>\n",
              "      <th>days_of_week</th>\n",
              "      <th>holyday</th>\n",
              "      <th>month</th>\n",
              "      <th>hour</th>\n",
              "    </tr>\n",
              "  </thead>\n",
              "  <tbody>\n",
              "    <tr>\n",
              "      <th>0</th>\n",
              "      <td>0</td>\n",
              "      <td>d297bba73f</td>\n",
              "      <td>5</td>\n",
              "      <td>1.0</td>\n",
              "      <td>2</td>\n",
              "      <td>0</td>\n",
              "      <td>12</td>\n",
              "      <td>18</td>\n",
              "    </tr>\n",
              "    <tr>\n",
              "      <th>1</th>\n",
              "      <td>0</td>\n",
              "      <td>d297bba73f</td>\n",
              "      <td>-5</td>\n",
              "      <td>1.0</td>\n",
              "      <td>2</td>\n",
              "      <td>0</td>\n",
              "      <td>12</td>\n",
              "      <td>18</td>\n",
              "    </tr>\n",
              "    <tr>\n",
              "      <th>2</th>\n",
              "      <td>0</td>\n",
              "      <td>0880849c05</td>\n",
              "      <td>144</td>\n",
              "      <td>1.0</td>\n",
              "      <td>0</td>\n",
              "      <td>0</td>\n",
              "      <td>12</td>\n",
              "      <td>12</td>\n",
              "    </tr>\n",
              "  </tbody>\n",
              "</table>\n",
              "</div>"
            ]
          },
          "metadata": {},
          "execution_count": 14
        }
      ],
      "metadata": {
        "colab": {
          "base_uri": "https://localhost:8080/",
          "height": 142
        },
        "id": "B72bvhd2HdI-",
        "outputId": "87b71e51-0d95-4082-e9ff-c19a75760cc9"
      }
    },
    {
      "cell_type": "code",
      "execution_count": 15,
      "source": [
        "fred1 = df['store_id'].value_counts() # 가장 거래 내역이 많은 store\r\n",
        "fred1"
      ],
      "outputs": [
        {
          "output_type": "execute_result",
          "data": {
            "text/plain": [
              "0       68773\n",
              "753     39318\n",
              "105     36063\n",
              "1342    33335\n",
              "428     33285\n",
              "        ...  \n",
              "1605        1\n",
              "991         1\n",
              "1263        1\n",
              "1530        1\n",
              "632         1\n",
              "Name: store_id, Length: 1775, dtype: int64"
            ]
          },
          "metadata": {},
          "execution_count": 15
        }
      ],
      "metadata": {
        "colab": {
          "base_uri": "https://localhost:8080/"
        },
        "id": "CsPVr9WPIYl-",
        "outputId": "2afac56f-f9a3-4506-99a4-d32d8863855a"
      }
    },
    {
      "cell_type": "code",
      "execution_count": 16,
      "source": [
        "# store의 이용빈도를 hist그래프로 빈도수를 파악한다. \r\n",
        "\r\n",
        "fred1.hist(bins=30, color='green', alpha=0.5)\r\n",
        "plt.show()"
      ],
      "outputs": [
        {
          "output_type": "display_data",
          "data": {
            "text/plain": [
              "<Figure size 432x288 with 1 Axes>"
            ],
            "image/png": "[encoded data removed]"
          },
          "metadata": {
            "needs_background": "light"
          }
        }
      ],
      "metadata": {
        "colab": {
          "base_uri": "https://localhost:8080/",
          "height": 265
        },
        "id": "YAPvLpAKj1JP",
        "outputId": "3e986fb0-783c-4c74-c483-6678287494d1"
      }
    },
    {
      "cell_type": "code",
      "execution_count": 17,
      "source": [
        "# 값이 너무 치우쳐져 있기때문에 log를 사용해서 값들을 비율적으로 낮춰줬다.\r\n",
        "\r\n",
        "fred1_log = np.log(fred1)\r\n",
        "fred1_log.hist(bins = 20, color='green', alpha=0.5)\r\n",
        "plt.show()"
      ],
      "outputs": [
        {
          "output_type": "display_data",
          "data": {
            "text/plain": [
              "<Figure size 432x288 with 1 Axes>"
            ],
            "image/png": "[encoded data removed]"
          },
          "metadata": {
            "needs_background": "light"
          }
        }
      ],
      "metadata": {
        "colab": {
          "base_uri": "https://localhost:8080/",
          "height": 265
        },
        "id": "GNx5DNbRkSS4",
        "outputId": "a61cabd2-0b66-4cf3-9bea-92f6e7aff2d9"
      }
    },
    {
      "cell_type": "code",
      "execution_count": 18,
      "source": [
        "# 값들의 대략적인 수치 정보 파악\r\n",
        "# 가게의 평균 판매 개수는 1894개이다.\r\n",
        "fred1.describe()"
      ],
      "outputs": [
        {
          "output_type": "execute_result",
          "data": {
            "text/plain": [
              "count     1775.00\n",
              "mean      1894.53\n",
              "std       4056.02\n",
              "min          1.00\n",
              "25%        102.50\n",
              "50%        492.00\n",
              "75%       1940.00\n",
              "max      68773.00\n",
              "Name: store_id, dtype: float64"
            ]
          },
          "metadata": {},
          "execution_count": 18
        }
      ],
      "metadata": {
        "colab": {
          "base_uri": "https://localhost:8080/"
        },
        "id": "_ZZMqWOnoWhe",
        "outputId": "8f381351-efdc-4ec8-c7cb-0f887b06f1f4"
      }
    },
    {
      "cell_type": "code",
      "execution_count": 19,
      "source": [
        "# 가장 손님이 많았던 가게 10군데의 id\r\n",
        "\r\n",
        "fred1.sort_values(ascending=False)"
      ],
      "outputs": [
        {
          "output_type": "execute_result",
          "data": {
            "text/plain": [
              "0       68773\n",
              "753     39318\n",
              "105     36063\n",
              "1342    33335\n",
              "428     33285\n",
              "        ...  \n",
              "608         1\n",
              "201         1\n",
              "951         1\n",
              "727         1\n",
              "632         1\n",
              "Name: store_id, Length: 1775, dtype: int64"
            ]
          },
          "metadata": {},
          "execution_count": 19
        }
      ],
      "metadata": {
        "colab": {
          "base_uri": "https://localhost:8080/"
        },
        "id": "IYsXOMPSpnIf",
        "outputId": "1b75b94c-9a76-43f0-b1d8-7dd218f49a01"
      }
    },
    {
      "cell_type": "code",
      "execution_count": 20,
      "source": [
        "df.head(4)"
      ],
      "outputs": [
        {
          "output_type": "execute_result",
          "data": {
            "text/plain": [
              "   store_id     card_id  amount  installments  days_of_week  holyday month  \\\n",
              "0         0  d297bba73f       5           1.0             2        0    12   \n",
              "1         0  d297bba73f      -5           1.0             2        0    12   \n",
              "2         0  0880849c05     144           1.0             0        0    12   \n",
              "3         0  8b4f9e0e95      66           1.0             0        0    12   \n",
              "\n",
              "  hour  \n",
              "0   18  \n",
              "1   18  \n",
              "2   12  \n",
              "3   12  "
            ],
            "text/html": [
              "<div>\n",
              "<style scoped>\n",
              "    .dataframe tbody tr th:only-of-type {\n",
              "        vertical-align: middle;\n",
              "    }\n",
              "\n",
              "    .dataframe tbody tr th {\n",
              "        vertical-align: top;\n",
              "    }\n",
              "\n",
              "    .dataframe thead th {\n",
              "        text-align: right;\n",
              "    }\n",
              "</style>\n",
              "<table border=\"1\" class=\"dataframe\">\n",
              "  <thead>\n",
              "    <tr style=\"text-align: right;\">\n",
              "      <th></th>\n",
              "      <th>store_id</th>\n",
              "      <th>card_id</th>\n",
              "      <th>amount</th>\n",
              "      <th>installments</th>\n",
              "      <th>days_of_week</th>\n",
              "      <th>holyday</th>\n",
              "      <th>month</th>\n",
              "      <th>hour</th>\n",
              "    </tr>\n",
              "  </thead>\n",
              "  <tbody>\n",
              "    <tr>\n",
              "      <th>0</th>\n",
              "      <td>0</td>\n",
              "      <td>d297bba73f</td>\n",
              "      <td>5</td>\n",
              "      <td>1.0</td>\n",
              "      <td>2</td>\n",
              "      <td>0</td>\n",
              "      <td>12</td>\n",
              "      <td>18</td>\n",
              "    </tr>\n",
              "    <tr>\n",
              "      <th>1</th>\n",
              "      <td>0</td>\n",
              "      <td>d297bba73f</td>\n",
              "      <td>-5</td>\n",
              "      <td>1.0</td>\n",
              "      <td>2</td>\n",
              "      <td>0</td>\n",
              "      <td>12</td>\n",
              "      <td>18</td>\n",
              "    </tr>\n",
              "    <tr>\n",
              "      <th>2</th>\n",
              "      <td>0</td>\n",
              "      <td>0880849c05</td>\n",
              "      <td>144</td>\n",
              "      <td>1.0</td>\n",
              "      <td>0</td>\n",
              "      <td>0</td>\n",
              "      <td>12</td>\n",
              "      <td>12</td>\n",
              "    </tr>\n",
              "    <tr>\n",
              "      <th>3</th>\n",
              "      <td>0</td>\n",
              "      <td>8b4f9e0e95</td>\n",
              "      <td>66</td>\n",
              "      <td>1.0</td>\n",
              "      <td>0</td>\n",
              "      <td>0</td>\n",
              "      <td>12</td>\n",
              "      <td>12</td>\n",
              "    </tr>\n",
              "  </tbody>\n",
              "</table>\n",
              "</div>"
            ]
          },
          "metadata": {},
          "execution_count": 20
        }
      ],
      "metadata": {
        "colab": {
          "base_uri": "https://localhost:8080/",
          "height": 172
        },
        "id": "syVeY7sfozsp",
        "outputId": "2465cf01-cd9c-4a76-d4b5-1b3caabd6726"
      }
    },
    {
      "cell_type": "code",
      "execution_count": 21,
      "source": [
        "# 총 922522 명의 카드가 인식되었다.\r\n",
        "df['card_id'].nunique()"
      ],
      "outputs": [
        {
          "output_type": "execute_result",
          "data": {
            "text/plain": [
              "922522"
            ]
          },
          "metadata": {},
          "execution_count": 21
        }
      ],
      "metadata": {
        "colab": {
          "base_uri": "https://localhost:8080/"
        },
        "id": "6ggbHbbKpWU9",
        "outputId": "7a0d9b4d-e09a-4655-8e3c-58907b07e013"
      }
    },
    {
      "cell_type": "code",
      "execution_count": 22,
      "source": [
        "# df에 card_id의 빈도수를 파악하는데 top10을 매겨본다\r\n",
        "\r\n",
        "fred2 = df['card_id'].value_counts()\r\n",
        "fred2[:10]"
      ],
      "outputs": [
        {
          "output_type": "execute_result",
          "data": {
            "text/plain": [
              "53817035d4    835\n",
              "93bba5079c    512\n",
              "994b71a98a    458\n",
              "18549044f3    453\n",
              "6b2d18c5c5    433\n",
              "10a5c30cda    425\n",
              "06e61d93b8    423\n",
              "5cf0b23473    413\n",
              "0177959e09    409\n",
              "a9a1e3d97d    405\n",
              "Name: card_id, dtype: int64"
            ]
          },
          "metadata": {},
          "execution_count": 22
        }
      ],
      "metadata": {
        "colab": {
          "base_uri": "https://localhost:8080/"
        },
        "id": "imGJUiK_pgzd",
        "outputId": "8bad80de-9c75-4a12-f98a-0675541a611d"
      }
    },
    {
      "cell_type": "code",
      "execution_count": 23,
      "source": [
        "# card_id의 count로 describe를 사용해 대략적인 계산 값을 얻었다.\r\n",
        "fred2.describe()"
      ],
      "outputs": [
        {
          "output_type": "execute_result",
          "data": {
            "text/plain": [
              "count    922522.00\n",
              "mean          3.65\n",
              "std           6.93\n",
              "min           1.00\n",
              "25%           1.00\n",
              "50%           2.00\n",
              "75%           4.00\n",
              "max         835.00\n",
              "Name: card_id, dtype: float64"
            ]
          },
          "metadata": {},
          "execution_count": 23
        }
      ],
      "metadata": {
        "colab": {
          "base_uri": "https://localhost:8080/"
        },
        "id": "snh20zJssPP9",
        "outputId": "bf9319be-d170-457e-8917-eab8985259c6"
      }
    },
    {
      "cell_type": "code",
      "execution_count": 24,
      "source": [
        "# card_id의 빈도수중에 max값이 특출나기 때문에 확인\r\n",
        "# card_id의 빈도수중 가장 많은 빈도로 사용한 이용자는 소량구매를 많이 하고 있다.\r\n",
        "\r\n",
        "card_bin_max = df['card_id'] == '53817035d4'\r\n",
        "card_bin_max = df[card_bin_max]\r\n",
        "card_bin_max.sort_values('amount', ascending=False)"
      ],
      "outputs": [
        {
          "output_type": "execute_result",
          "data": {
            "text/plain": [
              "         store_id     card_id  amount  installments  days_of_week  holyday  \\\n",
              "2941611      1551  53817035d4      58           1.0             3        0   \n",
              "2941796      1551  53817035d4      55           1.0             2        0   \n",
              "2941593      1551  53817035d4      55           1.0             2        0   \n",
              "2941012      1551  53817035d4      52           1.0             3        0   \n",
              "2942301      1551  53817035d4      42           1.0             1        0   \n",
              "...           ...         ...     ...           ...           ...      ...   \n",
              "2946693      1551  53817035d4       4           1.0             2        0   \n",
              "2946742      1551  53817035d4       4           1.0             3        0   \n",
              "2946957      1551  53817035d4       3           1.0             6        0   \n",
              "2947305      1551  53817035d4      -7           1.0             6        0   \n",
              "2944163      1551  53817035d4     -25           1.0             1        0   \n",
              "\n",
              "        month hour  \n",
              "2941611    09   20  \n",
              "2941796    09   20  \n",
              "2941593    09   19  \n",
              "2941012    08   20  \n",
              "2942301    10   19  \n",
              "...       ...  ...  \n",
              "2946693    05   08  \n",
              "2946742    05   12  \n",
              "2946957    05   13  \n",
              "2947305    06   18  \n",
              "2944163    01   20  \n",
              "\n",
              "[835 rows x 8 columns]"
            ],
            "text/html": [
              "<div>\n",
              "<style scoped>\n",
              "    .dataframe tbody tr th:only-of-type {\n",
              "        vertical-align: middle;\n",
              "    }\n",
              "\n",
              "    .dataframe tbody tr th {\n",
              "        vertical-align: top;\n",
              "    }\n",
              "\n",
              "    .dataframe thead th {\n",
              "        text-align: right;\n",
              "    }\n",
              "</style>\n",
              "<table border=\"1\" class=\"dataframe\">\n",
              "  <thead>\n",
              "    <tr style=\"text-align: right;\">\n",
              "      <th></th>\n",
              "      <th>store_id</th>\n",
              "      <th>card_id</th>\n",
              "      <th>amount</th>\n",
              "      <th>installments</th>\n",
              "      <th>days_of_week</th>\n",
              "      <th>holyday</th>\n",
              "      <th>month</th>\n",
              "      <th>hour</th>\n",
              "    </tr>\n",
              "  </thead>\n",
              "  <tbody>\n",
              "    <tr>\n",
              "      <th>2941611</th>\n",
              "      <td>1551</td>\n",
              "      <td>53817035d4</td>\n",
              "      <td>58</td>\n",
              "      <td>1.0</td>\n",
              "      <td>3</td>\n",
              "      <td>0</td>\n",
              "      <td>09</td>\n",
              "      <td>20</td>\n",
              "    </tr>\n",
              "    <tr>\n",
              "      <th>2941796</th>\n",
              "      <td>1551</td>\n",
              "      <td>53817035d4</td>\n",
              "      <td>55</td>\n",
              "      <td>1.0</td>\n",
              "      <td>2</td>\n",
              "      <td>0</td>\n",
              "      <td>09</td>\n",
              "      <td>20</td>\n",
              "    </tr>\n",
              "    <tr>\n",
              "      <th>2941593</th>\n",
              "      <td>1551</td>\n",
              "      <td>53817035d4</td>\n",
              "      <td>55</td>\n",
              "      <td>1.0</td>\n",
              "      <td>2</td>\n",
              "      <td>0</td>\n",
              "      <td>09</td>\n",
              "      <td>19</td>\n",
              "    </tr>\n",
              "    <tr>\n",
              "      <th>2941012</th>\n",
              "      <td>1551</td>\n",
              "      <td>53817035d4</td>\n",
              "      <td>52</td>\n",
              "      <td>1.0</td>\n",
              "      <td>3</td>\n",
              "      <td>0</td>\n",
              "      <td>08</td>\n",
              "      <td>20</td>\n",
              "    </tr>\n",
              "    <tr>\n",
              "      <th>2942301</th>\n",
              "      <td>1551</td>\n",
              "      <td>53817035d4</td>\n",
              "      <td>42</td>\n",
              "      <td>1.0</td>\n",
              "      <td>1</td>\n",
              "      <td>0</td>\n",
              "      <td>10</td>\n",
              "      <td>19</td>\n",
              "    </tr>\n",
              "    <tr>\n",
              "      <th>...</th>\n",
              "      <td>...</td>\n",
              "      <td>...</td>\n",
              "      <td>...</td>\n",
              "      <td>...</td>\n",
              "      <td>...</td>\n",
              "      <td>...</td>\n",
              "      <td>...</td>\n",
              "      <td>...</td>\n",
              "    </tr>\n",
              "    <tr>\n",
              "      <th>2946693</th>\n",
              "      <td>1551</td>\n",
              "      <td>53817035d4</td>\n",
              "      <td>4</td>\n",
              "      <td>1.0</td>\n",
              "      <td>2</td>\n",
              "      <td>0</td>\n",
              "      <td>05</td>\n",
              "      <td>08</td>\n",
              "    </tr>\n",
              "    <tr>\n",
              "      <th>2946742</th>\n",
              "      <td>1551</td>\n",
              "      <td>53817035d4</td>\n",
              "      <td>4</td>\n",
              "      <td>1.0</td>\n",
              "      <td>3</td>\n",
              "      <td>0</td>\n",
              "      <td>05</td>\n",
              "      <td>12</td>\n",
              "    </tr>\n",
              "    <tr>\n",
              "      <th>2946957</th>\n",
              "      <td>1551</td>\n",
              "      <td>53817035d4</td>\n",
              "      <td>3</td>\n",
              "      <td>1.0</td>\n",
              "      <td>6</td>\n",
              "      <td>0</td>\n",
              "      <td>05</td>\n",
              "      <td>13</td>\n",
              "    </tr>\n",
              "    <tr>\n",
              "      <th>2947305</th>\n",
              "      <td>1551</td>\n",
              "      <td>53817035d4</td>\n",
              "      <td>-7</td>\n",
              "      <td>1.0</td>\n",
              "      <td>6</td>\n",
              "      <td>0</td>\n",
              "      <td>06</td>\n",
              "      <td>18</td>\n",
              "    </tr>\n",
              "    <tr>\n",
              "      <th>2944163</th>\n",
              "      <td>1551</td>\n",
              "      <td>53817035d4</td>\n",
              "      <td>-25</td>\n",
              "      <td>1.0</td>\n",
              "      <td>1</td>\n",
              "      <td>0</td>\n",
              "      <td>01</td>\n",
              "      <td>20</td>\n",
              "    </tr>\n",
              "  </tbody>\n",
              "</table>\n",
              "<p>835 rows × 8 columns</p>\n",
              "</div>"
            ]
          },
          "metadata": {},
          "execution_count": 24
        }
      ],
      "metadata": {
        "colab": {
          "base_uri": "https://localhost:8080/",
          "height": 417
        },
        "id": "24P5vaVqs07t",
        "outputId": "7e7f6f95-3a22-4db2-8930-a9472809ddc3"
      }
    },
    {
      "cell_type": "code",
      "execution_count": 25,
      "source": [
        "# 폭이 매우 커서 이 상태로는 볼 수 있는 것이 없다.\r\n",
        "df.amount.hist(bins=50, alpha = 0.6)"
      ],
      "outputs": [
        {
          "output_type": "execute_result",
          "data": {
            "text/plain": [
              "<AxesSubplot:>"
            ]
          },
          "metadata": {},
          "execution_count": 25
        },
        {
          "output_type": "display_data",
          "data": {
            "text/plain": [
              "<Figure size 432x288 with 1 Axes>"
            ],
            "image/png": "[encoded data removed]"
          },
          "metadata": {
            "needs_background": "light"
          }
        }
      ],
      "metadata": {
        "colab": {
          "base_uri": "https://localhost:8080/",
          "height": 294
        },
        "id": "NhZG0Txot7Tv",
        "outputId": "0560c247-c71f-4cf1-ccb7-31f357f30e26"
      }
    },
    {
      "cell_type": "code",
      "execution_count": 26,
      "source": [
        "# df.amount > 0로 식을 주면 0과 1의 값으로 반환해서 값을 넣어주기 때문에 이를 활용하여 실제로 구매를 한 비율이 얼마인지 찾을 수 있다.\r\n",
        "\r\n",
        "ser = df.amount > 0\r\n",
        "np.round(ser.mean(),4)"
      ],
      "outputs": [
        {
          "output_type": "execute_result",
          "data": {
            "text/plain": [
              "0.9896"
            ]
          },
          "metadata": {},
          "execution_count": 26
        }
      ],
      "metadata": {
        "colab": {
          "base_uri": "https://localhost:8080/"
        },
        "id": "l1yCzyVCvef7",
        "outputId": "4efd1a0e-afc8-4b0d-cb80-3d5c34e4ef50"
      }
    },
    {
      "cell_type": "code",
      "execution_count": 27,
      "source": [
        "df.loc[df.amount.argmax()]"
      ],
      "outputs": [
        {
          "output_type": "execute_result",
          "data": {
            "text/plain": [
              "store_id               370\n",
              "card_id         1c492f54f0\n",
              "amount              250000\n",
              "installments           3.0\n",
              "days_of_week             0\n",
              "holyday                  0\n",
              "month                   01\n",
              "hour                    12\n",
              "Name: 929470, dtype: object"
            ]
          },
          "metadata": {},
          "execution_count": 27
        }
      ],
      "metadata": {
        "colab": {
          "base_uri": "https://localhost:8080/"
        },
        "id": "1P-WtmuwwmDx",
        "outputId": "57d8441e-3b0d-41a9-e557-644af974dc17"
      }
    },
    {
      "cell_type": "code",
      "execution_count": 28,
      "source": [
        "max_amount_stroe_id = df['store_id'] == 370\r\n",
        "max_amount_stroe_id = df.loc[max_amount_stroe_id]"
      ],
      "outputs": [],
      "metadata": {
        "colab": {
          "base_uri": "https://localhost:8080/",
          "height": 417
        },
        "id": "azzk_eOQyVAa",
        "outputId": "8d5e2354-90e5-4a11-e23a-e7ea630bca1e"
      }
    },
    {
      "cell_type": "code",
      "execution_count": 29,
      "source": [
        "# 가장 비싼 매출을 낸 가게의 매출개수는 196건이다.\r\n",
        "max_amount_stroe_id.value_counts('store_id')"
      ],
      "outputs": [
        {
          "output_type": "execute_result",
          "data": {
            "text/plain": [
              "store_id\n",
              "370    196\n",
              "dtype: int64"
            ]
          },
          "metadata": {},
          "execution_count": 29
        }
      ],
      "metadata": {
        "colab": {
          "base_uri": "https://localhost:8080/"
        },
        "id": "TAwob98-0HTa",
        "outputId": "c27b5d5d-29b1-47a2-be06-d626ed6b5741"
      }
    },
    {
      "cell_type": "code",
      "execution_count": 30,
      "source": [
        "# 환불의 비율이 몇개인지 알아보자\r\n",
        "max_store_return = max_amount_stroe_id['amount'] < 0\r\n",
        "round(max_store_return.mean(),4)\r\n",
        "\r\n",
        "# 환불의 비율이 35%나 되기 때문에 이 가게에 주시해야할 필요가 있다."
      ],
      "outputs": [
        {
          "output_type": "execute_result",
          "data": {
            "text/plain": [
              "0.352"
            ]
          },
          "metadata": {},
          "execution_count": 30
        }
      ],
      "metadata": {
        "colab": {
          "base_uri": "https://localhost:8080/"
        },
        "id": "Cv0xSCw80zSj",
        "outputId": "692f8f90-7020-49d5-b1e4-cb16d4e68055"
      }
    },
    {
      "cell_type": "code",
      "execution_count": 31,
      "source": [
        "# 가장 높은 금액을 한번에 지불한 카드id를 집중 탐색\r\n",
        "amount_max_card_id = (df.iloc[df.amount.argmax()])['card_id']"
      ],
      "outputs": [],
      "metadata": {
        "id": "4kMzT9FKvtna"
      }
    },
    {
      "cell_type": "code",
      "execution_count": 32,
      "source": [
        "# 가장 높은 금액을 지불한 사람의 거래 내역\r\n",
        "# 거래 내역을 보니 한번에 많은 금액을 지불하고 환불 받은 것 외에는 거래 내역이 없다.\r\n",
        "# 이상치\r\n",
        "\r\n",
        "amount_max_custmor = df.card_id == amount_max_card_id\r\n",
        "amount_max_custmor = df[amount_max_custmor]\r\n",
        "amount_max_custmor"
      ],
      "outputs": [
        {
          "output_type": "execute_result",
          "data": {
            "text/plain": [
              "        store_id     card_id  amount  installments  days_of_week  holyday  \\\n",
              "929470       370  1c492f54f0  250000           3.0             0        0   \n",
              "929473       370  1c492f54f0 -250000           3.0             0        0   \n",
              "\n",
              "       month hour  \n",
              "929470    01   12  \n",
              "929473    03   19  "
            ],
            "text/html": [
              "<div>\n",
              "<style scoped>\n",
              "    .dataframe tbody tr th:only-of-type {\n",
              "        vertical-align: middle;\n",
              "    }\n",
              "\n",
              "    .dataframe tbody tr th {\n",
              "        vertical-align: top;\n",
              "    }\n",
              "\n",
              "    .dataframe thead th {\n",
              "        text-align: right;\n",
              "    }\n",
              "</style>\n",
              "<table border=\"1\" class=\"dataframe\">\n",
              "  <thead>\n",
              "    <tr style=\"text-align: right;\">\n",
              "      <th></th>\n",
              "      <th>store_id</th>\n",
              "      <th>card_id</th>\n",
              "      <th>amount</th>\n",
              "      <th>installments</th>\n",
              "      <th>days_of_week</th>\n",
              "      <th>holyday</th>\n",
              "      <th>month</th>\n",
              "      <th>hour</th>\n",
              "    </tr>\n",
              "  </thead>\n",
              "  <tbody>\n",
              "    <tr>\n",
              "      <th>929470</th>\n",
              "      <td>370</td>\n",
              "      <td>1c492f54f0</td>\n",
              "      <td>250000</td>\n",
              "      <td>3.0</td>\n",
              "      <td>0</td>\n",
              "      <td>0</td>\n",
              "      <td>01</td>\n",
              "      <td>12</td>\n",
              "    </tr>\n",
              "    <tr>\n",
              "      <th>929473</th>\n",
              "      <td>370</td>\n",
              "      <td>1c492f54f0</td>\n",
              "      <td>-250000</td>\n",
              "      <td>3.0</td>\n",
              "      <td>0</td>\n",
              "      <td>0</td>\n",
              "      <td>03</td>\n",
              "      <td>19</td>\n",
              "    </tr>\n",
              "  </tbody>\n",
              "</table>\n",
              "</div>"
            ]
          },
          "metadata": {},
          "execution_count": 32
        }
      ],
      "metadata": {
        "colab": {
          "base_uri": "https://localhost:8080/",
          "height": 110
        },
        "id": "txY0VPHRwZ6Y",
        "outputId": "e6c47603-2259-4c33-a578-a1019cb0fef1"
      }
    },
    {
      "cell_type": "code",
      "execution_count": 33,
      "source": [
        "# installments(할부개월)을 개월수별로 몇건이나 있는지 파악\r\n",
        "fred3 = df['installments'].value_counts()\r\n",
        "fred3"
      ],
      "outputs": [
        {
          "output_type": "execute_result",
          "data": {
            "text/plain": [
              "1.0     3345936\n",
              "3.0       10686\n",
              "2.0        3431\n",
              "5.0        1220\n",
              "6.0         647\n",
              "10.0        252\n",
              "4.0         209\n",
              "12.0        206\n",
              "24.0         96\n",
              "8.0          32\n",
              "7.0          28\n",
              "9.0          25\n",
              "18.0         11\n",
              "20.0          6\n",
              "36.0          5\n",
              "22.0          4\n",
              "15.0          2\n",
              "Name: installments, dtype: int64"
            ]
          },
          "metadata": {},
          "execution_count": 33
        }
      ],
      "metadata": {
        "colab": {
          "base_uri": "https://localhost:8080/"
        },
        "id": "iK2WpnCe1Xvi",
        "outputId": "7e20de6f-02f3-4bdf-efb8-7b5d464156d1"
      }
    },
    {
      "cell_type": "code",
      "execution_count": 34,
      "source": [
        "    # 다시 sort_values를 써서 fred3를 재배열해준다.\r\n",
        "    fred3.sort_values(ascending=False)"
      ],
      "outputs": [
        {
          "output_type": "execute_result",
          "data": {
            "text/plain": [
              "1.0     3345936\n",
              "3.0       10686\n",
              "2.0        3431\n",
              "5.0        1220\n",
              "6.0         647\n",
              "10.0        252\n",
              "4.0         209\n",
              "12.0        206\n",
              "24.0         96\n",
              "8.0          32\n",
              "7.0          28\n",
              "9.0          25\n",
              "18.0         11\n",
              "20.0          6\n",
              "36.0          5\n",
              "22.0          4\n",
              "15.0          2\n",
              "Name: installments, dtype: int64"
            ]
          },
          "metadata": {},
          "execution_count": 34
        }
      ],
      "metadata": {
        "colab": {
          "base_uri": "https://localhost:8080/"
        },
        "id": "YAyD0mxm1rOO",
        "outputId": "788eea8b-76f6-4ce5-fc94-ed6a63e8c0f7"
      }
    },
    {
      "cell_type": "code",
      "execution_count": 35,
      "source": [
        "# 해당 그래프에는 1밖에 보이지 않기 때문에 1을 제외하고 구해준다.\r\n",
        "fred3.plot(kind='bar')"
      ],
      "outputs": [
        {
          "output_type": "execute_result",
          "data": {
            "text/plain": [
              "<AxesSubplot:>"
            ]
          },
          "metadata": {},
          "execution_count": 35
        },
        {
          "output_type": "display_data",
          "data": {
            "text/plain": [
              "<Figure size 432x288 with 1 Axes>"
            ],
            "image/png": "[encoded data removed]"
          },
          "metadata": {
            "needs_background": "light"
          }
        }
      ],
      "metadata": {
        "colab": {
          "base_uri": "https://localhost:8080/",
          "height": 306
        },
        "id": "hBMFs7sk1zO3",
        "outputId": "e8b1b5c4-578c-4b2b-f539-5a907c3a92b3"
      }
    },
    {
      "cell_type": "code",
      "execution_count": 36,
      "source": [
        "# 1개월을 제외하면 3개월이 가장 많은 빈도수를 차지한다.\r\n",
        "\r\n",
        "fred3_1 = fred3.iloc[1:]\r\n",
        "print(fred3_1)\r\n",
        "fred3_1.plot.bar()"
      ],
      "outputs": [
        {
          "output_type": "stream",
          "name": "stdout",
          "text": [
            "3.0     10686\n",
            "2.0      3431\n",
            "5.0      1220\n",
            "6.0       647\n",
            "10.0      252\n",
            "4.0       209\n",
            "12.0      206\n",
            "24.0       96\n",
            "8.0        32\n",
            "7.0        28\n",
            "9.0        25\n",
            "18.0       11\n",
            "20.0        6\n",
            "36.0        5\n",
            "22.0        4\n",
            "15.0        2\n",
            "Name: installments, dtype: int64\n"
          ]
        },
        {
          "output_type": "execute_result",
          "data": {
            "text/plain": [
              "<AxesSubplot:>"
            ]
          },
          "metadata": {},
          "execution_count": 36
        },
        {
          "output_type": "display_data",
          "data": {
            "text/plain": [
              "<Figure size 432x288 with 1 Axes>"
            ],
            "image/png": "[encoded data removed]"
          },
          "metadata": {
            "needs_background": "light"
          }
        }
      ],
      "metadata": {
        "colab": {
          "base_uri": "https://localhost:8080/",
          "height": 595
        },
        "id": "EJet_CJZ2zXV",
        "outputId": "4e8eeeda-4e04-4102-ef37-901a2f61bdc8"
      }
    },
    {
      "cell_type": "markdown",
      "source": [
        "\n",
        "나중에 두 개의 변수를 사용할 때 installments과 amount로 해봐야겠다."
      ],
      "metadata": {
        "id": "2hFz1FQx3fdq"
      }
    },
    {
      "cell_type": "markdown",
      "source": [
        "days_of_week 변수를 파악"
      ],
      "metadata": {
        "id": "dF9i93Zw4Z6Q"
      }
    },
    {
      "cell_type": "code",
      "execution_count": 37,
      "source": [
        "df.head(3)\r\n",
        "df_10 = df.iloc[:10]"
      ],
      "outputs": [],
      "metadata": {
        "colab": {
          "base_uri": "https://localhost:8080/",
          "height": 574
        },
        "id": "YgCM8FFn262F",
        "outputId": "edd7e0a1-4b35-4ea7-e02a-629f0176e459"
      }
    },
    {
      "cell_type": "code",
      "execution_count": 38,
      "source": [
        "# df의 days_of_week만 가져와서 value_counts()를 사용해서 요일별 결제 건수를 파악\r\n",
        "fred4 = df['days_of_week'].value_counts()\r\n",
        "fred4"
      ],
      "outputs": [
        {
          "output_type": "execute_result",
          "data": {
            "text/plain": [
              "5    533093\n",
              "4    511031\n",
              "3    472820\n",
              "2    471573\n",
              "1    467276\n",
              "6    462156\n",
              "0    444847\n",
              "Name: days_of_week, dtype: int64"
            ]
          },
          "metadata": {},
          "execution_count": 38
        }
      ],
      "metadata": {
        "colab": {
          "base_uri": "https://localhost:8080/"
        },
        "id": "C1Gtf3xY4sYo",
        "outputId": "591b9979-63b4-4921-e3e0-50e42ec79b96"
      }
    },
    {
      "cell_type": "code",
      "execution_count": 39,
      "source": [
        "# fred4를 sort_index()를 사용해서 요일별로 정렬해준다.\r\n",
        "fred4 = fred4.sort_index()\r\n",
        "fred4"
      ],
      "outputs": [
        {
          "output_type": "execute_result",
          "data": {
            "text/plain": [
              "0    444847\n",
              "1    467276\n",
              "2    471573\n",
              "3    472820\n",
              "4    511031\n",
              "5    533093\n",
              "6    462156\n",
              "Name: days_of_week, dtype: int64"
            ]
          },
          "metadata": {},
          "execution_count": 39
        }
      ],
      "metadata": {
        "colab": {
          "base_uri": "https://localhost:8080/"
        },
        "id": "Mz_d5K4u41ON",
        "outputId": "f1b57716-782b-4622-bacb-22dd68e03580"
      }
    },
    {
      "cell_type": "code",
      "execution_count": 40,
      "source": [
        "fred4.plot.bar()"
      ],
      "outputs": [
        {
          "output_type": "execute_result",
          "data": {
            "text/plain": [
              "<AxesSubplot:>"
            ]
          },
          "metadata": {},
          "execution_count": 40
        },
        {
          "output_type": "display_data",
          "data": {
            "text/plain": [
              "<Figure size 432x288 with 1 Axes>"
            ],
            "image/png": "[encoded data removed]"
          },
          "metadata": {
            "needs_background": "light"
          }
        }
      ],
      "metadata": {
        "colab": {
          "base_uri": "https://localhost:8080/",
          "height": 280
        },
        "id": "ngIRWOXR5Ar7",
        "outputId": "6441965a-25ae-4c41-b08d-3ea9f43fc377"
      }
    },
    {
      "cell_type": "code",
      "execution_count": 41,
      "source": [
        "# seaborn에 있는 countplot을 사용하면 x값을 넣어줘서 count의 개수를 구한다.\r\n",
        "sns.countplot(data=df, x='days_of_week')\r\n",
        "plt.show()"
      ],
      "outputs": [
        {
          "output_type": "display_data",
          "data": {
            "text/plain": [
              "<Figure size 432x288 with 1 Axes>"
            ],
            "image/png": "[encoded data removed]"
          },
          "metadata": {
            "needs_background": "light"
          }
        }
      ],
      "metadata": {
        "colab": {
          "base_uri": "https://localhost:8080/",
          "height": 280
        },
        "id": "gy3OG6g95kXF",
        "outputId": "e1932bec-4b9b-425d-eeaf-558385fe79f3"
      }
    },
    {
      "cell_type": "markdown",
      "source": [
        "holyday 변수에 관한 분석"
      ],
      "metadata": {
        "id": "4_NV3683-dPs"
      }
    },
    {
      "cell_type": "code",
      "execution_count": 42,
      "source": [
        "sns.countplot(data=df, x='holyday')\r\n",
        "plt.show()"
      ],
      "outputs": [
        {
          "output_type": "display_data",
          "data": {
            "text/plain": [
              "<Figure size 432x288 with 1 Axes>"
            ],
            "image/png": "[encoded data removed]"
          },
          "metadata": {
            "needs_background": "light"
          }
        }
      ],
      "metadata": {
        "colab": {
          "base_uri": "https://localhost:8080/",
          "height": 290
        },
        "id": "qJIOvQKf5xt1",
        "outputId": "889985c1-e822-4996-93a4-55f35ec92ee8"
      }
    },
    {
      "cell_type": "code",
      "execution_count": 44,
      "source": [
        "df_holyday_0 = df['holyday'] == 0\r\n",
        "df_holyday_1 = df['holyday'] == 1\r\n",
        "\r\n",
        "print(df_holyday_0.sum(), df_holyday_1.sum())"
      ],
      "outputs": [
        {
          "output_type": "stream",
          "name": "stdout",
          "text": [
            "3213781 149015\n"
          ]
        }
      ],
      "metadata": {
        "colab": {
          "base_uri": "https://localhost:8080/"
        },
        "id": "mQSWuBDB6sIs",
        "outputId": "5dbf1165-24dd-46e4-f004-5d01594f76be"
      }
    },
    {
      "cell_type": "code",
      "execution_count": 46,
      "source": [
        "df.head(3)"
      ],
      "outputs": [
        {
          "output_type": "execute_result",
          "data": {
            "text/plain": [
              "   store_id     card_id  amount  installments  days_of_week  holyday month  \\\n",
              "0         0  d297bba73f       5           1.0             2        0    12   \n",
              "1         0  d297bba73f      -5           1.0             2        0    12   \n",
              "2         0  0880849c05     144           1.0             0        0    12   \n",
              "\n",
              "  hour  \n",
              "0   18  \n",
              "1   18  \n",
              "2   12  "
            ],
            "text/html": [
              "<div>\n",
              "<style scoped>\n",
              "    .dataframe tbody tr th:only-of-type {\n",
              "        vertical-align: middle;\n",
              "    }\n",
              "\n",
              "    .dataframe tbody tr th {\n",
              "        vertical-align: top;\n",
              "    }\n",
              "\n",
              "    .dataframe thead th {\n",
              "        text-align: right;\n",
              "    }\n",
              "</style>\n",
              "<table border=\"1\" class=\"dataframe\">\n",
              "  <thead>\n",
              "    <tr style=\"text-align: right;\">\n",
              "      <th></th>\n",
              "      <th>store_id</th>\n",
              "      <th>card_id</th>\n",
              "      <th>amount</th>\n",
              "      <th>installments</th>\n",
              "      <th>days_of_week</th>\n",
              "      <th>holyday</th>\n",
              "      <th>month</th>\n",
              "      <th>hour</th>\n",
              "    </tr>\n",
              "  </thead>\n",
              "  <tbody>\n",
              "    <tr>\n",
              "      <th>0</th>\n",
              "      <td>0</td>\n",
              "      <td>d297bba73f</td>\n",
              "      <td>5</td>\n",
              "      <td>1.0</td>\n",
              "      <td>2</td>\n",
              "      <td>0</td>\n",
              "      <td>12</td>\n",
              "      <td>18</td>\n",
              "    </tr>\n",
              "    <tr>\n",
              "      <th>1</th>\n",
              "      <td>0</td>\n",
              "      <td>d297bba73f</td>\n",
              "      <td>-5</td>\n",
              "      <td>1.0</td>\n",
              "      <td>2</td>\n",
              "      <td>0</td>\n",
              "      <td>12</td>\n",
              "      <td>18</td>\n",
              "    </tr>\n",
              "    <tr>\n",
              "      <th>2</th>\n",
              "      <td>0</td>\n",
              "      <td>0880849c05</td>\n",
              "      <td>144</td>\n",
              "      <td>1.0</td>\n",
              "      <td>0</td>\n",
              "      <td>0</td>\n",
              "      <td>12</td>\n",
              "      <td>12</td>\n",
              "    </tr>\n",
              "  </tbody>\n",
              "</table>\n",
              "</div>"
            ]
          },
          "metadata": {},
          "execution_count": 46
        }
      ],
      "metadata": {
        "id": "mAI5GBP5_o9y"
      }
    },
    {
      "cell_type": "markdown",
      "source": [
        "month에 대한 분석"
      ],
      "metadata": {}
    },
    {
      "cell_type": "code",
      "execution_count": 56,
      "source": [
        "df['month'].unique()\r\n",
        "fred5 = df['month'].value_counts()\r\n",
        "fred5 = fred5.sort_index()\r\n",
        "fred5 # month별 count개수"
      ],
      "outputs": [
        {
          "output_type": "execute_result",
          "data": {
            "text/plain": [
              "01    258378\n",
              "02    250079\n",
              "03    310753\n",
              "04    318366\n",
              "05    331971\n",
              "06    332230\n",
              "07    334019\n",
              "08    237922\n",
              "09    240458\n",
              "10    244391\n",
              "11    239853\n",
              "12    264376\n",
              "Name: month, dtype: int64"
            ]
          },
          "metadata": {},
          "execution_count": 56
        }
      ],
      "metadata": {}
    },
    {
      "cell_type": "code",
      "execution_count": 50,
      "source": [
        "sns.countplot(data=df, x='month')"
      ],
      "outputs": [
        {
          "output_type": "execute_result",
          "data": {
            "text/plain": [
              "<AxesSubplot:xlabel='month', ylabel='count'>"
            ]
          },
          "metadata": {},
          "execution_count": 50
        },
        {
          "output_type": "display_data",
          "data": {
            "text/plain": [
              "<Figure size 432x288 with 1 Axes>"
            ],
            "image/png": "[encoded data removed]"
          },
          "metadata": {
            "needs_background": "light"
          }
        }
      ],
      "metadata": {}
    },
    {
      "cell_type": "markdown",
      "source": [
        "hour에 대한 분석"
      ],
      "metadata": {}
    },
    {
      "cell_type": "code",
      "execution_count": 63,
      "source": [
        "df['hour']\r\n",
        "temp = df['hour'].unique()\r\n",
        "temp.sort()\r\n",
        "temp # 00~23으로 시간을 표시함"
      ],
      "outputs": [
        {
          "output_type": "execute_result",
          "data": {
            "text/plain": [
              "array(['00', '01', '02', '03', '04', '05', '06', '07', '08', '09', '10',\n",
              "       '11', '12', '13', '14', '15', '16', '17', '18', '19', '20', '21',\n",
              "       '22', '23'], dtype=object)"
            ]
          },
          "metadata": {},
          "execution_count": 63
        }
      ],
      "metadata": {}
    },
    {
      "cell_type": "code",
      "execution_count": null,
      "source": [
        "fred6 = df['hour'].value_counts()\r\n",
        "fred6 = fred6.sort_index()\r\n",
        "fred6 # 시간대 별로 결제 횟수가 얼마인지 & 정렬까지"
      ],
      "outputs": [],
      "metadata": {}
    },
    {
      "cell_type": "code",
      "execution_count": 92,
      "source": [
        "plt.plot(temp,fred6,'b-o')\r\n",
        "plt.show()\r\n",
        "# 시간대 별 결제 횟수 시각화"
      ],
      "outputs": [
        {
          "output_type": "display_data",
          "data": {
            "text/plain": [
              "<Figure size 432x288 with 1 Axes>"
            ],
            "image/png": "[encoded data removed]"
          },
          "metadata": {
            "needs_background": "light"
          }
        }
      ],
      "metadata": {}
    },
    {
      "cell_type": "markdown",
      "source": [
        "두개의 column을 묶어서 분석"
      ],
      "metadata": {}
    },
    {
      "cell_type": "code",
      "execution_count": null,
      "source": [],
      "outputs": [],
      "metadata": {}
    }
  ]
}