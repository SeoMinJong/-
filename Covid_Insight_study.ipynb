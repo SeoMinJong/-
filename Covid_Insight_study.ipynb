{
 "cells": [
  {
   "cell_type": "markdown",
   "source": [
    "## 코로나 : 시각화를 통한 인사이트 도출"
   ],
   "metadata": {}
  },
  {
   "cell_type": "markdown",
   "source": [
    "**참고 팀**: https://visualisingkorea.com/"
   ],
   "metadata": {}
  },
  {
   "cell_type": "markdown",
   "source": [
    "### 1. 준비."
   ],
   "metadata": {}
  },
  {
   "cell_type": "code",
   "execution_count": 3,
   "source": [
    "# 필요한 라이브러리를 가져온다.\r\n",
    "import pandas as pd\r\n",
    "import numpy as np\r\n",
    "import seaborn as sns\r\n",
    "import scipy.stats as st\r\n",
    "import matplotlib.pyplot as plt\r\n",
    "\r\n",
    "# from sklearn.preprocessing import StandardScaler \r\n",
    "# from sklearn.cluster import KMeans\r\n",
    "# from sklearn.decomposition import PCA"
   ],
   "outputs": [],
   "metadata": {}
  },
  {
   "cell_type": "code",
   "execution_count": 4,
   "source": [
    "# Pandas 데이터 프레임에서 float을 소수점 4자리 까지 출력해 준다.\r\n",
    "pd.set_option(\"precision\",4)"
   ],
   "outputs": [],
   "metadata": {}
  },
  {
   "cell_type": "code",
   "execution_count": 5,
   "source": [
    "# 성가신 경고를 꺼준다.\r\n",
    "import warnings  \r\n",
    "warnings.filterwarnings('ignore')"
   ],
   "outputs": [],
   "metadata": {}
  },
  {
   "cell_type": "code",
   "execution_count": 7,
   "source": [
    "# 환자정보 데이터를 불러온다.\r\n",
    "df1 = pd.read_csv('C:/study_data/bigdata/별첨 2_DACON_코로나 데이터 분석_업데이트 2/data/PatientInfo.csv')"
   ],
   "outputs": [],
   "metadata": {}
  },
  {
   "cell_type": "code",
   "execution_count": 8,
   "source": [
    "df1.head()"
   ],
   "outputs": [
    {
     "output_type": "execute_result",
     "data": {
      "text/plain": [
       "   patient_id  global_num     sex birth_year  age country province  \\\n",
       "0  1000000001         2.0    male       1964  50s   Korea    Seoul   \n",
       "1  1000000002         5.0    male       1987  30s   Korea    Seoul   \n",
       "2  1000000003         6.0    male       1964  50s   Korea    Seoul   \n",
       "3  1000000004         7.0    male       1991  20s   Korea    Seoul   \n",
       "4  1000000005         9.0  female       1992  20s   Korea    Seoul   \n",
       "\n",
       "          city disease        infection_case  infection_order infected_by  \\\n",
       "0   Gangseo-gu     NaN       overseas inflow              1.0         NaN   \n",
       "1  Jungnang-gu     NaN       overseas inflow              1.0         NaN   \n",
       "2    Jongno-gu     NaN  contact with patient              2.0  2002000001   \n",
       "3      Mapo-gu     NaN       overseas inflow              1.0         NaN   \n",
       "4  Seongbuk-gu     NaN  contact with patient              2.0  1000000002   \n",
       "\n",
       "  contact_number symptom_onset_date confirmed_date released_date  \\\n",
       "0             75         2020-01-22     2020-01-23    2020-02-05   \n",
       "1             31                NaN     2020-01-30    2020-03-02   \n",
       "2             17                NaN     2020-01-30    2020-02-19   \n",
       "3              9         2020-01-26     2020-01-30    2020-02-15   \n",
       "4              2                NaN     2020-01-31    2020-02-24   \n",
       "\n",
       "  deceased_date     state  \n",
       "0           NaN  released  \n",
       "1           NaN  released  \n",
       "2           NaN  released  \n",
       "3           NaN  released  \n",
       "4           NaN  released  "
      ],
      "text/html": [
       "<div>\n",
       "<style scoped>\n",
       "    .dataframe tbody tr th:only-of-type {\n",
       "        vertical-align: middle;\n",
       "    }\n",
       "\n",
       "    .dataframe tbody tr th {\n",
       "        vertical-align: top;\n",
       "    }\n",
       "\n",
       "    .dataframe thead th {\n",
       "        text-align: right;\n",
       "    }\n",
       "</style>\n",
       "<table border=\"1\" class=\"dataframe\">\n",
       "  <thead>\n",
       "    <tr style=\"text-align: right;\">\n",
       "      <th></th>\n",
       "      <th>patient_id</th>\n",
       "      <th>global_num</th>\n",
       "      <th>sex</th>\n",
       "      <th>birth_year</th>\n",
       "      <th>age</th>\n",
       "      <th>country</th>\n",
       "      <th>province</th>\n",
       "      <th>city</th>\n",
       "      <th>disease</th>\n",
       "      <th>infection_case</th>\n",
       "      <th>infection_order</th>\n",
       "      <th>infected_by</th>\n",
       "      <th>contact_number</th>\n",
       "      <th>symptom_onset_date</th>\n",
       "      <th>confirmed_date</th>\n",
       "      <th>released_date</th>\n",
       "      <th>deceased_date</th>\n",
       "      <th>state</th>\n",
       "    </tr>\n",
       "  </thead>\n",
       "  <tbody>\n",
       "    <tr>\n",
       "      <th>0</th>\n",
       "      <td>1000000001</td>\n",
       "      <td>2.0</td>\n",
       "      <td>male</td>\n",
       "      <td>1964</td>\n",
       "      <td>50s</td>\n",
       "      <td>Korea</td>\n",
       "      <td>Seoul</td>\n",
       "      <td>Gangseo-gu</td>\n",
       "      <td>NaN</td>\n",
       "      <td>overseas inflow</td>\n",
       "      <td>1.0</td>\n",
       "      <td>NaN</td>\n",
       "      <td>75</td>\n",
       "      <td>2020-01-22</td>\n",
       "      <td>2020-01-23</td>\n",
       "      <td>2020-02-05</td>\n",
       "      <td>NaN</td>\n",
       "      <td>released</td>\n",
       "    </tr>\n",
       "    <tr>\n",
       "      <th>1</th>\n",
       "      <td>1000000002</td>\n",
       "      <td>5.0</td>\n",
       "      <td>male</td>\n",
       "      <td>1987</td>\n",
       "      <td>30s</td>\n",
       "      <td>Korea</td>\n",
       "      <td>Seoul</td>\n",
       "      <td>Jungnang-gu</td>\n",
       "      <td>NaN</td>\n",
       "      <td>overseas inflow</td>\n",
       "      <td>1.0</td>\n",
       "      <td>NaN</td>\n",
       "      <td>31</td>\n",
       "      <td>NaN</td>\n",
       "      <td>2020-01-30</td>\n",
       "      <td>2020-03-02</td>\n",
       "      <td>NaN</td>\n",
       "      <td>released</td>\n",
       "    </tr>\n",
       "    <tr>\n",
       "      <th>2</th>\n",
       "      <td>1000000003</td>\n",
       "      <td>6.0</td>\n",
       "      <td>male</td>\n",
       "      <td>1964</td>\n",
       "      <td>50s</td>\n",
       "      <td>Korea</td>\n",
       "      <td>Seoul</td>\n",
       "      <td>Jongno-gu</td>\n",
       "      <td>NaN</td>\n",
       "      <td>contact with patient</td>\n",
       "      <td>2.0</td>\n",
       "      <td>2002000001</td>\n",
       "      <td>17</td>\n",
       "      <td>NaN</td>\n",
       "      <td>2020-01-30</td>\n",
       "      <td>2020-02-19</td>\n",
       "      <td>NaN</td>\n",
       "      <td>released</td>\n",
       "    </tr>\n",
       "    <tr>\n",
       "      <th>3</th>\n",
       "      <td>1000000004</td>\n",
       "      <td>7.0</td>\n",
       "      <td>male</td>\n",
       "      <td>1991</td>\n",
       "      <td>20s</td>\n",
       "      <td>Korea</td>\n",
       "      <td>Seoul</td>\n",
       "      <td>Mapo-gu</td>\n",
       "      <td>NaN</td>\n",
       "      <td>overseas inflow</td>\n",
       "      <td>1.0</td>\n",
       "      <td>NaN</td>\n",
       "      <td>9</td>\n",
       "      <td>2020-01-26</td>\n",
       "      <td>2020-01-30</td>\n",
       "      <td>2020-02-15</td>\n",
       "      <td>NaN</td>\n",
       "      <td>released</td>\n",
       "    </tr>\n",
       "    <tr>\n",
       "      <th>4</th>\n",
       "      <td>1000000005</td>\n",
       "      <td>9.0</td>\n",
       "      <td>female</td>\n",
       "      <td>1992</td>\n",
       "      <td>20s</td>\n",
       "      <td>Korea</td>\n",
       "      <td>Seoul</td>\n",
       "      <td>Seongbuk-gu</td>\n",
       "      <td>NaN</td>\n",
       "      <td>contact with patient</td>\n",
       "      <td>2.0</td>\n",
       "      <td>1000000002</td>\n",
       "      <td>2</td>\n",
       "      <td>NaN</td>\n",
       "      <td>2020-01-31</td>\n",
       "      <td>2020-02-24</td>\n",
       "      <td>NaN</td>\n",
       "      <td>released</td>\n",
       "    </tr>\n",
       "  </tbody>\n",
       "</table>\n",
       "</div>"
      ]
     },
     "metadata": {},
     "execution_count": 8
    }
   ],
   "metadata": {}
  },
  {
   "cell_type": "code",
   "execution_count": 9,
   "source": [
    "# 컬럼의 자료형을 살펴본다.\r\n",
    "df1.info()\r\n",
    "# 명목형 컬럼이 많다."
   ],
   "outputs": [
    {
     "output_type": "stream",
     "name": "stdout",
     "text": [
      "<class 'pandas.core.frame.DataFrame'>\n",
      "RangeIndex: 4004 entries, 0 to 4003\n",
      "Data columns (total 18 columns):\n",
      " #   Column              Non-Null Count  Dtype  \n",
      "---  ------              --------------  -----  \n",
      " 0   patient_id          4004 non-null   int64  \n",
      " 1   global_num          2806 non-null   float64\n",
      " 2   sex                 3674 non-null   object \n",
      " 3   birth_year          3267 non-null   object \n",
      " 4   age                 3525 non-null   object \n",
      " 5   country             4004 non-null   object \n",
      " 6   province            4004 non-null   object \n",
      " 7   city                3926 non-null   object \n",
      " 8   disease             18 non-null     object \n",
      " 9   infection_case      3211 non-null   object \n",
      " 10  infection_order     31 non-null     float64\n",
      " 11  infected_by         899 non-null    object \n",
      " 12  contact_number      680 non-null    object \n",
      " 13  symptom_onset_date  535 non-null    object \n",
      " 14  confirmed_date      4001 non-null   object \n",
      " 15  released_date       1508 non-null   object \n",
      " 16  deceased_date       65 non-null     object \n",
      " 17  state               4004 non-null   object \n",
      "dtypes: float64(2), int64(1), object(15)\n",
      "memory usage: 563.2+ KB\n"
     ]
    }
   ],
   "metadata": {}
  },
  {
   "cell_type": "markdown",
   "source": [
    "### 2. 기초적인 탐색."
   ],
   "metadata": {}
  },
  {
   "cell_type": "code",
   "execution_count": 11,
   "source": [
    "# 결측치의 총 카운트.\r\n",
    "# df1.isnull().sum() # 컬럼별로 결측치를 집결할 수 있다.\r\n",
    "df1.isnull().sum().sum()"
   ],
   "outputs": [
    {
     "output_type": "execute_result",
     "data": {
      "text/plain": [
       "27910"
      ]
     },
     "metadata": {},
     "execution_count": 11
    }
   ],
   "metadata": {}
  },
  {
   "cell_type": "code",
   "execution_count": 14,
   "source": [
    "# 결측치를 시각화 해본다.\r\n",
    "plt.figure(figsize = (15,10))                                       # figsize=(가로, 세로) 크기.\r\n",
    "sns.heatmap(df1.isnull(), cmap='Blues', cbar=True)\r\n",
    "# hitmap = 데이터의 값에 따라서 값의 분포를 나타내줘서 표현할 수 있다. cmap = 그래프의 표현 방법 , cbar = 값의 농도에 따라 달라지는 색을 표시해주는 바\r\n",
    "plt.show()"
   ],
   "outputs": [
    {
     "output_type": "display_data",
     "data": {
      "text/plain": [
       "<Figure size 1080x720 with 2 Axes>"
      ],
      "image/png": "[encoded data removed]"
     },
     "metadata": {
      "needs_background": "light"
     }
    }
   ],
   "metadata": {}
  },
  {
   "cell_type": "code",
   "execution_count": null,
   "source": [
    "# 중복된 환자 ID는 없어 보인다.\r\n",
    "print(\"데이터 행의 수 = {}\".format(df1.shape[0]))                  # 데이터 행의 수 = 4004\r\n",
    "print(\"고유한 환자 ID 수 = {}\".format(df1.patient_id.nunique()))   # 고유한 환자 ID 수 = 4004"
   ],
   "outputs": [],
   "metadata": {}
  },
  {
   "cell_type": "code",
   "execution_count": null,
   "source": [
    "# 명목형 변수인 Sex를 시각화 해본다.\r\n",
    "sex_counts = df1.sex.value_counts()              \r\n",
    "sex_counts = sex_counts.sort_values(ascending=False)\r\n",
    "sex_counts.plot.bar(color='turquoise', alpha=0.7)\r\n",
    "plt.show()"
   ],
   "outputs": [],
   "metadata": {}
  },
  {
   "cell_type": "code",
   "execution_count": null,
   "source": [
    "# Age 변수의 유형 출력.\r\n",
    "df1.age.unique()"
   ],
   "outputs": [],
   "metadata": {}
  },
  {
   "cell_type": "code",
   "execution_count": null,
   "source": [
    "# 명목형 변수인 Age를 시각화 해본다.\n",
    "df1.age = df1.age.str.replace('s','',regex=True)                      # 's' 제거.\n",
    "age_counts = df1.age.value_counts()                                   # 도수표.\n",
    "age_counts = age_counts.sort_values(ascending=False)\n",
    "age_counts.plot.bar(color='green', alpha=0.5)\n",
    "plt.show()"
   ],
   "outputs": [],
   "metadata": {}
  },
  {
   "cell_type": "code",
   "execution_count": null,
   "source": [
    "# 명목형 변수인 Country를 가지고 국적별로 시각화 해본다.\n",
    "country_counts = df1.country.value_counts()                 \n",
    "country_counts = country_counts.sort_values(ascending=False)\n",
    "country_counts.plot.bar(color='pink', alpha = 0.7)\n",
    "plt.show()"
   ],
   "outputs": [],
   "metadata": {}
  },
  {
   "cell_type": "code",
   "execution_count": null,
   "source": [
    "# 명목형 변수인 Country를 가지고 내국인 여부를 시각화 해본다.\n",
    "country_counts = (df1.country == \"Korea\").value_counts()\n",
    "country_counts = country_counts.sort_values(ascending=False)\n",
    "country_counts.index = [\"Korean\", \"Foreigner\"]\n",
    "country_counts.plot.bar(color= \"pink\",alpha=0.7)\n",
    "plt.show()"
   ],
   "outputs": [],
   "metadata": {}
  },
  {
   "cell_type": "code",
   "execution_count": null,
   "source": [
    "# 기저질환 (disease)는 결측치 아닌 정상값의 수가 절대적으로 부족해서 분석하기 어려움.\n",
    "df1.disease.count()"
   ],
   "outputs": [],
   "metadata": {}
  },
  {
   "cell_type": "code",
   "execution_count": null,
   "source": [
    "# 명목형 변수인 State를 시각화 해본다.\n",
    "state_counts = df1.state.value_counts()              \n",
    "state_counts = state_counts.sort_values(ascending=False)\n",
    "state_counts.plot.bar(color='blue', alpha=0.5)\n",
    "plt.show()"
   ],
   "outputs": [],
   "metadata": {}
  },
  {
   "cell_type": "code",
   "execution_count": null,
   "source": [
    "# 명목형 변수인 Age와 Sex를 조합하여 시각화 해본다.\n",
    "ct = pd.crosstab(df1.age, df1.sex)\n",
    "ct['total'] = ct.male + ct.female                      # total 컬럼.\n",
    "ct.sort_values(by=['total'], ascending=False)[['male','female']].plot.bar(stacked=True)   # total로 소팅. total은 시각화에서는 제외!\n",
    "plt.show()"
   ],
   "outputs": [],
   "metadata": {}
  },
  {
   "cell_type": "code",
   "execution_count": null,
   "source": [
    "# Age별 사망비율.\n",
    "ct = pd.crosstab(df1.age, df1.state=='deceased')\n",
    "ct.columns = ['alive','deceased']\n",
    "ct['mortality'] = ct.deceased/(ct.alive + ct.deceased)\n",
    "ct.sort_values(by=['mortality'], ascending=False)[['mortality']].plot.bar(color='red', alpha=0.5)   # mortality로 소팅 및 시각화.\n",
    "plt.show()"
   ],
   "outputs": [],
   "metadata": {}
  },
  {
   "cell_type": "code",
   "execution_count": null,
   "source": [
    "# Age와 사망여부 독립성 검정.\n",
    "stat, p_val, degFree, expected = st.chi2_contingency(ct[['alive','deceased']])    # 통계량, p-값, 자유도, 기대도수.\n",
    "print(\"p_value : {}\".format(np.round(p_val,3)))                                   # 독립이 아님!"
   ],
   "outputs": [],
   "metadata": {}
  },
  {
   "cell_type": "code",
   "execution_count": null,
   "source": [
    "# Sex별 사망비율.\n",
    "ct = pd.crosstab(df1.sex, df1.state=='deceased')\n",
    "ct.columns = ['alive','deceased']\n",
    "ct['mortality'] = ct.deceased/(ct.alive + ct.deceased)\n",
    "ct.sort_values(by=['mortality'], ascending=False)[['mortality']].plot.bar(color='green', alpha=0.5)   # mortality로 소팅 및 시각화.\n",
    "plt.show()"
   ],
   "outputs": [],
   "metadata": {}
  },
  {
   "cell_type": "code",
   "execution_count": null,
   "source": [
    "# Sex와 사망여부 독립성 검정.\n",
    "stat, p_val, degFree, expected = st.chi2_contingency(ct[['alive','deceased']])    # 통계량, p-값, 자유도, 기대도수.\n",
    "print(\"p_value : {}\".format(np.round(p_val,3)))                                   # 독립이 아님!"
   ],
   "outputs": [],
   "metadata": {}
  },
  {
   "cell_type": "markdown",
   "source": [
    "### 3. 감염 경로 유형 (Infection Case)"
   ],
   "metadata": {}
  },
  {
   "cell_type": "code",
   "execution_count": null,
   "source": [
    "# 감염 경로의 유형 출력.\n",
    "print(df1.infection_case.unique())"
   ],
   "outputs": [],
   "metadata": {}
  },
  {
   "cell_type": "code",
   "execution_count": null,
   "source": [
    "# 감염 경로의 가지수 출력.\n",
    "print(df1.infection_case.nunique())"
   ],
   "outputs": [],
   "metadata": {}
  },
  {
   "cell_type": "code",
   "execution_count": null,
   "source": [
    "# 감염 경로별 환자수 집계하여 시각화 한다.\n",
    "res = df1.groupby(['infection_case'])['patient_id'].count()        # 결측치가 아닌 patient_id의 수 = 환자의 수.\n",
    "res = res.reset_index()                                           # Series => DataFrame. 이전의 Index가 이제는 새로운 컬럼!\n",
    "res.rename(columns = {'infection_case':'infection case', 'patient_id': 'count'}, inplace = True)     # 'patient_id' 컬럼명을 'count'로 변경.\n",
    "res = res.sort_values(by = 'count', ascending = False)            # 데이터 프레임 내림 차순으로 소팅.\n",
    "\n",
    "plt.figure(figsize = (12,6))                                       # figsize=(가로, 세로) 크기.\n",
    "sns.barplot(y = 'infection case', x= 'count', data = res)\n",
    "plt.title('Number of Patients per Infection Case')\n",
    "plt.show()"
   ],
   "outputs": [],
   "metadata": {}
  },
  {
   "cell_type": "code",
   "execution_count": null,
   "source": [
    "# 헬퍼 함수 정의.\n",
    "def my_conversion_func(x):\n",
    "    if not pd.isnull(x):\n",
    "        if x in my_dict.keys():\n",
    "            return my_dict[x]\n",
    "        else:\n",
    "            return \"Group\"\n",
    "    else:\n",
    "        return \"Unknown\""
   ],
   "outputs": [],
   "metadata": {}
  },
  {
   "cell_type": "code",
   "execution_count": null,
   "source": [
    "# 다음과 같이 유형의 label을 바꾸어서 다시 집계 및 시각화 해본다.\n",
    "# 'contact with patient' => 'Individual'     개인접촉\n",
    "# 'etc'  or NaN         => 'Unknown'         모름\n",
    "# 'overseas inflow'     => 'Overseas'        해외\n",
    "#  나머지               => 'Group'            집단\n",
    "\n",
    "my_dict = {'contact with patient':'Individual', 'etc':'Unknown', 'overseas inflow': 'Overseas'}\n",
    "res = df1.infection_case.apply(lambda x: my_dict[x] if x in my_dict.keys() else 'Group' if not pd.isnull(x) else 'Unknown')  # 변환! Pythonic!\n",
    "#res = df1.infection_case.apply(my_conversion_func)    # 또다른 방법.\n",
    "df1['infection_cause'] = res  # 변환을 df1에도 적용.\n",
    "\n",
    "# 다시 집계하여 시각화 해본다.\n",
    "res = res.value_counts().sort_values(ascending=False)\n",
    "res = res.reset_index()                                                               # Series => DataFrame. 이전의 Index가 이제는 새로운 컬럼!\n",
    "res.rename(columns={'index':'infection_cause','infection_case':'count'},inplace=True)\n",
    "\n",
    "plt.figure(figsize = (12,6))                                       # figsize=(가로, 세로) 크기.\n",
    "sns.barplot(y = 'infection_cause', x= 'count', data = res, alpha=0.8)\n",
    "plt.title('Number of Patients per Infection Cause')\n",
    "plt.show()"
   ],
   "outputs": [],
   "metadata": {}
  },
  {
   "cell_type": "markdown",
   "source": [
    "**결론**: 유입 경로를 4가지로 요약해 봄."
   ],
   "metadata": {}
  },
  {
   "cell_type": "markdown",
   "source": [
    "### 4. 유동성 (Mobility Level)"
   ],
   "metadata": {}
  },
  {
   "cell_type": "code",
   "execution_count": null,
   "source": [
    "# 새롭게 유입경로 데이터를 불러온다.\n",
    "df2 = pd.read_csv(r'.\\data\\PatientRoute.csv')"
   ],
   "outputs": [],
   "metadata": {}
  },
  {
   "cell_type": "code",
   "execution_count": null,
   "source": [
    "df2.head()"
   ],
   "outputs": [],
   "metadata": {}
  },
  {
   "cell_type": "code",
   "execution_count": null,
   "source": [
    "# 결측치의 총 카운트.\n",
    "df2.isnull().sum().sum()"
   ],
   "outputs": [],
   "metadata": {}
  },
  {
   "cell_type": "code",
   "execution_count": null,
   "source": [
    "# 결측치를 시각화 해본다.\n",
    "plt.figure(figsize = (10,10))                                       # figsize=(가로, 세로) 크기.\n",
    "sns.heatmap(df2.isnull(), cmap='Blues', cbar=False)\n",
    "plt.show()"
   ],
   "outputs": [],
   "metadata": {}
  },
  {
   "cell_type": "code",
   "execution_count": null,
   "source": [
    "# 중복된 환자 ID가 많아 보인다.\n",
    "print(\"데이터 행의 수 = {}\".format(df2.shape[0]))\n",
    "print(\"고유한 환자 ID 수 = {}\".format(df2.patient_id.nunique()))"
   ],
   "outputs": [],
   "metadata": {}
  },
  {
   "cell_type": "code",
   "execution_count": null,
   "source": [
    "# 이동 경로의 유형 출력.\n",
    "print(format(df2.type.unique()))"
   ],
   "outputs": [],
   "metadata": {}
  },
  {
   "cell_type": "code",
   "execution_count": null,
   "source": [
    "# 이동 경로의 가지수 출력.\n",
    "print(format(df2.type.nunique()))"
   ],
   "outputs": [],
   "metadata": {}
  },
  {
   "cell_type": "code",
   "execution_count": null,
   "source": [
    "# 이동 경로의 유형을 카테고리로 표현해 본다.\n",
    "leisure = ['library', 'theater', 'cafe', 'bakery', 'beauty_salon',\n",
    "          'pc_cafe', 'billiards','restaurant', 'bar', 'karaoke']\n",
    "travel = ['airport', 'lodging']\n",
    "essential_edu = ['primary_school', 'school', 'university']\n",
    "non_essential_edu = ['academy']\n",
    "exercise = ['gym', 'mountain', 'park']\n",
    "essential_admin = ['administrative_area_level_1', 'governmnet_office', 'post_office']\n",
    "non_essential_admin = ['police_office', 'bank', 'real_estate_agency']\n",
    "necessity = ['store', 'public_transportation', 'gas_station']\n",
    "medical = ['hospital', 'pharmacy']\n",
    "church = ['church']\n",
    "etc = ['etc']"
   ],
   "outputs": [],
   "metadata": {}
  },
  {
   "cell_type": "code",
   "execution_count": null,
   "source": [
    "# \"필수적\" 카테고리는 다음과 같이 정의한다.\n",
    "essential = essential_edu + essential_admin + necessity + medical \n",
    "len(essential)"
   ],
   "outputs": [],
   "metadata": {}
  },
  {
   "cell_type": "code",
   "execution_count": null,
   "source": [
    "# 필수/부수적 여부 변수 'is_essential' 파생변수로 추가.\n",
    "def isessential(x):     \n",
    "    if x in essential: \n",
    "        res = True\n",
    "    else:\n",
    "        res = False \n",
    "    return res\n",
    "df2['is_essential'] = df2['type'].apply(lambda x: isessential(x)) \n",
    "\n",
    "# 데이터 프레임 간추리기.\n",
    "df2 = df2[['patient_id', 'type', 'is_essential']]\n",
    "df2.head()"
   ],
   "outputs": [],
   "metadata": {}
  },
  {
   "cell_type": "code",
   "execution_count": null,
   "source": [
    "# 동일 환자의 경로 유형을 집계한다 (sum).\n",
    "# 결측치는 0으로 채운다.\n",
    "df2['route_value'] = 1       # 1 로 채워진 컬럼을 추가해서 집계의 목적으로 사용한다.\n",
    "df3 = pd.pivot_table(data=df2, index = 'patient_id', columns = 'is_essential', values= 'route_value', aggfunc='sum', fill_value=0)\n",
    "df3.head()"
   ],
   "outputs": [],
   "metadata": {}
  },
  {
   "cell_type": "code",
   "execution_count": null,
   "source": [
    "# Index로 있는 patient_id를 컬럼으로 빼내고 정리한다.\n",
    "df3.columns.name=None\n",
    "df3 = df3.reset_index()\n",
    "df3 = df3.rename(columns={False:'non_essential',True:'essential'})\n",
    "df3.head()"
   ],
   "outputs": [],
   "metadata": {}
  },
  {
   "cell_type": "code",
   "execution_count": null,
   "source": [
    "# df1 (PatientInfo)와 df3 (PatientRoute 요약)을 Inner Join 해서 가로 방향으로 붙여서 df_joined를 만든다.\n",
    "df_joined = df1.merge(df3, left_on = 'patient_id', right_on = 'patient_id' , how='inner')"
   ],
   "outputs": [],
   "metadata": {}
  },
  {
   "cell_type": "code",
   "execution_count": null,
   "source": [
    "# 살펴본다.\n",
    "df_joined.head()"
   ],
   "outputs": [],
   "metadata": {}
  },
  {
   "cell_type": "code",
   "execution_count": null,
   "source": [
    "# 모든 환자에 대해서 동선이 명확한 것이 아니기 때문에 Join 후 대폭 행의 수가 줄어 들었다.\n",
    "print(\"Number of Rows Before = {}\".format(len(df1)))\n",
    "print(\"Number of Rows After = {}\".format(len(df_joined)))"
   ],
   "outputs": [],
   "metadata": {}
  },
  {
   "cell_type": "markdown",
   "source": [
    "### 5. 접촉 빈도 (Number of Contacts)"
   ],
   "metadata": {}
  },
  {
   "cell_type": "code",
   "execution_count": null,
   "source": [
    "# contact_number가 결측치가 아니고 '-'가 아닌 행들만 가져온다. '-'는 오류로 유입된 값인듯.\n",
    "res = df_joined.contact_number\n",
    "df_joined = df_joined[~res.isnull() & (res != '-')]"
   ],
   "outputs": [],
   "metadata": {}
  },
  {
   "cell_type": "code",
   "execution_count": null,
   "source": [
    "# contact_number의 자료형을 integer로 변경하고 이상값은 제거한다.\n",
    "df_joined['contact_number'] = df_joined.contact_number.astype(int)\n",
    "df_joined = df_joined[df_joined.contact_number < 10000]"
   ],
   "outputs": [],
   "metadata": {}
  },
  {
   "cell_type": "code",
   "execution_count": null,
   "source": [
    "# 최대 첩촉빈도.\n",
    "df_joined.contact_number.max()"
   ],
   "outputs": [],
   "metadata": {}
  },
  {
   "cell_type": "code",
   "execution_count": null,
   "source": [
    "# 최대 첩촉빈도에 해당하는 환자.\n",
    "df_joined[df_joined.contact_number == df_joined.contact_number.max()]"
   ],
   "outputs": [],
   "metadata": {}
  },
  {
   "cell_type": "code",
   "execution_count": null,
   "source": [
    "# 필요한 컬럼만 가져와서 정리한다.\n",
    "df4 = df_joined[['patient_id', 'contact_number', 'essential','non_essential','infection_cause']]\n",
    "df4.head()"
   ],
   "outputs": [],
   "metadata": {}
  },
  {
   "cell_type": "code",
   "execution_count": null,
   "source": [
    "# 접촉 빈도를 히스토그램으로 시각화 한다.\n",
    "sns.distplot(df4.contact_number,bins=50)\n",
    "plt.show()"
   ],
   "outputs": [],
   "metadata": {}
  },
  {
   "cell_type": "markdown",
   "source": [
    "### 6. 군집화 (Clustering)"
   ],
   "metadata": {}
  },
  {
   "cell_type": "code",
   "execution_count": null,
   "source": [
    "# Infection_cause를 가변수 처리한다.\n",
    "df4 = df4.join(pd.get_dummies(df4.infection_cause, prefix='infection',drop_first=False))"
   ],
   "outputs": [],
   "metadata": {}
  },
  {
   "cell_type": "code",
   "execution_count": null,
   "source": [
    "df4"
   ],
   "outputs": [],
   "metadata": {
    "scrolled": true
   }
  },
  {
   "cell_type": "code",
   "execution_count": null,
   "source": [
    "df_final = df4[ ['essential', 'non_essential', 'contact_number',\n",
    "          'infection_Group', 'infection_Individual', 'infection_Overseas', 'infection_Unknown']]"
   ],
   "outputs": [],
   "metadata": {}
  },
  {
   "cell_type": "code",
   "execution_count": null,
   "source": [
    "df_final"
   ],
   "outputs": [],
   "metadata": {}
  },
  {
   "cell_type": "code",
   "execution_count": null,
   "source": [
    "# 컬럼의 표준화를 실행한다.\n",
    "X = df_final.values                        \n",
    "my_scaler = StandardScaler()\n",
    "X = my_scaler.fit_transform(X)"
   ],
   "outputs": [],
   "metadata": {}
  },
  {
   "cell_type": "code",
   "execution_count": null,
   "source": [
    "# 군집의 수 = 4로 정하고 군집화를 실행한다.  <= 군집의 수 최적화가 선행되어야 한다! (부록 참고)\n",
    "my_km = KMeans(n_clusters = 4, random_state = 123)\n",
    "my_km.fit(X)\n",
    "\n",
    "my_centroids = my_km.cluster_centers_               # 개개 군집의 중심점.\n",
    "my_cluster_labels = my_km.labels_                   # 군집 label."
   ],
   "outputs": [],
   "metadata": {}
  },
  {
   "cell_type": "code",
   "execution_count": null,
   "source": [
    "# 클러스터 중심을 출력하고 해석한다.\n",
    "pd.DataFrame(my_centroids,columns = df_final.columns)"
   ],
   "outputs": [],
   "metadata": {}
  },
  {
   "cell_type": "markdown",
   "source": [
    "**해석:** <br>\n",
    "- Label 0 (red): Social minimalists.\n",
    "- Label 1 (blue): Hyper-mobile and hyper-social.\n",
    "- Label 2 (green): Overseas non-essentialists. \n",
    "- Label 3 (yellow): Moderate unknwons."
   ],
   "metadata": {}
  },
  {
   "cell_type": "code",
   "execution_count": null,
   "source": [
    "# PCA 차원축소 (2차원).\n",
    "my_pca = PCA(n_components = 2)\n",
    "transformed_comps = my_pca.fit_transform(X)         # Transformed 된 좌표.\n",
    "df_transformed_comps = pd.DataFrame(data = transformed_comps, columns = ['PC1', 'PC2'])\n",
    "df_transformed_comps=df_transformed_comps.join(pd.Series(my_cluster_labels, name='cluster_label'))\n",
    "df_transformed_comps"
   ],
   "outputs": [],
   "metadata": {}
  },
  {
   "cell_type": "code",
   "execution_count": null,
   "source": [
    "# 산점도 시각화.\n",
    "my_colors = {0:'red',1:'blue',2:'green',3:'yellow'}    # 군집 label => Color.\n",
    "my_names = {0: 'Social minimalists.', 1: 'Hyper-mobile and hyper-social.' , 2: 'Overseas non-essentialists.', 3: 'Moderate unknwons.'} # 군집 label => 명칭.\n",
    "\n",
    "plt.figure(figsize = (6,6))\n",
    "for a_cluster_n, df_small in df_transformed_comps.groupby('cluster_label'):\n",
    "    plt.scatter('PC1', 'PC2', data = df_small, c = my_colors[a_cluster_n], label = my_names[a_cluster_n], s = 10, alpha=0.6 )\n",
    "plt.xlabel('PC1')\n",
    "plt.ylabel('PC2')\n",
    "plt.title('Clusters')\n",
    "plt.legend(loc=4)\n",
    "plt.show()"
   ],
   "outputs": [],
   "metadata": {}
  },
  {
   "cell_type": "markdown",
   "source": [
    "### 부록: 군집의 수 최적화"
   ],
   "metadata": {}
  },
  {
   "cell_type": "code",
   "execution_count": null,
   "source": [
    "# 군집의 수를 키워가며 Sum of Squares Within을 계산한다.\n",
    "ssw = []\n",
    "cluster_ns = range(2,16)\n",
    "for n in cluster_ns:\n",
    "    my_cluster = KMeans(n)\n",
    "    my_cluster.fit(X)\n",
    "    ssw += [my_cluster.inertia_]         # SSW를 모아둔다.\n",
    "\n",
    "plt.figure(figsize = (6,6))\n",
    "plt.plot(cluster_ns, ssw)\n",
    "plt.title('Elbow Method')\n",
    "plt.xlabel('Number of Clusters')\n",
    "plt.ylabel('Sum of Squares Within')\n",
    "plt.show()"
   ],
   "outputs": [],
   "metadata": {}
  },
  {
   "cell_type": "markdown",
   "source": [
    "**결론**: 군집의 수가 5 이상일 때 SSW의 감소 속도가 둔화된다. => 군집의 적정 수 = 4."
   ],
   "metadata": {}
  },
  {
   "cell_type": "code",
   "execution_count": null,
   "source": [],
   "outputs": [],
   "metadata": {}
  }
 ],
 "metadata": {
  "kernelspec": {
   "name": "python3",
   "display_name": "Python 3.8.10 64-bit ('AI': conda)"
  },
  "language_info": {
   "codemirror_mode": {
    "name": "ipython",
    "version": 3
   },
   "file_extension": ".py",
   "mimetype": "text/x-python",
   "name": "python",
   "nbconvert_exporter": "python",
   "pygments_lexer": "ipython3",
   "version": "3.8.10"
  },
  "interpreter": {
   "hash": "a5687bde95fd6fca2ec3b85cb3c9285f22ecff7124cf9696e13fa92a9bda5109"
  }
 },
 "nbformat": 4,
 "nbformat_minor": 4
}